{
 "cells": [
  {
   "cell_type": "code",
   "execution_count": 2,
   "metadata": {},
   "outputs": [],
   "source": [
    "import random\n",
    "import numpy as np\n",
    "from matplotlib import pyplot as plt\n",
    "\n",
    "%matplotlib inline\n",
    "plt.rcParams['font.size'] = 24\n",
    "\n",
    "import qiskit\n",
    "from qiskit import Aer\n",
    "from qiskit.ignis.measurement.discriminator.linear import LinearIQDiscriminationFitter\n",
    "from qiskit.ignis.mitigation.measurement import circuits\n",
    "from qiskit.result.models import ExperimentResultData"
   ]
  },
  {
   "cell_type": "code",
   "execution_count": 3,
   "metadata": {},
   "outputs": [],
   "source": [
    "# Functions to make up some fake level 1 data for the qubits\n",
    "# This could be replaced by Aer simulation once level 1 simulation\n",
    "# Is available.\n",
    "def qubit_shot(i0, q0, std):\n",
    "    return [i0 + random.gauss(0, std), q0 + random.gauss(0, std)]\n",
    "\n",
    "def create_shots(i0, q0, shots, qubits):\n",
    "    \"\"\"Creates data where all qubits are centered around i0 and q0\"\"\"\n",
    "    data = []\n",
    "    for ii in range(shots):\n",
    "        shot = []\n",
    "        for qbit in qubits:\n",
    "            shot.append(qubit_shot(i0, q0, 0.1))\n",
    "        data.append(shot)\n",
    "\n",
    "    return data"
   ]
  },
  {
   "cell_type": "markdown",
   "metadata": {},
   "source": [
    "## Prepare some test data for the discriminators"
   ]
  },
  {
   "cell_type": "code",
   "execution_count": 4,
   "metadata": {},
   "outputs": [
    {
     "data": {
      "text/html": [
       "<pre style=\"word-wrap: normal;white-space: pre;background: #fff0;line-height: 1.1;font-family: &quot;Courier New&quot;,Courier,monospace\">          ░ ┌─┐   \n",
       "q0_0: |0>─░─┤M├───\n",
       "          ░ └╥┘┌─┐\n",
       "q0_1: |0>─░──╫─┤M├\n",
       "          ░  ║ └╥┘\n",
       " c0_0: 0 ════╩══╬═\n",
       "                ║ \n",
       " c0_1: 0 ═══════╩═\n",
       "                  </pre>"
      ],
      "text/plain": [
       "<qiskit.visualization.text.TextDrawing at 0x7f494c6963c8>"
      ]
     },
     "execution_count": 4,
     "metadata": {},
     "output_type": "execute_result"
    }
   ],
   "source": [
    "shots = 512\n",
    "qubits = [0, 1]\n",
    "\n",
    "meas_cal, state_labels = circuits.tensored_meas_cal([[0], [1]])\n",
    "\n",
    "backend = Aer.get_backend('qasm_simulator')\n",
    "job = qiskit.execute(meas_cal, backend=backend, shots=shots, meas_level=1)\n",
    "\n",
    "cal_results = job.result()\n",
    "\n",
    "i0, q0, i1, q1 = 0., -1., 0., 1.\n",
    "\n",
    "# This will no longer be needed once Aer can do level 1.\n",
    "ground = create_shots(i0, q0, shots, qubits)\n",
    "excited = create_shots(i1, q1, shots, qubits)\n",
    "\n",
    "cal_results.results[0].meas_level = 1\n",
    "cal_results.results[1].meas_level = 1\n",
    "cal_results.results[0].data = ExperimentResultData(memory=ground)\n",
    "cal_results.results[1].data = ExperimentResultData(memory=excited)\n",
    "\n",
    "discriminator_params = {'solver': 'svd'}\n",
    "\n",
    "meas_cal[0].draw()"
   ]
  },
  {
   "cell_type": "code",
   "execution_count": 5,
   "metadata": {},
   "outputs": [
    {
     "data": {
      "text/html": [
       "<pre style=\"word-wrap: normal;white-space: pre;background: #fff0;line-height: 1.1;font-family: &quot;Courier New&quot;,Courier,monospace\">         ┌───┐ ░ ┌─┐   \n",
       "q0_0: |0>┤ X ├─░─┤M├───\n",
       "         ├───┤ ░ └╥┘┌─┐\n",
       "q0_1: |0>┤ X ├─░──╫─┤M├\n",
       "         └───┘ ░  ║ └╥┘\n",
       " c0_0: 0 ═════════╩══╬═\n",
       "                     ║ \n",
       " c0_1: 0 ════════════╩═\n",
       "                       </pre>"
      ],
      "text/plain": [
       "<qiskit.visualization.text.TextDrawing at 0x7f494c6966d8>"
      ]
     },
     "execution_count": 5,
     "metadata": {},
     "output_type": "execute_result"
    }
   ],
   "source": [
    "meas_cal[1].draw()"
   ]
  },
  {
   "cell_type": "markdown",
   "metadata": {},
   "source": [
    "## Two-qubit discriminator"
   ]
  },
  {
   "cell_type": "code",
   "execution_count": 6,
   "metadata": {},
   "outputs": [
    {
     "name": "stdout",
     "output_type": "stream",
     "text": [
      "The IQ point (0.0,1.0,0.0,1.0) correspnds to state 11.\n",
      "The IQ point (0.0,-1.0,0.0,-1.0) correspnds to state 00.\n"
     ]
    }
   ],
   "source": [
    "# Discriminator trained on boths qubits.\n",
    "discriminator_2q = LinearIQDiscriminationFitter(cal_results,\n",
    "                                             discriminator_params,\n",
    "                                             qubits,\n",
    "                                             ['cal_00', 'cal_11'],\n",
    "                                             ['00', '11'])\n",
    "\n",
    "# Examplify the Liniear discriminator\n",
    "point1 = [i1, q1, i1, q1]\n",
    "predicted1 = discriminator_2q.fit_fun.predict([point1])\n",
    "\n",
    "point2 = [i0, q0, i0, q0]\n",
    "predicted2 = discriminator_2q.fit_fun.predict([point2])\n",
    "\n",
    "text = 'The IQ point ({},{},{},{}) correspnds to state {}.'\n",
    "print(text.format(*point1, predicted1[0]))\n",
    "print(text.format(*point2, predicted2[0]))"
   ]
  },
  {
   "cell_type": "markdown",
   "metadata": {},
   "source": [
    "## Discrimination of a single qubit state"
   ]
  },
  {
   "cell_type": "code",
   "execution_count": 7,
   "metadata": {},
   "outputs": [],
   "source": [
    "# Discriminator trained on the first qubit only.\n",
    "qubit = 0\n",
    "\n",
    "discriminator_1q = LinearIQDiscriminationFitter(cal_results,\n",
    "                                             discriminator_params,\n",
    "                                             [qubit],\n",
    "                                             ['cal_00', 'cal_11'],\n",
    "                                             ['0', '1'])"
   ]
  },
  {
   "cell_type": "code",
   "execution_count": 8,
   "metadata": {},
   "outputs": [],
   "source": [
    "iq_range = 1.5*max(i0, q0, i1, q1)\n",
    "spacing = 0.005\n",
    "xx, yy = np.meshgrid(np.arange(-iq_range, iq_range, spacing), \n",
    "                     np.arange(-iq_range, iq_range, spacing))\n",
    "\n",
    "Z = discriminator_1q.fit_fun.predict(np.c_[xx.ravel(), yy.ravel()])\n",
    "Z = Z.astype(float).reshape(xx.shape)"
   ]
  },
  {
   "cell_type": "code",
   "execution_count": 9,
   "metadata": {},
   "outputs": [],
   "source": [
    "# Convert the data to something more usable.\n",
    "from qiskit.result.postprocess import _list_to_complex_array\n",
    "ground_shots = _list_to_complex_array(ground)\n",
    "excited_shots = _list_to_complex_array(excited)"
   ]
  },
  {
   "cell_type": "code",
   "execution_count": 10,
   "metadata": {},
   "outputs": [
    {
     "data": {
      "image/png": "[encoded data removed]",
      "text/plain": [
       "<Figure size 1008x576 with 1 Axes>"
      ]
     },
     "metadata": {
      "needs_background": "light"
     },
     "output_type": "display_data"
    }
   ],
   "source": [
    "fig, ax = plt.subplots(1, 1, figsize=(14,8))\n",
    "ax.contourf(xx, yy, Z, cmap=plt.cm.RdBu, alpha=.2)\n",
    "plt.scatter(np.real(excited_shots[:, 0]), np.imag(excited_shots[:, 0]), label='Excited state')\n",
    "plt.scatter(np.real(ground_shots[:, 0]), np.imag(ground_shots[:, 0]), label='Ground state')\n",
    "plt.legend(frameon=False)\n",
    "plt.xlabel('I (arb. units)')\n",
    "plt.ylabel('Q (arb. units)')\n",
    "plt.title('Discrimination of qubit {}'.format(qubit));"
   ]
  },
  {
   "cell_type": "code",
   "execution_count": null,
   "metadata": {},
   "outputs": [],
   "source": []
  }
 ],
 "metadata": {
  "kernelspec": {
   "display_name": "Python 3",
   "language": "python",
   "name": "python3"
  },
  "language_info": {
   "codemirror_mode": {
    "name": "ipython",
    "version": 3
   },
   "file_extension": ".py",
   "mimetype": "text/x-python",
   "name": "python",
   "nbconvert_exporter": "python",
   "pygments_lexer": "ipython3",
   "version": "3.7.3"
  }
 },
 "nbformat": 4,
 "nbformat_minor": 2
}
