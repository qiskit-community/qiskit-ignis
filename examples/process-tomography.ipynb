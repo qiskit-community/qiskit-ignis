{
 "cells": [
  {
   "cell_type": "markdown",
   "metadata": {},
   "source": [
    "# Quantum Process Tomography\n",
    "\n",
    "* **Last Updated:** Feb 20, 2019\n",
    "* **Requires:** qiskit-terra 0.7"
   ]
  },
  {
   "cell_type": "code",
   "execution_count": 1,
   "metadata": {},
   "outputs": [],
   "source": [
    "# Needed for functions\n",
    "import numpy as np\n",
    "import time\n",
    "\n",
    "# Import QISKit classes\n",
    "import qiskit\n",
    "from qiskit import QuantumRegister, QuantumCircuit, Aer\n",
    "from qiskit.quantum_info import state_fidelity\n",
    "from qiskit.tools.qi.qi import outer\n",
    "\n",
    "# Tomography functions\n",
    "import sys, os\n",
    "sys.path.append(os.path.abspath(os.path.join('..')))\n",
    "from qiskit.ignis.verification.tomography import process_tomography_circuits, ProcessTomographyFitter"
   ]
  },
  {
   "cell_type": "markdown",
   "metadata": {},
   "source": [
    "## 1-qubit process tomography example"
   ]
  },
  {
   "cell_type": "code",
   "execution_count": 2,
   "metadata": {},
   "outputs": [
    {
     "data": {
      "text/plain": [
       "{(('Zp',), ('X',)): {'0': 4000},\n",
       " (('Zp',), ('Y',)): {'1': 1958, '0': 2042},\n",
       " (('Zp',), ('Z',)): {'1': 2032, '0': 1968},\n",
       " (('Zm',), ('X',)): {'1': 4000},\n",
       " (('Zm',), ('Y',)): {'1': 1966, '0': 2034},\n",
       " (('Zm',), ('Z',)): {'1': 2010, '0': 1990},\n",
       " (('Xp',), ('X',)): {'1': 1977, '0': 2023},\n",
       " (('Xp',), ('Y',)): {'1': 2019, '0': 1981},\n",
       " (('Xp',), ('Z',)): {'0': 4000},\n",
       " (('Yp',), ('X',)): {'1': 2000, '0': 2000},\n",
       " (('Yp',), ('Y',)): {'1': 4000},\n",
       " (('Yp',), ('Z',)): {'1': 2001, '0': 1999}}"
      ]
     },
     "execution_count": 2,
     "metadata": {},
     "output_type": "execute_result"
    }
   ],
   "source": [
    "# Process tomography of a Hadamard gate\n",
    "q = QuantumRegister(1)\n",
    "circ = QuantumCircuit(q)\n",
    "circ.h(q[0])\n",
    "\n",
    "# Run circuit on unitary simulator to find ideal unitary\n",
    "job = qiskit.execute(circ, Aer.get_backend('unitary_simulator'))\n",
    "ideal_unitary = job.result().get_unitary(circ)\n",
    "# convert to Choi-matrix in column-major convention\n",
    "choi_ideal = outer(ideal_unitary.ravel(order='F'))\n",
    "\n",
    "# Generate process tomography circuits and run on qasm simulator\n",
    "qpt_circs = process_tomography_circuits(circ, q)\n",
    "job = qiskit.execute(qpt_circs, Aer.get_backend('qasm_simulator'), shots=4000)\n",
    "\n",
    "# Extract tomography data so that counts are indexed by measurement configuration\n",
    "qpt_tomo = ProcessTomographyFitter(job.result(), qpt_circs)\n",
    "qpt_tomo.data"
   ]
  },
  {
   "cell_type": "code",
   "execution_count": 3,
   "metadata": {},
   "outputs": [
    {
     "name": "stdout",
     "output_type": "stream",
     "text": [
      "Least-Sq Fitter\n",
      "fit time: 0.01952195167541504\n",
      "fit fidelity: 0.9987076688352984\n",
      "\n",
      "CVXOPT Fitter\n",
      "fit time: 0.17179584503173828\n",
      "fit fidelity: 0.9999807714654682\n"
     ]
    }
   ],
   "source": [
    "# MLE Least-Squares tomographic reconstruction\n",
    "t = time.time()\n",
    "choi_lstsq = qpt_tomo.fit(method='lstsq')\n",
    "print('Least-Sq Fitter')\n",
    "print('fit time:', time.time() - t)\n",
    "print('fit fidelity:', state_fidelity(choi_ideal / 2, choi_lstsq / 2))\n",
    "\n",
    "# CVXOPT Semidefinite-Program tomographic reconstruction\n",
    "t = time.time()\n",
    "choi_cvx = qpt_tomo.fit(method='cvx')\n",
    "print('\\nCVXOPT Fitter')\n",
    "print('fit time:', time.time() - t)\n",
    "print('fit fidelity:', state_fidelity(choi_ideal / 2, choi_cvx / 2))"
   ]
  },
  {
   "cell_type": "markdown",
   "metadata": {},
   "source": [
    "## 1-qubit process tomography of two-qubit swap gate\n",
    "\n",
    "We will prepare qubit-0 and measure qubit-1 so the reconstructed channel should be an identity"
   ]
  },
  {
   "cell_type": "code",
   "execution_count": 4,
   "metadata": {},
   "outputs": [
    {
     "data": {
      "text/plain": [
       "{(('Zp',), ('X',)): {'1': 957, '0': 1043},\n",
       " (('Zp',), ('Y',)): {'1': 1040, '0': 960},\n",
       " (('Zp',), ('Z',)): {'0': 2000},\n",
       " (('Zm',), ('X',)): {'1': 1014, '0': 986},\n",
       " (('Zm',), ('Y',)): {'1': 984, '0': 1016},\n",
       " (('Zm',), ('Z',)): {'1': 2000},\n",
       " (('Xp',), ('X',)): {'0': 2000},\n",
       " (('Xp',), ('Y',)): {'1': 987, '0': 1013},\n",
       " (('Xp',), ('Z',)): {'1': 1000, '0': 1000},\n",
       " (('Yp',), ('X',)): {'1': 974, '0': 1026},\n",
       " (('Yp',), ('Y',)): {'0': 2000},\n",
       " (('Yp',), ('Z',)): {'1': 1002, '0': 998}}"
      ]
     },
     "execution_count": 4,
     "metadata": {},
     "output_type": "execute_result"
    }
   ],
   "source": [
    "# Process tomography of a Hadamard gate\n",
    "q = QuantumRegister(2)\n",
    "circ = QuantumCircuit(q)\n",
    "circ.swap(q[0], q[1])\n",
    "\n",
    "# Ideal channel is a unitary\n",
    "ideal_unitary = np.eye(2)\n",
    "choi_ideal = outer(ideal_unitary.ravel(order='F'))\n",
    "\n",
    "# Generate process tomography circuits and run on qasm simulator\n",
    "# We use the optional prepared_qubits kwarg to specify that the prepared qubit was different to measured qubit\n",
    "qpt_circs = process_tomography_circuits(circ, q[1], prepared_qubits=q[0])\n",
    "job = qiskit.execute(qpt_circs, Aer.get_backend('qasm_simulator'), shots=2000)\n",
    "\n",
    "# Extract tomography data so that counts are indexed by measurement configuration\n",
    "qpt_tomo = ProcessTomographyFitter(job.result(), qpt_circs)\n",
    "qpt_tomo.data"
   ]
  },
  {
   "cell_type": "code",
   "execution_count": 5,
   "metadata": {},
   "outputs": [
    {
     "name": "stdout",
     "output_type": "stream",
     "text": [
      "Least-Sq Fitter\n",
      "fit time: 0.025966882705688477\n",
      "fit fidelity: 0.9923977898780681\n",
      "\n",
      "CVXOPT Fitter\n",
      "fit time: 0.08938908576965332\n",
      "fit fidelity: 0.9998687609514274\n"
     ]
    }
   ],
   "source": [
    "# Least-Squares tomographic reconstruction\n",
    "t = time.time()\n",
    "choi_lstsq = qpt_tomo.fit(method='lstsq')\n",
    "print('Least-Sq Fitter')\n",
    "print('fit time:', time.time() - t)\n",
    "print('fit fidelity:', state_fidelity(choi_ideal / 2, choi_lstsq / 2))\n",
    "\n",
    "# CVXOPT Semidefinite-Program tomographic reconstruction\n",
    "t = time.time()\n",
    "choi_cvx = qpt_tomo.fit(method='cvx')\n",
    "print('\\nCVXOPT Fitter')\n",
    "print('fit time:', time.time() - t)\n",
    "print('fit fidelity:', state_fidelity(choi_ideal / 2, choi_cvx / 2))"
   ]
  },
  {
   "cell_type": "markdown",
   "metadata": {},
   "source": [
    "## 2-Qubit entangling circuit"
   ]
  },
  {
   "cell_type": "code",
   "execution_count": 6,
   "metadata": {},
   "outputs": [
    {
     "name": "stdout",
     "output_type": "stream",
     "text": [
      "Least-Sq Fitter\n",
      "fit time: 0.260530948638916\n",
      "fit fidelity: 0.9846595786580632\n",
      "\n",
      "CVXOPT Fitter\n",
      "fit time: 1.4202570915222168\n",
      "fit fidelity: 0.9998839644883732\n"
     ]
    }
   ],
   "source": [
    "# Bell-state entangling circuit\n",
    "q = QuantumRegister(2)\n",
    "circ = QuantumCircuit(q)\n",
    "circ.h(q[0])\n",
    "circ.cx(q[0], q[1])\n",
    "\n",
    "# Run circuit on unitary simulator to find ideal unitary\n",
    "job = qiskit.execute(circ, Aer.get_backend('unitary_simulator'))\n",
    "ideal_unitary = job.result().get_unitary(circ)\n",
    "# convert to Choi-matrix in column-major convention\n",
    "choi_ideal = outer(ideal_unitary.ravel(order='F'))\n",
    "\n",
    "# Generate process tomography circuits and run on qasm simulator\n",
    "qpt_circs = process_tomography_circuits(circ, q)\n",
    "job = qiskit.execute(qpt_circs, Aer.get_backend('qasm_simulator'), shots=2000)\n",
    "\n",
    "# Extract tomography data so that counts are indexed by measurement configuration\n",
    "qpt_tomo = ProcessTomographyFitter(job.result(), qpt_circs)\n",
    "\n",
    "t = time.time()\n",
    "choi_lstsq = qpt_tomo.fit(method='lstsq')\n",
    "print('Least-Sq Fitter')\n",
    "print('fit time:', time.time() - t)\n",
    "print('fit fidelity:', state_fidelity(choi_ideal / 4, choi_lstsq / 4))\n",
    "\n",
    "t = time.time()\n",
    "choi_cvx = qpt_tomo.fit(method='cvx')\n",
    "print('\\nCVXOPT Fitter')\n",
    "print('fit time:', time.time() - t)\n",
    "print('fit fidelity:', state_fidelity(choi_ideal / 4, choi_cvx / 4))"
   ]
  },
  {
   "cell_type": "markdown",
   "metadata": {},
   "source": [
    "## Using SIC-POVM preparation basis"
   ]
  },
  {
   "cell_type": "code",
   "execution_count": 7,
   "metadata": {},
   "outputs": [
    {
     "data": {
      "text/plain": [
       "{(('S0',), ('X',)): {'0': 2000},\n",
       " (('S0',), ('Y',)): {'1': 1000, '0': 1000},\n",
       " (('S0',), ('Z',)): {'1': 984, '0': 1016},\n",
       " (('S1',), ('X',)): {'1': 1333, '0': 667},\n",
       " (('S1',), ('Y',)): {'1': 994, '0': 1006},\n",
       " (('S1',), ('Z',)): {'1': 58, '0': 1942},\n",
       " (('S2',), ('X',)): {'1': 1322, '0': 678},\n",
       " (('S2',), ('Y',)): {'1': 196, '0': 1804},\n",
       " (('S2',), ('Z',)): {'1': 1466, '0': 534},\n",
       " (('S3',), ('X',)): {'1': 1344, '0': 656},\n",
       " (('S3',), ('Y',)): {'1': 1849, '0': 151},\n",
       " (('S3',), ('Z',)): {'1': 1496, '0': 504}}"
      ]
     },
     "execution_count": 7,
     "metadata": {},
     "output_type": "execute_result"
    }
   ],
   "source": [
    "# Process tomography of a Hadamard gate\n",
    "q = QuantumRegister(1)\n",
    "circ = QuantumCircuit(q)\n",
    "circ.h(q[0])\n",
    "\n",
    "# Run circuit on unitary simulator to find ideal unitary\n",
    "job = qiskit.execute(circ, Aer.get_backend('unitary_simulator'))\n",
    "ideal_unitary = job.result().get_unitary(circ)\n",
    "# convert to Choi-matrix in column-major convention\n",
    "choi_ideal = outer(ideal_unitary.ravel(order='F'))\n",
    "\n",
    "# Generate process tomography circuits and run on qasm simulator\n",
    "qpt_circs = process_tomography_circuits(circ, q, prep_labels='SIC', prep_basis='SIC')\n",
    "job = qiskit.execute(qpt_circs, Aer.get_backend('qasm_simulator'), shots=2000)\n",
    "\n",
    "# Extract tomography data so that counts are indexed by measurement configuration\n",
    "qpt_tomo = ProcessTomographyFitter(job.result(), qpt_circs, prep_basis='SIC')\n",
    "qpt_tomo.data"
   ]
  },
  {
   "cell_type": "code",
   "execution_count": 8,
   "metadata": {},
   "outputs": [
    {
     "name": "stdout",
     "output_type": "stream",
     "text": [
      "Least-Sq Fitter\n",
      "fit time: 0.006691694259643555\n",
      "fit fidelity: 0.995827952649389\n",
      "\n",
      "CVXOPT Fitter\n",
      "fit time: 0.04699277877807617\n",
      "fit fidelity: 0.9993767827558493\n"
     ]
    }
   ],
   "source": [
    "# MLE Least-Squares tomographic reconstruction\n",
    "t = time.time()\n",
    "choi_lstsq = qpt_tomo.fit(method='lstsq')\n",
    "print('Least-Sq Fitter')\n",
    "print('fit time:', time.time() - t)\n",
    "print('fit fidelity:', state_fidelity(choi_ideal / 2, choi_lstsq / 2))\n",
    "\n",
    "# CVXOPT Semidefinite-Program tomographic reconstruction\n",
    "t = time.time()\n",
    "choi_cvx = qpt_tomo.fit(method='cvx')\n",
    "\n",
    "print('\\nCVXOPT Fitter')\n",
    "print('fit time:', time.time() - t)\n",
    "print('fit fidelity:', state_fidelity(choi_ideal / 2, choi_cvx / 2))"
   ]
  }
 ],
 "metadata": {
  "kernelspec": {
   "display_name": "Python 3",
   "language": "python",
   "name": "python3"
  },
  "language_info": {
   "codemirror_mode": {
    "name": "ipython",
    "version": 3
   },
   "file_extension": ".py",
   "mimetype": "text/x-python",
   "name": "python",
   "nbconvert_exporter": "python",
   "pygments_lexer": "ipython3",
   "version": "3.6.8"
  }
 },
 "nbformat": 4,
 "nbformat_minor": 2
}
