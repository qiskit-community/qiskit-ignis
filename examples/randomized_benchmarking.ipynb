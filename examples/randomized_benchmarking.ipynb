{
 "cells": [
  {
   "cell_type": "markdown",
   "metadata": {},
   "source": [
    "## 2-Qubit Randomized Benchmarking\n",
    "---\n",
    "**John A. Smolin, David McKay, Yael Ben-Haim and Shelly Garion**\n",
    "\n",
    "\n",
    "* **Last Updated:** Feb 13, 2019\n",
    "* **Requires:** qiskit-terra 0.7\n",
    "\n",
    "This notebook generates sequences for running 2-qubit randomized benchmarking. \n"
   ]
  },
  {
   "cell_type": "code",
   "execution_count": 1,
   "metadata": {},
   "outputs": [],
   "source": [
    "import numpy as np\n",
    "import matplotlib.pyplot as plt\n",
    "import qiskit\n",
    "from qiskit.providers.aer.noise import NoiseModel\n",
    "from qiskit.providers.aer.noise.errors.standard_errors import depolarizing_error\n",
    "\n",
    "import sys, os\n",
    "sys.path.append(os.path.abspath(os.path.join('../')))\n",
    "\n",
    "# Import the RB Functions\n",
    "import qiskit_ignis.randomized_benchmarking.standard_rb.randomizedbenchmarking as rb\n",
    "\n",
    "#import the RB fitter\n",
    "import qiskit_ignis.randomized_benchmarking.standard_rb.rb_fitters as rb_fitters"
   ]
  },
  {
   "cell_type": "markdown",
   "metadata": {},
   "source": [
    "## Select the Parameters of the RB Run"
   ]
  },
  {
   "cell_type": "code",
   "execution_count": 3,
   "metadata": {},
   "outputs": [],
   "source": [
    "#number of qubits\n",
    "nQ = 2\n",
    "#number of seeds (random sequences)\n",
    "nseeds = 5\n",
    "#number of Cliffords in the sequence (start, stop, steps)\n",
    "nCliffs = np.arange(1,200,20)"
   ]
  },
  {
   "cell_type": "markdown",
   "metadata": {},
   "source": [
    "## Generate RB sequences"
   ]
  },
  {
   "cell_type": "markdown",
   "metadata": {},
   "source": [
    "We generate RB sequences. We start a small example (so it doesn't take too long to run). "
   ]
  },
  {
   "cell_type": "code",
   "execution_count": 4,
   "metadata": {
    "scrolled": false
   },
   "outputs": [],
   "source": [
    "%autoreload\n",
    "rb_opts = {}\n",
    "rb_opts['length_vector'] = nCliffs\n",
    "rb_opts['nseeds'] = nseeds\n",
    "rb_opts['rb_pattern'] = [range(nQ)]\n",
    "rb_opts['n_qubits'] = nQ\n",
    "rb_circs, xdata = rb.randomized_benchmarking_seq(**rb_opts)"
   ]
  },
  {
   "cell_type": "markdown",
   "metadata": {},
   "source": [
    "As an example, we print the circuit corresponding to the first RB sequence"
   ]
  },
  {
   "cell_type": "code",
   "execution_count": 5,
   "metadata": {},
   "outputs": [
    {
     "name": "stdout",
     "output_type": "stream",
     "text": [
      "         ┌───┐┌─────┐┌───┐┌─────┐┌───┐                               ░      »\n",
      "qr_0: |0>┤ H ├┤ Sdg ├┤ H ├┤ Sdg ├┤ H ├──■────────────────────────────░──────»\n",
      "         ├───┤└─────┘└───┘└─────┘└───┘┌─┴─┐┌───┐┌───┐┌───┐┌───┐┌───┐ ░ ┌───┐»\n",
      "qr_1: |0>┤ H ├────────────────────────┤ X ├┤ H ├┤ S ├┤ H ├┤ S ├┤ Y ├─░─┤ Y ├»\n",
      "         └───┘                        └───┘└───┘└───┘└───┘└───┘└───┘ ░ └───┘»\n",
      " cr_0: 0 ═══════════════════════════════════════════════════════════════════»\n",
      "                                                                            »\n",
      " cr_1: 0 ═══════════════════════════════════════════════════════════════════»\n",
      "                                                                            »\n",
      "«                                   ┌───┐┌───┐┌───┐┌───┐┌───┐┌─┐\n",
      "«qr_0: ──────────────────────────■──┤ H ├┤ S ├┤ H ├┤ S ├┤ H ├┤M├\n",
      "«      ┌─────┐┌───┐┌─────┐┌───┐┌─┴─┐├───┤└┬─┬┘└───┘└───┘└───┘└╥┘\n",
      "«qr_1: ┤ Sdg ├┤ H ├┤ Sdg ├┤ H ├┤ X ├┤ H ├─┤M├─────────────────╫─\n",
      "«      └─────┘└───┘└─────┘└───┘└───┘└───┘ └╥┘                 ║ \n",
      "«cr_0: ════════════════════════════════════╬══════════════════╩═\n",
      "«                                          ║                    \n",
      "«cr_1: ════════════════════════════════════╩════════════════════\n",
      "«                                                               \n"
     ]
    }
   ],
   "source": [
    "print(rb_circs[0][0])"
   ]
  },
  {
   "cell_type": "markdown",
   "metadata": {},
   "source": [
    "## Look at the Unitary for 1 Circuit"
   ]
  },
  {
   "cell_type": "markdown",
   "metadata": {},
   "source": [
    "Unitary of each RB circuit should be the identity. Simulate using Aer."
   ]
  },
  {
   "cell_type": "code",
   "execution_count": 6,
   "metadata": {},
   "outputs": [],
   "source": [
    "#Create a new circuit without the measurement\n",
    "qc = qiskit.QuantumCircuit(*rb_circs[0][-1].qregs,*rb_circs[0][-1].cregs)\n",
    "for i in rb_circs[0][-1][0:-2]:\n",
    "    qc._attach(i)"
   ]
  },
  {
   "cell_type": "code",
   "execution_count": 7,
   "metadata": {},
   "outputs": [
    {
     "name": "stdout",
     "output_type": "stream",
     "text": [
      "[[-0.707-0.707j -0.   +0.j    -0.   -0.j     0.   +0.j   ]\n",
      " [ 0.   +0.j    -0.707-0.707j -0.   -0.j    -0.   +0.j   ]\n",
      " [ 0.   +0.j     0.   +0.j    -0.707-0.707j -0.   +0.j   ]\n",
      " [ 0.   -0.j     0.   +0.j     0.   +0.j    -0.707-0.707j]]\n"
     ]
    }
   ],
   "source": [
    "backend = qiskit.Aer.get_backend('unitary_simulator')\n",
    "basis_gates = ['u1','u2','u3','cx'] # use U,CX for now\n",
    "job = qiskit.execute(qc, backend=backend, basis_gates=basis_gates)\n",
    "print(np.around(job.result().get_unitary(),3))"
   ]
  },
  {
   "cell_type": "markdown",
   "metadata": {},
   "source": [
    "## Define the noise model"
   ]
  },
  {
   "cell_type": "markdown",
   "metadata": {},
   "source": [
    "We define a noise model for the simulator. To simulate decay, we add depolarizing error probabilities to the CNOT and U gates."
   ]
  },
  {
   "cell_type": "code",
   "execution_count": 8,
   "metadata": {},
   "outputs": [],
   "source": [
    "noise_model = NoiseModel()\n",
    "noise_model.add_all_qubit_quantum_error(depolarizing_error(0.002, 1), ['u1', 'u2', 'u3'])\n",
    "noise_model.add_all_qubit_quantum_error(depolarizing_error(0.002, 2), 'cx')"
   ]
  },
  {
   "cell_type": "markdown",
   "metadata": {},
   "source": [
    "## Execute on Aer simulator"
   ]
  },
  {
   "cell_type": "code",
   "execution_count": 9,
   "metadata": {},
   "outputs": [
    {
     "name": "stdout",
     "output_type": "stream",
     "text": [
      "Simulating seed 0\n",
      "Simulating seed 1\n",
      "Simulating seed 2\n",
      "Simulating seed 3\n",
      "Simulating seed 4\n"
     ]
    }
   ],
   "source": [
    "backend = qiskit.Aer.get_backend('qasm_simulator')\n",
    "basis_gates = ['u1','u2','u3','cx'] # use U,CX for now\n",
    "shots = 1024\n",
    "result_list = []\n",
    "for rb_seed,rb_circ_seed in enumerate(rb_circs):\n",
    "    print('Simulating seed %d'%rb_seed)\n",
    "    job = qiskit.execute(rb_circ_seed, backend=backend, basis_gates=basis_gates, shots=shots, noise_model=noise_model)\n",
    "    result_list.append(job.result())"
   ]
  },
  {
   "cell_type": "markdown",
   "metadata": {},
   "source": [
    "## Get statistics about the survival probabilities"
   ]
  },
  {
   "cell_type": "code",
   "execution_count": 10,
   "metadata": {},
   "outputs": [],
   "source": [
    "raw_data = rb_fitters.calc_raw_data(result_list, rb_circs, rb_opts, shots)\n",
    "ydata = rb_fitters.calc_statistics(raw_data)"
   ]
  },
  {
   "cell_type": "markdown",
   "metadata": {},
   "source": [
    "## Fit an exponential curve"
   ]
  },
  {
   "cell_type": "code",
   "execution_count": 11,
   "metadata": {},
   "outputs": [],
   "source": [
    "fit = rb_fitters.calc_rb_fit(xdata, ydata, rb_opts['rb_pattern'])"
   ]
  },
  {
   "cell_type": "markdown",
   "metadata": {},
   "source": [
    "## Plot"
   ]
  },
  {
   "cell_type": "code",
   "execution_count": 12,
   "metadata": {
    "scrolled": false
   },
   "outputs": [
    {
     "data": {
      "image/png": "[encoded data removed]",
      "text/plain": [
       "<Figure size 576x432 with 1 Axes>"
      ]
     },
     "metadata": {
      "needs_background": "light"
     },
     "output_type": "display_data"
    }
   ],
   "source": [
    "plt.figure(figsize=(8, 6))\n",
    "ax = plt.subplot(1, 1, 1)\n",
    "\n",
    "# Plot the essence by calling plot_rb_data\n",
    "rb_fitters.plot_rb_data(0, raw_data, xdata, ydata, fit, ax=ax, show_plt=False)\n",
    "\n",
    "# Add title and label\n",
    "ax.set_title('%d Qubit RB'%(nQ), fontsize=18)\n",
    "ax.set_ylabel('Probability of success', fontsize=18)\n",
    "bbox_props = dict(boxstyle=\"round,pad=0.3\", fc=\"white\", ec=\"black\", lw=2)\n",
    "\n",
    "# Add more information\n",
    "ax.text(0.6, 0.9,\n",
    "        \"alpha: %.3f(%.1e) EPC: %.3e(%.1e)\"\n",
    "        %(fit[0]['params'][1], fit[0]['params_err'][1], \n",
    "          fit[0]['epc'], fit[0]['epc_err']),\n",
    "        ha=\"center\", va=\"center\", size=14, bbox=bbox_props, transform=ax.transAxes)\n",
    "\n",
    "plt.show()"
   ]
  },
  {
   "cell_type": "code",
   "execution_count": null,
   "metadata": {},
   "outputs": [],
   "source": []
  }
 ],
 "metadata": {
  "kernelspec": {
   "display_name": "Python 3",
   "language": "python",
   "name": "python3"
  },
  "language_info": {
   "codemirror_mode": {
    "name": "ipython",
    "version": 3
   },
   "file_extension": ".py",
   "mimetype": "text/x-python",
   "name": "python",
   "nbconvert_exporter": "python",
   "pygments_lexer": "ipython3",
   "version": "3.6.8"
  }
 },
 "nbformat": 4,
 "nbformat_minor": 2
}
