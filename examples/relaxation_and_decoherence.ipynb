{
 "cells": [
  {
   "cell_type": "markdown",
   "metadata": {},
   "source": [
    "<img src=\"../../images/qiskit-heading.gif\" alt=\"Note: In order for images to show up in this jupyter notebook you need to select File => Trusted Notebook\" width=\"500 px\" align=\"left\">"
   ]
  },
  {
   "cell_type": "markdown",
   "metadata": {},
   "source": [
    "## _*Relaxation and Decoherence*_ "
   ]
  },
  {
   "cell_type": "code",
   "execution_count": null,
   "metadata": {},
   "outputs": [],
   "source": [
    "import numpy as np\n",
    "import matplotlib.pyplot as plt\n",
    "\n",
    "import qiskit\n",
    "from qiskit.providers.aer.noise.errors.standard_errors import thermal_relaxation_error\n",
    "from qiskit.providers.aer.noise import NoiseModel\n",
    "\n",
    "from qiskit.ignis.characterization.coherence import T1Fitter, T2StarFitter, T2Fitter\n",
    "from qiskit.ignis.characterization.coherence import t1_circuits, t2_circuits, t2star_circuits"
   ]
  },
  {
   "cell_type": "code",
   "execution_count": null,
   "metadata": {
    "ExecuteTime": {
     "end_time": "2018-12-18T15:34:52.275440Z",
     "start_time": "2018-12-18T15:32:05.667514Z"
    }
   },
   "outputs": [],
   "source": [
    "# 12 numbers ranging from 10 to 1000, logarithmically spaced\n",
    "# extra point at 1500\n",
    "num_of_gates = np.append((np.logspace(1, 3, 12)).astype(int), np.array([1500]))\n",
    "gate_time = 0.1\n",
    "\n",
    "# Select the qubits whose T1 are to be measured\n",
    "qubits = [0, 2]\n",
    "\n",
    "# Generate experiments\n",
    "circs, xdata = t1_circuits(num_of_gates, gate_time, qubits)"
   ]
  },
  {
   "cell_type": "markdown",
   "metadata": {},
   "source": [
    "One of the features of the fitters are that we can split the circuits into multiple jobs and then give the results to the fitter as a list. Demonstrated below."
   ]
  },
  {
   "cell_type": "code",
   "execution_count": null,
   "metadata": {},
   "outputs": [],
   "source": [
    "# Set the simulator with amplitude damping noise\n",
    "t1_0 = 25.0\n",
    "gamma = 1 - np.exp(-gate_time/t1_0)\n",
    "error = amplitude_damping_error(gamma)\n",
    "t1_2 = 15.0\n",
    "gamma = 1 - np.exp(-gate_time/t1_2)\n",
    "error2 = amplitude_damping_error(gamma)\n",
    "noise_model = NoiseModel()\n",
    "noise_model.add_quantum_error(error, 'id', [0])\n",
    "noise_model.add_quantum_error(error2, 'id', [2])\n",
    "\n",
    "# Run the simulator\n",
    "backend = qiskit.Aer.get_backend('qasm_simulator')\n",
    "shots = 200\n",
    "# For demonstration purposes split the execution into two jobs\n",
    "backend_result1 = qiskit.execute(circs[0:5], backend,\n",
    "                                shots=shots, noise_model=noise_model).result()\n",
    "backend_result2 = qiskit.execute(circs[5:], backend,\n",
    "                                 shots=shots, noise_model=noise_model).result()"
   ]
  },
  {
   "cell_type": "code",
   "execution_count": null,
   "metadata": {},
   "outputs": [],
   "source": [
    "%matplotlib inline\n",
    "# Fit the data to an exponential\n",
    "# The correct answers are a=1, and c=0, and t1=25/15 for qubit 0/2\n",
    "# The user does not know the correct answer exactly,\n",
    "# so starts the fit from a different but close location\n",
    "\n",
    "plt.figure(figsize=(15, 6))\n",
    "\n",
    "initial_t1 = t1_0*1.2\n",
    "initial_a = 1.0\n",
    "initial_c = 0.0\n",
    "#pass in a results list\n",
    "fit = T1Fitter([backend_result1, backend_result2], xdata, qubits,\n",
    "               fit_p0=[initial_a, initial_t1, initial_c],\n",
    "               fit_bounds=([0, 0, -1], [2, initial_t1*2, 1]))\n",
    "\n",
    "for i in range(2):\n",
    "    ax = plt.subplot(1, 2, i+1)\n",
    "    fit.plot(i, ax=ax)\n",
    "    \n",
    "print(fit.time())\n",
    "plt.show()"
   ]
  },
  {
   "cell_type": "markdown",
   "metadata": {},
   "source": [
    "Another feature is that we can rerun to get more statistics and easily add those results"
   ]
  },
  {
   "cell_type": "code",
   "execution_count": null,
   "metadata": {},
   "outputs": [],
   "source": [
    "backend_result3 = qiskit.execute(circs, backend,\n",
    "                                shots=shots, noise_model=noise_model).result()\n",
    "\n",
    "fit.add_data(backend_result3)"
   ]
  },
  {
   "cell_type": "code",
   "execution_count": null,
   "metadata": {},
   "outputs": [],
   "source": [
    "plt.figure(figsize=(15, 6))\n",
    "\n",
    "for i in range(2):\n",
    "    ax = plt.subplot(1, 2, i+1)\n",
    "    fit.plot(i, ax=ax)\n",
    "    \n",
    "print(fit.time())\n",
    "plt.show()"
   ]
  },
  {
   "cell_type": "code",
   "execution_count": null,
   "metadata": {
    "ExecuteTime": {
     "end_time": "2018-12-18T15:34:52.275440Z",
     "start_time": "2018-12-18T15:32:05.667514Z"
    }
   },
   "outputs": [],
   "source": [
    "# 50 points linearly spaced in two regions (fine and coarse)\n",
    "# 30 from 10->150, 20 from 160->450\n",
    "num_of_gates = np.append((np.linspace(10, 150, 30)).astype(int), (np.linspace(160,450,20)).astype(int))\n",
    "gate_time = 0.1\n",
    "\n",
    "# Select the qubits whose T2* are to be measured\n",
    "qubits = [0, 2]\n",
    "\n",
    "# Generate experiments\n",
    "circs, xdata, osc_freq = t2star_circuits(num_of_gates, gate_time, qubits, nosc=5)"
   ]
  },
  {
   "cell_type": "code",
   "execution_count": null,
   "metadata": {},
   "outputs": [],
   "source": [
    "backend = qiskit.Aer.get_backend('qasm_simulator')\n",
    "\n",
    "# Set the simulator with phase damping noise\n",
    "t2_0 = 10\n",
    "p = 1 - np.exp(-2*gate_time/t2_0)\n",
    "error = phase_damping_error(p)\n",
    "t2_2 = 5\n",
    "p = 1 - np.exp(-2*gate_time/t2_2)\n",
    "error2 = phase_damping_error(p)\n",
    "noise_model = NoiseModel()\n",
    "noise_model.add_quantum_error(error, 'id', [0])\n",
    "noise_model.add_quantum_error(error2, 'id', [2])\n",
    "\n",
    "# Run the simulator\n",
    "shots = 300\n",
    "backend_result = qiskit.execute(circs, backend,\n",
    "                                shots=shots, noise_model=noise_model, \n",
    "                                backend_options={'max_parallel_experiments': 0}).result()"
   ]
  },
  {
   "cell_type": "code",
   "execution_count": null,
   "metadata": {},
   "outputs": [],
   "source": [
    "%matplotlib inline\n",
    "# Fit the data to an oscillator\n",
    "# The correct answers are a=0.5, f=omega, phi=0, c=0.5, and t2=10/5 for qubit 0/2\n",
    "# The user does not know the correct answer exactly,\n",
    "# so starts the fit from a different but close location\n",
    "\n",
    "plt.figure(figsize=(15, 6))\n",
    "\n",
    "initial_t2 = t2_0*1.1\n",
    "initial_a = 1\n",
    "initial_c = 0\n",
    "initial_f = osc_freq \n",
    "initial_phi = -np.pi/20\n",
    "\n",
    "fit = T2StarFitter(backend_result, xdata, qubits,\n",
    "                   fit_p0=[initial_a, initial_t2, initial_f, initial_phi, initial_c],\n",
    "                   fit_bounds=([-0.5, 0, 0, -np.pi, -0.5],\n",
    "                               [1.5, 2*t2_0, 2*osc_freq, np.pi, 1.5]))\n",
    "\n",
    "for i in range(2):\n",
    "    ax = plt.subplot(1, 2, i+1)\n",
    "    fit.plot(i, ax=ax)\n",
    "    \n",
    "print(fit.time())\n",
    "plt.show()"
   ]
  },
  {
   "cell_type": "code",
   "execution_count": null,
   "metadata": {
    "ExecuteTime": {
     "end_time": "2018-12-18T15:34:52.275440Z",
     "start_time": "2018-12-18T15:32:05.667514Z"
    }
   },
   "outputs": [],
   "source": [
    "# 50 points linearly spaced to 300\n",
    "num_of_gates = (np.linspace(10, 300, 50)).astype(int)\n",
    "gate_time = 0.1\n",
    "\n",
    "# Select the qubits whose T2 are to be measured\n",
    "qubits = [0, 2]\n",
    "\n",
    "# Generate experiments\n",
    "circs, xdata = t2_circuits(num_of_gates, gate_time, qubits)"
   ]
  },
  {
   "cell_type": "code",
   "execution_count": null,
   "metadata": {},
   "outputs": [],
   "source": [
    "backend = qiskit.Aer.get_backend('qasm_simulator')\n",
    "\n",
    "# Set the simulator with phase damping noise\n",
    "t2_0 = 10\n",
    "p = 1 - np.exp(-2*gate_time/t2_0)\n",
    "error = phase_damping_error(p)\n",
    "t2_2 = 5\n",
    "p = 1 - np.exp(-2*gate_time/t2_2)\n",
    "error2 = phase_damping_error(p)\n",
    "noise_model = NoiseModel()\n",
    "noise_model.add_quantum_error(error, 'id', [0])\n",
    "noise_model.add_quantum_error(error2, 'id', [2])\n",
    "\n",
    "# Run the simulator\n",
    "shots = 300\n",
    "backend_result = qiskit.execute(circs, backend,\n",
    "                                shots=shots, noise_model=noise_model, \n",
    "                                backend_options={'max_parallel_experiments': 0}).result()"
   ]
  },
  {
   "cell_type": "code",
   "execution_count": null,
   "metadata": {
    "scrolled": false
   },
   "outputs": [],
   "source": [
    "%matplotlib inline\n",
    "# Fit the data to an exponent\n",
    "# The correct answers are a=1, c=0, and t2=10/5 for qubit 0/2\n",
    "# The user does not know the correct answer exactly,\n",
    "# so starts the fit from a different but close location\n",
    "\n",
    "plt.figure(figsize=(15, 6))\n",
    "\n",
    "initial_t2 = t2_0*1.1\n",
    "initial_a = 1\n",
    "initial_c = 0\n",
    "\n",
    "fit = T2Fitter(backend_result, xdata, qubits,\n",
    "               fit_p0=[initial_a, initial_t2, initial_c],\n",
    "               fit_bounds=([-0.5, 0, -0.5],\n",
    "                           [1.5, 2*t2_0, 1.5]))\n",
    "\n",
    "for i in range(2):\n",
    "    ax = plt.subplot(1, 2, i+1)\n",
    "    fit.plot(i, ax=ax)\n",
    "    \n",
    "print(fit.time())\n",
    "plt.show()"
   ]
  },
  {
   "cell_type": "code",
   "execution_count": null,
   "metadata": {
    "ExecuteTime": {
     "end_time": "2018-12-18T15:34:52.275440Z",
     "start_time": "2018-12-18T15:32:05.667514Z"
    }
   },
   "outputs": [],
   "source": [
    "num_of_gates = (np.linspace(1, 30, 30)).astype(int)\n",
    "gate_time = 0.1\n",
    "\n",
    "# Select the qubits whose T2 are to be measured\n",
    "qubits = [0, 2]\n",
    "\n",
    "# Echo parameters\n",
    "n_echos = 5\n",
    "alt_phase_echo = True\n",
    "\n",
    "# Generate experiments\n",
    "circs, xdata = t2_circuits(num_of_gates, gate_time, qubits, n_echos, alt_phase_echo)"
   ]
  },
  {
   "cell_type": "code",
   "execution_count": null,
   "metadata": {},
   "outputs": [],
   "source": [
    "backend = qiskit.Aer.get_backend('qasm_simulator')\n",
    "\n",
    "# Set the simulator with phase damping noise\n",
    "t2_0 = 10\n",
    "p = 1 - np.exp(-2*gate_time/t2_0)\n",
    "error = phase_damping_error(p)\n",
    "t2_2 = 5\n",
    "p = 1 - np.exp(-2*gate_time/t2_2)\n",
    "error2 = phase_damping_error(p)\n",
    "noise_model = NoiseModel()\n",
    "noise_model.add_quantum_error(error, 'id', [0])\n",
    "noise_model.add_quantum_error(error2, 'id', [2])\n",
    "\n",
    "# Run the simulator\n",
    "shots = 300\n",
    "backend_result = qiskit.execute(circs, backend,\n",
    "                                shots=shots, noise_model=noise_model, \n",
    "                                backend_options={'max_parallel_experiments': 0}).result()"
   ]
  },
  {
   "cell_type": "code",
   "execution_count": null,
   "metadata": {
    "scrolled": false
   },
   "outputs": [],
   "source": [
    "%matplotlib inline\n",
    "# Fit the data to an exponent\n",
    "# The correct answers are a=1, c=0, and t2=10/5 for qubit 0/2\n",
    "# The user does not know the correct answer exactly,\n",
    "# so starts the fit from a different but close location\n",
    "\n",
    "plt.figure(figsize=(15, 6))\n",
    "\n",
    "initial_t2 = t2_0*1.1\n",
    "initial_a = 1\n",
    "initial_c = 0\n",
    "\n",
    "fit = T2Fitter(backend_result, xdata, qubits,\n",
    "               fit_p0=[initial_a, initial_t2, initial_c],\n",
    "               fit_bounds=([-0.5, 0, -0.5],\n",
    "                           [1.5, 2*t2_0, 1.5]))\n",
    "\n",
    "for i in range(2):\n",
    "    ax = plt.subplot(1, 2, i+1)\n",
    "    fit.plot(i, ax=ax)\n",
    "    \n",
    "print(fit.time())\n",
    "plt.show()"
   ]
  }
 ],
 "metadata": {
  "anaconda-cloud": {},
  "hide_input": false,
  "kernelspec": {
   "display_name": "Python 3",
   "language": "python",
   "name": "python3"
  },
  "language_info": {
   "codemirror_mode": {
    "name": "ipython",
    "version": 3
   },
   "file_extension": ".py",
   "mimetype": "text/x-python",
   "name": "python",
   "nbconvert_exporter": "python",
   "pygments_lexer": "ipython3",
   "version": "3.6.5"
  }
 },
 "nbformat": 4,
 "nbformat_minor": 2
}
