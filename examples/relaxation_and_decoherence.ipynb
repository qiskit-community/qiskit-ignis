{
 "cells": [
  {
   "cell_type": "markdown",
   "metadata": {},
   "source": [
    "<img src=\"../../images/qiskit-heading.gif\" alt=\"Note: In order for images to show up in this jupyter notebook you need to select File => Trusted Notebook\" width=\"500 px\" align=\"left\">"
   ]
  },
  {
   "cell_type": "markdown",
   "metadata": {},
   "source": [
    "## _*Relaxation and Decoherence*_ "
   ]
  },
  {
   "cell_type": "code",
   "execution_count": null,
   "metadata": {},
   "outputs": [],
   "source": [
    "import numpy as np\n",
    "import matplotlib.pyplot as plt\n",
    "\n",
    "import qiskit\n",
    "from qiskit.providers.aer.noise.errors.standard_errors import thermal_relaxation_error\n",
    "from qiskit.providers.aer.noise import NoiseModel\n",
    "\n",
    "from qiskit.ignis.characterization.coherence import T1Fitter, T2StarFitter, T2Fitter\n",
    "from qiskit.ignis.characterization.coherence import t1_circuits, t2_circuits, t2star_circuits"
   ]
  },
  {
   "cell_type": "markdown",
   "metadata": {},
   "source": [
    "# Generation of coherence circuits"
   ]
  },
  {
   "cell_type": "code",
   "execution_count": null,
   "metadata": {
    "ExecuteTime": {
     "end_time": "2018-12-18T15:34:52.275440Z",
     "start_time": "2018-12-18T15:32:05.667514Z"
    }
   },
   "outputs": [],
   "source": [
    "num_of_gates = (np.linspace(10, 300, 50)).astype(int)\n",
    "gate_time = 0.1\n",
    "\n",
    "# Note that it is possible to measure several qubits in parallel\n",
    "qubits = [0, 2]\n",
    "\n",
    "t1_circs, t1_xdata = t1_circuits(num_of_gates, gate_time, qubits)\n",
    "t2star_circs, t2star_xdata, osc_freq = t2star_circuits(num_of_gates, gate_time, qubits, nosc=5)\n",
    "t2echo_circs, t2echo_xdata = t2_circuits(num_of_gates, gate_time, qubits)\n",
    "t2cpmg_circs, t2cpmg_xdata = t2_circuits(num_of_gates, gate_time, qubits, n_echos=5, alt_phase_echo=True)"
   ]
  },
  {
   "cell_type": "markdown",
   "metadata": {},
   "source": [
    "# Backend execution"
   ]
  },
  {
   "cell_type": "code",
   "execution_count": null,
   "metadata": {},
   "outputs": [],
   "source": [
    "backend = qiskit.Aer.get_backend('qasm_simulator')\n",
    "shots = 200\n",
    "\n",
    "# Let the simulator simulate the following times for qubits 0 and 2:\n",
    "t_q0 = 25.0\n",
    "t_q2 = 15.0\n",
    "\n",
    "# Define T1 and T2 noise:\n",
    "t1_noise_model = NoiseModel()\n",
    "t1_noise_model.add_quantum_error(\n",
    "    thermal_relaxation_error(t_q0, 2*t_q0, gate_time), \n",
    "    'id', [0])\n",
    "t1_noise_model.add_quantum_error(\n",
    "    thermal_relaxation_error(t_q2, 2*t_q2, gate_time), \n",
    "    'id', [2])\n",
    "\n",
    "t2_noise_model = NoiseModel()\n",
    "t2_noise_model.add_quantum_error(\n",
    "    thermal_relaxation_error(np.inf, t_q0, gate_time, 0.5), \n",
    "    'id', [0])\n",
    "t2_noise_model.add_quantum_error(\n",
    "    thermal_relaxation_error(np.inf, t_q2, gate_time, 0.5), \n",
    "    'id', [2])\n",
    "\n",
    "\n",
    "# Run the simulator\n",
    "t1_backend_result = qiskit.execute(t1_circs, backend, shots=shots,\n",
    "                                   noise_model=t1_noise_model).result()\n",
    "t2star_backend_result = qiskit.execute(t2star_circs, backend, shots=shots,\n",
    "                                       noise_model=t2_noise_model).result()\n",
    "t2echo_backend_result = qiskit.execute(t2echo_circs, backend, shots=shots,\n",
    "                                       noise_model=t1_noise_model).result()\n",
    "\n",
    "# It is possible to split the circuits into multiple jobs and then give the results to the fitter as a list:\n",
    "t2cpmg_backend_result1 = qiskit.execute(t2cpmg_circs[0:5], backend,\n",
    "                                        shots=shots, noise_model=t2_noise_model).result()\n",
    "t2cpmg_backend_result2 = qiskit.execute(t2cpmg_circs[5:], backend,\n",
    "                                        shots=shots, noise_model=t2_noise_model).result()"
   ]
  },
  {
   "cell_type": "markdown",
   "metadata": {},
   "source": [
    "# Analysis of results"
   ]
  },
  {
   "cell_type": "code",
   "execution_count": null,
   "metadata": {},
   "outputs": [],
   "source": [
    "%matplotlib inline\n",
    "# Fit the data to an exponential\n",
    "# The correct answers are a=1, and c=0, and t1=25/15 for qubit 0/2\n",
    "# The user does not know the correct answer exactly,\n",
    "# so starts the fit from a different but close location\n",
    "\n",
    "plt.figure(figsize=(15, 6))\n",
    "\n",
    "initial_t1 = t1_0*1.2\n",
    "initial_a = 1.0\n",
    "initial_c = 0.0\n",
    "#pass in a results list\n",
    "fit = T1Fitter([backend_result1, backend_result2], xdata, qubits,\n",
    "               fit_p0=[initial_a, initial_t1, initial_c],\n",
    "               fit_bounds=([0, 0, -1], [2, initial_t1*2, 1]))\n",
    "\n",
    "for i in range(2):\n",
    "    ax = plt.subplot(1, 2, i+1)\n",
    "    fit.plot(i, ax=ax)\n",
    "    \n",
    "print(fit.time())\n",
    "plt.show()"
   ]
  },
  {
   "cell_type": "markdown",
   "metadata": {},
   "source": [
    "Another feature is that we can rerun to get more statistics and easily add those results"
   ]
  },
  {
   "cell_type": "code",
   "execution_count": null,
   "metadata": {},
   "outputs": [],
   "source": [
    "backend_result3 = qiskit.execute(circs, backend,\n",
    "                                shots=shots, noise_model=noise_model).result()\n",
    "\n",
    "fit.add_data(backend_result3)"
   ]
  },
  {
   "cell_type": "code",
   "execution_count": null,
   "metadata": {},
   "outputs": [],
   "source": [
    "plt.figure(figsize=(15, 6))\n",
    "\n",
    "for i in range(2):\n",
    "    ax = plt.subplot(1, 2, i+1)\n",
    "    fit.plot(i, ax=ax)\n",
    "    \n",
    "print(fit.time())\n",
    "plt.show()"
   ]
  },
  {
   "cell_type": "code",
   "execution_count": null,
   "metadata": {},
   "outputs": [],
   "source": [
    "%matplotlib inline\n",
    "# Fit the data to an oscillator\n",
    "# The correct answers are a=0.5, f=omega, phi=0, c=0.5, and t2=10/5 for qubit 0/2\n",
    "# The user does not know the correct answer exactly,\n",
    "# so starts the fit from a different but close location\n",
    "\n",
    "plt.figure(figsize=(15, 6))\n",
    "\n",
    "initial_t2 = t2_0*1.1\n",
    "initial_a = 1\n",
    "initial_c = 0\n",
    "initial_f = osc_freq \n",
    "initial_phi = -np.pi/20\n",
    "\n",
    "fit = T2StarFitter(backend_result, xdata, qubits,\n",
    "                   fit_p0=[initial_a, initial_t2, initial_f, initial_phi, initial_c],\n",
    "                   fit_bounds=([-0.5, 0, 0, -np.pi, -0.5],\n",
    "                               [1.5, 2*t2_0, 2*osc_freq, np.pi, 1.5]))\n",
    "\n",
    "for i in range(2):\n",
    "    ax = plt.subplot(1, 2, i+1)\n",
    "    fit.plot(i, ax=ax)\n",
    "    \n",
    "print(fit.time())\n",
    "plt.show()"
   ]
  },
  {
   "cell_type": "code",
   "execution_count": null,
   "metadata": {
    "scrolled": false
   },
   "outputs": [],
   "source": [
    "%matplotlib inline\n",
    "# Fit the data to an exponent\n",
    "# The correct answers are a=1, c=0, and t2=10/5 for qubit 0/2\n",
    "# The user does not know the correct answer exactly,\n",
    "# so starts the fit from a different but close location\n",
    "\n",
    "plt.figure(figsize=(15, 6))\n",
    "\n",
    "initial_t2 = t2_0*1.1\n",
    "initial_a = 1\n",
    "initial_c = 0\n",
    "\n",
    "fit = T2Fitter(backend_result, xdata, qubits,\n",
    "               fit_p0=[initial_a, initial_t2, initial_c],\n",
    "               fit_bounds=([-0.5, 0, -0.5],\n",
    "                           [1.5, 2*t2_0, 1.5]))\n",
    "\n",
    "for i in range(2):\n",
    "    ax = plt.subplot(1, 2, i+1)\n",
    "    fit.plot(i, ax=ax)\n",
    "    \n",
    "print(fit.time())\n",
    "plt.show()"
   ]
  },
  {
   "cell_type": "code",
   "execution_count": null,
   "metadata": {
    "scrolled": false
   },
   "outputs": [],
   "source": [
    "%matplotlib inline\n",
    "# Fit the data to an exponent\n",
    "# The correct answers are a=1, c=0, and t2=10/5 for qubit 0/2\n",
    "# The user does not know the correct answer exactly,\n",
    "# so starts the fit from a different but close location\n",
    "\n",
    "plt.figure(figsize=(15, 6))\n",
    "\n",
    "initial_t2 = t2_0*1.1\n",
    "initial_a = 1\n",
    "initial_c = 0\n",
    "\n",
    "fit = T2Fitter(backend_result, xdata, qubits,\n",
    "               fit_p0=[initial_a, initial_t2, initial_c],\n",
    "               fit_bounds=([-0.5, 0, -0.5],\n",
    "                           [1.5, 2*t2_0, 1.5]))\n",
    "\n",
    "for i in range(2):\n",
    "    ax = plt.subplot(1, 2, i+1)\n",
    "    fit.plot(i, ax=ax)\n",
    "    \n",
    "print(fit.time())\n",
    "plt.show()"
   ]
  }
 ],
 "metadata": {
  "anaconda-cloud": {},
  "hide_input": false,
  "kernelspec": {
   "display_name": "Python 3",
   "language": "python",
   "name": "python3"
  },
  "language_info": {
   "codemirror_mode": {
    "name": "ipython",
    "version": 3
   },
   "file_extension": ".py",
   "mimetype": "text/x-python",
   "name": "python",
   "nbconvert_exporter": "python",
   "pygments_lexer": "ipython3",
   "version": "3.6.5"
  }
 },
 "nbformat": 4,
 "nbformat_minor": 2
}
