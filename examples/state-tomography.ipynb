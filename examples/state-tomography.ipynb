{
 "cells": [
  {
   "cell_type": "markdown",
   "metadata": {},
   "source": [
    "# Quantum State Tomography\n",
    "\n",
    "* **Last Updated:** Jan 24, 2019\n",
    "* **Requires:**\n",
    "  * qiskit-terra 0.7\n",
    "  * qiskit-aer 0.1"
   ]
  },
  {
   "cell_type": "code",
   "execution_count": 7,
   "metadata": {},
   "outputs": [],
   "source": [
    "# Needed for functions\n",
    "import numpy as np\n",
    "import time\n",
    "\n",
    "# Import Qiskit classes\n",
    "import qiskit \n",
    "from qiskit import QuantumRegister, QuantumCircuit, ClassicalRegister, Aer\n",
    "from qiskit.quantum_info import state_fidelity\n",
    "\n",
    "# Import Qiskit Aer Noise\n",
    "from qiskit.providers.aer.noise import NoiseModel\n",
    "from qiskit.providers.aer.noise.errors import *\n",
    "\n",
    "# Tomography functions\n",
    "import sys, os\n",
    "sys.path.append(os.path.abspath(os.path.join('../qiskit_ignis')))\n",
    "import tomography as tomo"
   ]
  },
  {
   "cell_type": "markdown",
   "metadata": {},
   "source": [
    "## 2-Qubit state tomography Example"
   ]
  },
  {
   "cell_type": "code",
   "execution_count": 3,
   "metadata": {},
   "outputs": [
    {
     "name": "stdout",
     "output_type": "stream",
     "text": [
      "OPENQASM 2.0;\n",
      "include \"qelib1.inc\";\n",
      "qreg q0[2];\n",
      "h q0[0];\n",
      "cx q0[0],q0[1];\n",
      "\n",
      "[0.70710678+0.j 0.        +0.j 0.        +0.j 0.70710678+0.j]\n"
     ]
    }
   ],
   "source": [
    "# Create a state preparation circuit\n",
    "q2 = QuantumRegister(2)\n",
    "bell = QuantumCircuit(q2)\n",
    "bell.h(q2[0])\n",
    "bell.cx(q2[0], q2[1])\n",
    "print(bell.qasm())\n",
    "\n",
    "job = qiskit.execute(bell, Aer.get_backend('statevector_simulator'))\n",
    "psi_bell = job.result().get_statevector(bell)\n",
    "print(psi_bell)"
   ]
  },
  {
   "cell_type": "code",
   "execution_count": 4,
   "metadata": {},
   "outputs": [
    {
     "name": "stdout",
     "output_type": "stream",
     "text": [
      "Time taken: 0.2506849765777588\n"
     ]
    },
    {
     "data": {
      "text/plain": [
       "{('X', 'X'): {'11': 2486, '00': 2514},\n",
       " ('X', 'Y'): {'01': 1225, '11': 1235, '10': 1256, '00': 1284},\n",
       " ('X', 'Z'): {'01': 1236, '11': 1242, '10': 1288, '00': 1234},\n",
       " ('Y', 'X'): {'01': 1283, '11': 1229, '10': 1261, '00': 1227},\n",
       " ('Y', 'Y'): {'01': 2461, '10': 2539},\n",
       " ('Y', 'Z'): {'01': 1347, '11': 1228, '10': 1165, '00': 1260},\n",
       " ('Z', 'X'): {'01': 1281, '11': 1233, '10': 1211, '00': 1275},\n",
       " ('Z', 'Y'): {'01': 1232, '11': 1280, '10': 1255, '00': 1233},\n",
       " ('Z', 'Z'): {'11': 2547, '00': 2453}}"
      ]
     },
     "execution_count": 4,
     "metadata": {},
     "output_type": "execute_result"
    }
   ],
   "source": [
    "# Generate circuits and run on simulator\n",
    "t = time.time()\n",
    "qst_bell = tomo.state_tomography_circuits(bell, q2)\n",
    "job = qiskit.execute(qst_bell, Aer.get_backend('qasm_simulator'), shots=5000)\n",
    "print('Time taken:', time.time() - t)\n",
    "\n",
    "# Extract tomography data so that countns are indexed by measurement configuration\n",
    "# Note that the None labels are because this is state tomography instead of process tomography\n",
    "# Process tomography would have the preparation state labels there\n",
    "\n",
    "tomo_counts_bell = tomo.tomography_data(job.result(), qst_bell)\n",
    "tomo_counts_bell"
   ]
  },
  {
   "cell_type": "code",
   "execution_count": 5,
   "metadata": {},
   "outputs": [
    {
     "name": "stdout",
     "output_type": "stream",
     "text": [
      "Fit Fidelity = 0.9999583056919802\n"
     ]
    }
   ],
   "source": [
    "# Generate fitter data and reconstruct density matrix\n",
    "probs_bell, basis_matrix_bell = tomo.fitter_data(tomo_counts_bell)\n",
    "rho_bell = tomo.state_cvx_fit(probs_bell, basis_matrix_bell)\n",
    "F_bell = state_fidelity(psi_bell, rho_bell)\n",
    "print('Fit Fidelity =', F_bell)"
   ]
  },
  {
   "cell_type": "markdown",
   "metadata": {},
   "source": [
    "## Including Calibration Error (Simulated)\n",
    "\n",
    "Suppose we include T1 relaxation during measurement, but all other circuit operations are perfect.\n",
    "Noise parameters:\n",
    "* measurement time: 5 microseconds\n",
    "* T_1: 50 microseconds\n",
    "* Population of excited state: 5%\n",
    "\n",
    "The assignment fidelity for this can be calculated from\n",
    "* P(0|0) = 1 - P(1|0)\n",
    "* P(1|0) = pop1 * exp(- t_meas / t_1)\n",
    "* P(0|1) = (1 - pop1) * exp(- t_meas / t_1)\n",
    "* P(1|1) = 1 - P(0|1)\n",
    "\n",
    "the calibration error matrix is\n",
    "M = [[P(0|0), P(0|1)], [P(1|0), P(1|1)]]"
   ]
  },
  {
   "cell_type": "code",
   "execution_count": 11,
   "metadata": {},
   "outputs": [
    {
     "data": {
      "text/plain": [
       "{('X', 'X'): {'01': 218, '11': 2107, '10': 245, '00': 2430},\n",
       " ('X', 'Y'): {'01': 1256, '11': 1007, '10': 1217, '00': 1520},\n",
       " ('X', 'Z'): {'01': 1228, '11': 1031, '10': 1258, '00': 1483},\n",
       " ('Y', 'X'): {'01': 1271, '11': 1023, '10': 1222, '00': 1484},\n",
       " ('Y', 'Y'): {'01': 2324, '11': 33, '10': 2226, '00': 417},\n",
       " ('Y', 'Z'): {'01': 1285, '11': 1024, '10': 1196, '00': 1495},\n",
       " ('Z', 'X'): {'01': 1313, '11': 1045, '10': 1192, '00': 1450},\n",
       " ('Z', 'Y'): {'01': 1196, '11': 1051, '10': 1268, '00': 1485},\n",
       " ('Z', 'Z'): {'01': 198, '11': 2054, '10': 198, '00': 2550}}"
      ]
     },
     "execution_count": 11,
     "metadata": {},
     "output_type": "execute_result"
    }
   ],
   "source": [
    "pop1 = 0.05\n",
    "T1 = 50\n",
    "T2 = 2 * T1\n",
    "t_meas = 5\n",
    "\n",
    "error = thermal_relaxation_error(T1, T2, t_meas, pop1)\n",
    "\n",
    "noise = NoiseModel()\n",
    "noise.add_all_qubit_quantum_error(error, 'measure')\n",
    "\n",
    "# Generate circuits and run on simulator\n",
    "job_cal = qiskit.execute(qst_bell, Aer.get_backend('qasm_simulator'),\n",
    "                         shots=5000,\n",
    "                         basis_gates=noise.basis_gates,\n",
    "                         noise_model=noise)\n",
    "\n",
    "# Extract tomography data so that countns are indexed by measurement configuration\n",
    "tomo_counts_noise = tomo.tomography_data(job_cal.result(), qst_bell)\n",
    "tomo_counts_noise"
   ]
  },
  {
   "cell_type": "code",
   "execution_count": 12,
   "metadata": {},
   "outputs": [],
   "source": [
    "# Create Calibration matrix\n",
    "\n",
    "P1_0 = pop1 * np.exp(-t_meas / T1)\n",
    "P0_1 = (1 - pop1) * np.exp(-t_meas / T1)\n",
    "\n",
    "# Single qubit calibration matrix\n",
    "cal_mat_single = np.array([[1 - P1_0, P0_1], [P1_0, 1 - P0_1]])\n",
    "\n",
    "# 2-qubit calibration matrix\n",
    "cal_mat = np.kron(cal_mat_single, cal_mat_single)"
   ]
  },
  {
   "cell_type": "code",
   "execution_count": 20,
   "metadata": {},
   "outputs": [
    {
     "data": {
      "text/plain": [
       "array([[0.91156309, 0.82070584, 0.82070584, 0.7389045 ],\n",
       "       [0.04319504, 0.13405229, 0.03888971, 0.12069104],\n",
       "       [0.04319504, 0.03888971, 0.13405229, 0.12069104],\n",
       "       [0.00204683, 0.00635216, 0.00635216, 0.01971341]])"
      ]
     },
     "execution_count": 20,
     "metadata": {},
     "output_type": "execute_result"
    }
   ],
   "source": [
    "cal_mat"
   ]
  },
  {
   "cell_type": "code",
   "execution_count": 13,
   "metadata": {},
   "outputs": [
    {
     "name": "stdout",
     "output_type": "stream",
     "text": [
      "Fitting without using calibration data\n",
      "Fit Fidelity = 0.8681889118450377\n"
     ]
    }
   ],
   "source": [
    "# Fitting without calibration matrix\n",
    "probs_noise, basis_matrix_noise = tomo.fitter_data(tomo_counts_noise)\n",
    "rho_noise = tomo.state_cvx_fit(probs_noise, basis_matrix_noise)\n",
    "print('Fitting without using calibration data')\n",
    "print('Fit Fidelity =', state_fidelity(psi_bell, rho_noise))"
   ]
  },
  {
   "cell_type": "code",
   "execution_count": 14,
   "metadata": {},
   "outputs": [
    {
     "name": "stdout",
     "output_type": "stream",
     "text": [
      "Using calibration data to update basis matrix\n",
      "Fit Fidelity = 0.9788749509551824\n"
     ]
    }
   ],
   "source": [
    "# Fitting with calibration matrix by modifying POVMs\n",
    "probs_noise_cal, basis_matrix_noise_cal = tomo.fitter_data(tomo_counts_noise,\n",
    "                                                     calibration_matrix=cal_mat)\n",
    "rho_noise_cal = tomo.state_cvx_fit(probs_noise_cal, basis_matrix_noise_cal)\n",
    "print('Using calibration data to update basis matrix')\n",
    "print('Fit Fidelity =', state_fidelity(psi_bell, rho_noise_cal))"
   ]
  },
  {
   "cell_type": "markdown",
   "metadata": {},
   "source": [
    "## Generating and fitting random states\n",
    "\n",
    "We now test the functions on state generated by a circuit consiting of a layer of random single qubit unitaries u3"
   ]
  },
  {
   "cell_type": "code",
   "execution_count": 15,
   "metadata": {},
   "outputs": [],
   "source": [
    "def random_u3_tomo(nq, shots):\n",
    "    \n",
    "    def rand_angles():\n",
    "        return tuple(2 * np.pi * np.random.random(3) - np.pi)\n",
    "    q = QuantumRegister(nq)\n",
    "    circ = QuantumCircuit(q)\n",
    "    for j in range(nq):\n",
    "        circ.u3(*rand_angles(), q[j])\n",
    "    job = qiskit.execute(circ, Aer.get_backend('statevector_simulator'))\n",
    "    psi_rand = job.result().get_statevector(circ)\n",
    "    \n",
    "    qst_circs = tomo.state_tomography_circuits(circ, q)\n",
    "    job = qiskit.execute(qst_circs, Aer.get_backend('qasm_simulator'),\n",
    "                         shots=shots)\n",
    "    tomo_counts = tomo.tomography_data(job.result(), qst_circs)\n",
    "    probs, basis_matrix = tomo.fitter_data(tomo_counts, beta=0.5)\n",
    "    \n",
    "    rho_cvx = tomo.state_cvx_fit(probs, basis_matrix)\n",
    "    rho_mle = tomo.state_mle_fit(probs, basis_matrix)\n",
    "    \n",
    "    print('F fit (CVX) =', state_fidelity(psi_rand, rho_cvx))\n",
    "    print('F fit (MLE) =', state_fidelity(psi_rand, rho_mle))"
   ]
  },
  {
   "cell_type": "code",
   "execution_count": 16,
   "metadata": {},
   "outputs": [
    {
     "name": "stdout",
     "output_type": "stream",
     "text": [
      "Random single-qubit unitaries: set 0\n",
      "F fit (CVX) = 0.9977859347729403\n",
      "F fit (MLE) = 0.9976950574691672\n",
      "Random single-qubit unitaries: set 1\n",
      "F fit (CVX) = 0.999495298501456\n",
      "F fit (MLE) = 0.99750613658546\n",
      "Random single-qubit unitaries: set 2\n",
      "F fit (CVX) = 0.9972536043567923\n",
      "F fit (MLE) = 0.9984838104775382\n",
      "Random single-qubit unitaries: set 3\n",
      "F fit (CVX) = 0.9984982190640335\n",
      "F fit (MLE) = 0.9970772439464521\n",
      "Random single-qubit unitaries: set 4\n",
      "F fit (CVX) = 0.9989056856839248\n",
      "F fit (MLE) = 0.9958511474490492\n"
     ]
    }
   ],
   "source": [
    "for j in range(5):\n",
    "    print('Random single-qubit unitaries: set {}'.format(j))\n",
    "    random_u3_tomo(3, 5000)"
   ]
  },
  {
   "cell_type": "markdown",
   "metadata": {},
   "source": [
    "## 5-Qubit Bell State"
   ]
  },
  {
   "cell_type": "code",
   "execution_count": 17,
   "metadata": {},
   "outputs": [
    {
     "name": "stdout",
     "output_type": "stream",
     "text": [
      "Time taken: 8.785384893417358\n"
     ]
    }
   ],
   "source": [
    "# Create a state preparation circuit\n",
    "q5 = QuantumRegister(5)\n",
    "bell5 = QuantumCircuit(q5)\n",
    "bell5.h(q5[0])\n",
    "for j in range(4):\n",
    "    bell5.cx(q5[j], q5[j + 1])\n",
    "\n",
    "# Get ideal output state\n",
    "job = qiskit.execute(bell5, Aer.get_backend('statevector_simulator'))\n",
    "psi_bell5 = job.result().get_statevector(bell5)\n",
    "\n",
    "# Generate circuits and run on simulator\n",
    "t = time.time()\n",
    "qst_bell5 = tomo.state_tomography_circuits(bell5, q5)\n",
    "job = qiskit.execute(qst_bell5, Aer.get_backend('qasm_simulator'), shots=5000)\n",
    "\n",
    "# Extract tomography data so that countns are indexed by measurement configuration\n",
    "tomo_counts_bell5 = tomo.tomography_data(job.result(), qst_bell5)\n",
    "probs_bell5, basis_matrix_bell5 = tomo.fitter_data(tomo_counts_bell5)\n",
    "print('Time taken:', time.time() - t)"
   ]
  },
  {
   "cell_type": "code",
   "execution_count": 18,
   "metadata": {},
   "outputs": [
    {
     "name": "stdout",
     "output_type": "stream",
     "text": [
      "MLE Reconstruction\n",
      "Time taken: 2.460785150527954\n",
      "Fit Fidelity: 0.993255253328152\n"
     ]
    }
   ],
   "source": [
    "t = time.time()\n",
    "rho_mle_bell5 = tomo.state_mle_fit(probs_bell5, basis_matrix_bell5)\n",
    "print('MLE Reconstruction')\n",
    "print('Time taken:', time.time() - t)\n",
    "print('Fit Fidelity:', state_fidelity(psi_bell5, rho_mle_bell5))"
   ]
  },
  {
   "cell_type": "code",
   "execution_count": 19,
   "metadata": {},
   "outputs": [
    {
     "name": "stdout",
     "output_type": "stream",
     "text": [
      "SDP Reconstruction\n",
      "Time taken: 53.021812438964844\n",
      "Fidelity: 0.9999274425924916\n"
     ]
    }
   ],
   "source": [
    "t = time.time()\n",
    "rho_sdp_bell5 = tomo.state_cvx_fit(probs_bell5, basis_matrix_bell5, solver='CVXOPT')\n",
    "print('SDP Reconstruction')\n",
    "print('Time taken:', time.time() - t)\n",
    "print('Fidelity:', state_fidelity(psi_bell5, rho_sdp_bell5))"
   ]
  }
 ],
 "metadata": {
  "kernelspec": {
   "display_name": "Python (qiskit-dev)",
   "language": "python",
   "name": "qiskit-dev"
  },
  "language_info": {
   "codemirror_mode": {
    "name": "ipython",
    "version": 3
   },
   "file_extension": ".py",
   "mimetype": "text/x-python",
   "name": "python",
   "nbconvert_exporter": "python",
   "pygments_lexer": "ipython3",
   "version": "3.6.7"
  }
 },
 "nbformat": 4,
 "nbformat_minor": 2
}
