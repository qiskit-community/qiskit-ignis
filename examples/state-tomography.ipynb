{
 "cells": [
  {
   "cell_type": "markdown",
   "metadata": {},
   "source": [
    "# Quantum State Tomography\n",
    "\n",
    "* **Last Updated:** Feb 20, 2019\n",
    "* **Requires:** qiskit-terra 0.7"
   ]
  },
  {
   "cell_type": "code",
   "execution_count": 1,
   "metadata": {},
   "outputs": [],
   "source": [
    "# Needed for functions\n",
    "import numpy as np\n",
    "import time\n",
    "\n",
    "# Import Qiskit classes\n",
    "import qiskit \n",
    "from qiskit import QuantumRegister, QuantumCircuit, ClassicalRegister, Aer\n",
    "from qiskit.quantum_info import state_fidelity\n",
    "from qiskit.providers.aer import noise\n",
    "\n",
    "# Tomography functions\n",
    "import sys, os\n",
    "sys.path.append(os.path.abspath(os.path.join('..')))\n",
    "import qiskit.ignis.verification.tomography as tomo\n",
    "import qiskit.ignis.error_mitigation.measurement as mc"
   ]
  },
  {
   "cell_type": "markdown",
   "metadata": {},
   "source": [
    "## 2-Qubit state tomography Example"
   ]
  },
  {
   "cell_type": "code",
   "execution_count": 2,
   "metadata": {},
   "outputs": [
    {
     "name": "stdout",
     "output_type": "stream",
     "text": [
      "OPENQASM 2.0;\n",
      "include \"qelib1.inc\";\n",
      "qreg q0[2];\n",
      "h q0[0];\n",
      "cx q0[0],q0[1];\n",
      "\n",
      "[0.70710678+0.j 0.        +0.j 0.        +0.j 0.70710678+0.j]\n"
     ]
    }
   ],
   "source": [
    "# Create a state preparation circuit\n",
    "q2 = QuantumRegister(2)\n",
    "bell = QuantumCircuit(q2)\n",
    "bell.h(q2[0])\n",
    "bell.cx(q2[0], q2[1])\n",
    "print(bell.qasm())\n",
    "\n",
    "job = qiskit.execute(bell, Aer.get_backend('statevector_simulator'))\n",
    "psi_bell = job.result().get_statevector(bell)\n",
    "print(psi_bell)"
   ]
  },
  {
   "cell_type": "code",
   "execution_count": 3,
   "metadata": {},
   "outputs": [
    {
     "name": "stdout",
     "output_type": "stream",
     "text": [
      "Time taken: 0.2377631664276123\n"
     ]
    },
    {
     "data": {
      "text/plain": [
       "{('X', 'X'): {'11': 2528, '00': 2472},\n",
       " ('X', 'Y'): {'10': 1269, '01': 1235, '11': 1286, '00': 1210},\n",
       " ('X', 'Z'): {'10': 1278, '01': 1181, '11': 1280, '00': 1261},\n",
       " ('Y', 'X'): {'10': 1258, '01': 1256, '11': 1242, '00': 1244},\n",
       " ('Y', 'Y'): {'01': 2519, '10': 2481},\n",
       " ('Y', 'Z'): {'10': 1259, '01': 1186, '11': 1262, '00': 1293},\n",
       " ('Z', 'X'): {'10': 1240, '01': 1271, '11': 1259, '00': 1230},\n",
       " ('Z', 'Y'): {'10': 1284, '01': 1304, '11': 1202, '00': 1210},\n",
       " ('Z', 'Z'): {'11': 2500, '00': 2500}}"
      ]
     },
     "execution_count": 3,
     "metadata": {},
     "output_type": "execute_result"
    }
   ],
   "source": [
    "# Generate circuits and run on simulator\n",
    "t = time.time()\n",
    "qst_bell = tomo.state_tomography_circuits(bell, q2)\n",
    "job = qiskit.execute(qst_bell, Aer.get_backend('qasm_simulator'), shots=5000)\n",
    "print('Time taken:', time.time() - t)\n",
    "\n",
    "# Extract tomography data so that countns are indexed by measurement configuration\n",
    "# Note that the None labels are because this is state tomography instead of process tomography\n",
    "# Process tomography would have the preparation state labels there\n",
    "\n",
    "tomo_counts_bell = tomo.tomography_data(job.result(), qst_bell)\n",
    "tomo_counts_bell"
   ]
  },
  {
   "cell_type": "code",
   "execution_count": 4,
   "metadata": {},
   "outputs": [
    {
     "name": "stdout",
     "output_type": "stream",
     "text": [
      "Fit Fidelity = 0.9999419228568267\n"
     ]
    }
   ],
   "source": [
    "# Generate fitter data and reconstruct density matrix\n",
    "probs_bell, basis_matrix_bell, weights_bell = tomo.fitter_data(tomo_counts_bell)\n",
    "rho_bell = tomo.state_cvx_fit(probs_bell, basis_matrix_bell, weights_bell)\n",
    "F_bell = state_fidelity(psi_bell, rho_bell)\n",
    "print('Fit Fidelity =', F_bell)"
   ]
  },
  {
   "cell_type": "markdown",
   "metadata": {},
   "source": [
    "### Repeat the Example with Measurement Noise"
   ]
  },
  {
   "cell_type": "code",
   "execution_count": 12,
   "metadata": {},
   "outputs": [
    {
     "name": "stdout",
     "output_type": "stream",
     "text": [
      "Fit Fidelity (no correction) = 0.5722696020964947\n",
      "Fit Fidelity (w/ correction) = 0.9912583476271389\n"
     ]
    }
   ],
   "source": [
    "#Add measurement noise\n",
    "noise_model = noise.NoiseModel()\n",
    "for qi in range(2):\n",
    "    read_err = noise.errors.readout_error.ReadoutError([[0.75, 0.25],[0.1,0.9]])\n",
    "    noise_model.add_readout_error(read_err,[qi])\n",
    "    \n",
    "#generate the calibration circuits\n",
    "meas_calibs, state_labels = mc.measurement_calibration(qr=q2)\n",
    "\n",
    "backend = Aer.get_backend('qasm_simulator')\n",
    "qobj_cal = qiskit.compile(meas_calibs, backend=backend, shots=15000)\n",
    "qobj_tomo = qiskit.compile(qst_bell, backend=backend, shots=15000)\n",
    "\n",
    "job_cal = backend.run(qobj_cal, noise_model=noise_model)\n",
    "job_tomo = backend.run(qobj_tomo, noise_model=noise_model)\n",
    "\n",
    "MeasCal = mc.MeasurementFitter(job_cal.result(),state_labels)\n",
    "tomo_counts_bell = tomo.tomography_data(job_tomo.result(), qst_bell)\n",
    "\n",
    "# Generate fitter data and reconstruct density matrix\n",
    "probs_bell, basis_matrix_bell, weights_bell = tomo.fitter_data(tomo_counts_bell)\n",
    "\n",
    "#no correction\n",
    "rho_bell = tomo.state_cvx_fit(probs_bell, basis_matrix_bell, weights_bell)\n",
    "F_bell = state_fidelity(psi_bell, rho_bell)\n",
    "print('Fit Fidelity (no correction) =', F_bell)\n",
    "\n",
    "#correct data\n",
    "probs_bell = MeasCal.calibrate(probs_bell, method=1)\n",
    "rho_bell = tomo.state_cvx_fit(probs_bell, basis_matrix_bell, weights_bell)\n",
    "F_bell = state_fidelity(psi_bell, rho_bell)\n",
    "print('Fit Fidelity (w/ correction) =', F_bell)"
   ]
  },
  {
   "cell_type": "markdown",
   "metadata": {},
   "source": [
    "## Generating and fitting random states\n",
    "\n",
    "We now test the functions on state generated by a circuit consiting of a layer of random single qubit unitaries u3"
   ]
  },
  {
   "cell_type": "code",
   "execution_count": 6,
   "metadata": {},
   "outputs": [],
   "source": [
    "def random_u3_tomo(nq, shots):\n",
    "    \n",
    "    def rand_angles():\n",
    "        return tuple(2 * np.pi * np.random.random(3) - np.pi)\n",
    "    q = QuantumRegister(nq)\n",
    "    circ = QuantumCircuit(q)\n",
    "    for j in range(nq):\n",
    "        circ.u3(*rand_angles(), q[j])\n",
    "    job = qiskit.execute(circ, Aer.get_backend('statevector_simulator'))\n",
    "    psi_rand = job.result().get_statevector(circ)\n",
    "    \n",
    "    qst_circs = tomo.state_tomography_circuits(circ, q)\n",
    "    job = qiskit.execute(qst_circs, Aer.get_backend('qasm_simulator'),\n",
    "                         shots=shots)\n",
    "    tomo_counts = tomo.tomography_data(job.result(), qst_circs)\n",
    "    probs, basis_matrix, weights = tomo.fitter_data(tomo_counts, beta=0.5)\n",
    "    \n",
    "    rho_cvx = tomo.state_cvx_fit(probs, basis_matrix, weights)\n",
    "    rho_mle = tomo.state_mle_fit(probs, basis_matrix, weights)\n",
    "    \n",
    "    print('F fit (CVX) =', state_fidelity(psi_rand, rho_cvx))\n",
    "    print('F fit (MLE) =', state_fidelity(psi_rand, rho_mle))"
   ]
  },
  {
   "cell_type": "code",
   "execution_count": 7,
   "metadata": {},
   "outputs": [
    {
     "name": "stdout",
     "output_type": "stream",
     "text": [
      "Random single-qubit unitaries: set 0\n",
      "F fit (CVX) = 0.996372003713741\n",
      "F fit (MLE) = 0.9924743894012955\n",
      "Random single-qubit unitaries: set 1\n",
      "F fit (CVX) = 0.9998028756769166\n",
      "F fit (MLE) = 0.9970505822524109\n",
      "Random single-qubit unitaries: set 2\n",
      "F fit (CVX) = 0.9929243725666841\n",
      "F fit (MLE) = 0.9915540566134604\n",
      "Random single-qubit unitaries: set 3\n",
      "F fit (CVX) = 0.997715191175975\n",
      "F fit (MLE) = 0.9951079774538191\n",
      "Random single-qubit unitaries: set 4\n",
      "F fit (CVX) = 0.9983143670333272\n",
      "F fit (MLE) = 0.9988766200849537\n"
     ]
    }
   ],
   "source": [
    "for j in range(5):\n",
    "    print('Random single-qubit unitaries: set {}'.format(j))\n",
    "    random_u3_tomo(3, 5000)"
   ]
  },
  {
   "cell_type": "markdown",
   "metadata": {},
   "source": [
    "## 5-Qubit Bell State"
   ]
  },
  {
   "cell_type": "code",
   "execution_count": 8,
   "metadata": {},
   "outputs": [
    {
     "name": "stdout",
     "output_type": "stream",
     "text": [
      "Time taken: 8.38151502609253\n"
     ]
    }
   ],
   "source": [
    "# Create a state preparation circuit\n",
    "q5 = QuantumRegister(5)\n",
    "bell5 = QuantumCircuit(q5)\n",
    "bell5.h(q5[0])\n",
    "for j in range(4):\n",
    "    bell5.cx(q5[j], q5[j + 1])\n",
    "\n",
    "# Get ideal output state\n",
    "job = qiskit.execute(bell5, Aer.get_backend('statevector_simulator'))\n",
    "psi_bell5 = job.result().get_statevector(bell5)\n",
    "\n",
    "# Generate circuits and run on simulator\n",
    "t = time.time()\n",
    "qst_bell5 = tomo.state_tomography_circuits(bell5, q5)\n",
    "job = qiskit.execute(qst_bell5, Aer.get_backend('qasm_simulator'), shots=5000)\n",
    "\n",
    "# Extract tomography data so that countns are indexed by measurement configuration\n",
    "tomo_counts_bell5 = tomo.tomography_data(job.result(), qst_bell5)\n",
    "probs_bell5, basis_matrix_bell5, weights_bell5 = tomo.fitter_data(tomo_counts_bell5)\n",
    "print('Time taken:', time.time() - t)"
   ]
  },
  {
   "cell_type": "code",
   "execution_count": 9,
   "metadata": {},
   "outputs": [
    {
     "name": "stdout",
     "output_type": "stream",
     "text": [
      "MLE Reconstruction\n",
      "Time taken: 2.3089637756347656\n",
      "Fit Fidelity: 0.9940963795470237\n"
     ]
    }
   ],
   "source": [
    "t = time.time()\n",
    "rho_mle_bell5 = tomo.state_mle_fit(probs_bell5, basis_matrix_bell5, weights_bell5)\n",
    "print('MLE Reconstruction')\n",
    "print('Time taken:', time.time() - t)\n",
    "print('Fit Fidelity:', state_fidelity(psi_bell5, rho_mle_bell5))"
   ]
  },
  {
   "cell_type": "code",
   "execution_count": 10,
   "metadata": {},
   "outputs": [
    {
     "name": "stdout",
     "output_type": "stream",
     "text": [
      "SDP Reconstruction\n",
      "Time taken: 42.37651491165161\n",
      "Fidelity: 0.9999138790152728\n"
     ]
    }
   ],
   "source": [
    "t = time.time()\n",
    "rho_sdp_bell5 = tomo.state_cvx_fit(probs_bell5, basis_matrix_bell5, weights_bell5, solver='CVXOPT')\n",
    "print('SDP Reconstruction')\n",
    "print('Time taken:', time.time() - t)\n",
    "print('Fidelity:', state_fidelity(psi_bell5, rho_sdp_bell5))"
   ]
  }
 ],
 "metadata": {
  "kernelspec": {
   "display_name": "Python 3",
   "language": "python",
   "name": "python3"
  },
  "language_info": {
   "codemirror_mode": {
    "name": "ipython",
    "version": 3
   },
   "file_extension": ".py",
   "mimetype": "text/x-python",
   "name": "python",
   "nbconvert_exporter": "python",
   "pygments_lexer": "ipython3",
   "version": "3.6.8"
  }
 },
 "nbformat": 4,
 "nbformat_minor": 2
}
