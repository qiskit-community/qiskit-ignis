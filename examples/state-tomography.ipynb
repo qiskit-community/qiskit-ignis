{
 "cells": [
  {
   "cell_type": "markdown",
   "metadata": {},
   "source": [
    "<img src=\"../../images/qiskit-heading.gif\" alt=\"Note: In order for images to show up in this jupyter notebook you need to select File => Trusted Notebook\" width=\"500 px\" align=\"left\">"
   ]
  },
  {
   "cell_type": "markdown",
   "metadata": {},
   "source": [
    "# Quantum State Tomography\n",
    "\n",
    "* **Last Updated:** March 8, 2019\n",
    "* **Requires:** qiskit-terra 0.7, qiskit-ignis 0.1, qiskit-aer 0.1"
   ]
  },
  {
   "cell_type": "markdown",
   "metadata": {},
   "source": [
    "This notebook contains examples for using the ``ignis.verification.tomography`` state tomography module."
   ]
  },
  {
   "cell_type": "code",
   "execution_count": 28,
   "metadata": {},
   "outputs": [],
   "source": [
    "# Needed for functions\n",
    "import numpy as np\n",
    "import time\n",
    "\n",
    "# Import Qiskit classes\n",
    "import qiskit \n",
    "from qiskit import QuantumRegister, QuantumCircuit, ClassicalRegister, Aer\n",
    "from qiskit.quantum_info import state_fidelity\n",
    "from qiskit.providers.aer import noise\n",
    "\n",
    "# Tomography functions\n",
    "from qiskit.ignis.verification.tomography import state_tomography_circuits, StateTomographyFitter\n",
    "import qiskit.ignis.mitigation.measurement as mc"
   ]
  },
  {
   "cell_type": "markdown",
   "metadata": {},
   "source": [
    "## 2-Qubit state tomography Example"
   ]
  },
  {
   "cell_type": "markdown",
   "metadata": {},
   "source": [
    "In the below example we want to perform state tomography on a 2Q Bell state between qubits 3 and 5. To make the reference circuit we generate the expected statevector using ``statevector_simulator`` between qubits 0 and 1. "
   ]
  },
  {
   "cell_type": "code",
   "execution_count": 29,
   "metadata": {},
   "outputs": [
    {
     "name": "stdout",
     "output_type": "stream",
     "text": [
      "         ┌───┐     \n",
      "q8_0: |0>┤ H ├──■──\n",
      "         └───┘┌─┴─┐\n",
      "q8_1: |0>─────┤ X ├\n",
      "              └───┘\n",
      "[0.70710678+0.j 0.        +0.j 0.        +0.j 0.70710678+0.j]\n"
     ]
    }
   ],
   "source": [
    "# Create the expected density matrix\n",
    "q2 = QuantumRegister(2)\n",
    "bell = QuantumCircuit(q2)\n",
    "bell.h(q2[0])\n",
    "bell.cx(q2[0], q2[1])\n",
    "print(bell)\n",
    "\n",
    "job = qiskit.execute(bell, Aer.get_backend('statevector_simulator'))\n",
    "psi_bell = job.result().get_statevector(bell)\n",
    "print(psi_bell)"
   ]
  },
  {
   "cell_type": "code",
   "execution_count": 30,
   "metadata": {},
   "outputs": [
    {
     "name": "stdout",
     "output_type": "stream",
     "text": [
      "                   \n",
      "q9_0: |0>──────────\n",
      "                   \n",
      "q9_1: |0>──────────\n",
      "                   \n",
      "q9_2: |0>──────────\n",
      "         ┌───┐     \n",
      "q9_3: |0>┤ H ├──■──\n",
      "         └───┘  │  \n",
      "q9_4: |0>───────┼──\n",
      "              ┌─┴─┐\n",
      "q9_5: |0>─────┤ X ├\n",
      "              └───┘\n"
     ]
    }
   ],
   "source": [
    "# Create the actual circuit \n",
    "q2 = QuantumRegister(6)\n",
    "bell = QuantumCircuit(q2)\n",
    "bell.h(q2[3])\n",
    "bell.cx(q2[3], q2[5])\n",
    "print(bell)"
   ]
  },
  {
   "cell_type": "markdown",
   "metadata": {},
   "source": [
    "Here we are going to generate and fun the state tomography circuits. By only passing in the 2 registers we want to measure the state tomography will only run on that reduced $2^2$ Hilbert space. However, if we pass the whole register in the state tomography module will try and fit the full $2^6$ space."
   ]
  },
  {
   "cell_type": "code",
   "execution_count": 31,
   "metadata": {},
   "outputs": [
    {
     "name": "stdout",
     "output_type": "stream",
     "text": [
      "Time taken: 0.4744570255279541\n"
     ]
    }
   ],
   "source": [
    "# Generate circuits and run on simulator\n",
    "t = time.time()\n",
    "# Generate the state tomography circuits. Only pass in the \n",
    "# registers we want to measure (in this case 3 and 5)\n",
    "qst_bell = state_tomography_circuits(bell, [q2[3],q2[5]])\n",
    "job = qiskit.execute(qst_bell, Aer.get_backend('qasm_simulator'), shots=5000)\n",
    "print('Time taken:', time.time() - t)\n",
    "\n",
    "# Generate the state tomography circuits using the default settings for \n",
    "# basis\n",
    "\n",
    "tomo_bell = StateTomographyFitter(job.result(), qst_bell)"
   ]
  },
  {
   "cell_type": "markdown",
   "metadata": {},
   "source": [
    "The fitter will output a density matrix ordered according to how we passed in the registers to ``state_tomography_circuits``. "
   ]
  },
  {
   "cell_type": "code",
   "execution_count": 32,
   "metadata": {},
   "outputs": [
    {
     "name": "stdout",
     "output_type": "stream",
     "text": [
      "Fit Fidelity = 0.9999000849303845\n"
     ]
    }
   ],
   "source": [
    "# Perform the tomography fit\n",
    "# which outputs a density matrix\n",
    "rho_bell = tomo_bell.fit()\n",
    "F_bell = state_fidelity(psi_bell, rho_bell)\n",
    "print('Fit Fidelity =', F_bell)"
   ]
  },
  {
   "cell_type": "markdown",
   "metadata": {},
   "source": [
    "### Repeat the Example with Measurement Noise"
   ]
  },
  {
   "cell_type": "code",
   "execution_count": 33,
   "metadata": {},
   "outputs": [
    {
     "name": "stdout",
     "output_type": "stream",
     "text": [
      "Fit Fidelity (no correction) = 0.5769036647742336\n",
      "Fit Fidelity (w/ correction) = 0.9967713813311038\n"
     ]
    }
   ],
   "source": [
    "#Add measurement noise\n",
    "noise_model = noise.NoiseModel()\n",
    "for qi in range(6):\n",
    "    read_err = noise.errors.readout_error.ReadoutError([[0.75, 0.25],[0.1,0.9]])\n",
    "    noise_model.add_readout_error(read_err,[qi])\n",
    "    \n",
    "#generate the calibration circuits\n",
    "meas_calibs, state_labels = mc.complete_meas_cal(qubit_list=[3,5])\n",
    "\n",
    "backend = Aer.get_backend('qasm_simulator')\n",
    "qobj_cal = qiskit.compile(meas_calibs, backend=backend, shots=15000)\n",
    "qobj_tomo = qiskit.compile(qst_bell, backend=backend, shots=15000)\n",
    "\n",
    "job_cal = backend.run(qobj_cal, noise_model=noise_model)\n",
    "job_tomo = backend.run(qobj_tomo, noise_model=noise_model)\n",
    "\n",
    "meas_fitter = mc.CompleteMeasFitter(job_cal.result(),state_labels)\n",
    "\n",
    "tomo_bell = StateTomographyFitter(job_tomo.result(), qst_bell)\n",
    "\n",
    "#no correction\n",
    "rho_bell = tomo_bell.fit()\n",
    "F_bell = state_fidelity(psi_bell, rho_bell)\n",
    "print('Fit Fidelity (no correction) =', F_bell)\n",
    "\n",
    "#correct data\n",
    "correct_tomo_results = meas_fitter.filter.apply(job_tomo.result(), method='least_squares')\n",
    "tomo_bell = StateTomographyFitter(correct_tomo_results, qst_bell)\n",
    "rho_bell = tomo_bell.fit()\n",
    "F_bell = state_fidelity(psi_bell, rho_bell)\n",
    "print('Fit Fidelity (w/ correction) =', F_bell)"
   ]
  },
  {
   "cell_type": "markdown",
   "metadata": {},
   "source": [
    "## Generating and fitting random states\n",
    "\n",
    "We now test the functions on state generated by a circuit consiting of a layer of random single qubit unitaries u3"
   ]
  },
  {
   "cell_type": "code",
   "execution_count": 34,
   "metadata": {},
   "outputs": [],
   "source": [
    "def random_u3_tomo(nq, shots):\n",
    "    \n",
    "    def rand_angles():\n",
    "        return tuple(2 * np.pi * np.random.random(3) - np.pi)\n",
    "    q = QuantumRegister(nq)\n",
    "    circ = QuantumCircuit(q)\n",
    "    for j in range(nq):\n",
    "        circ.u3(*rand_angles(), q[j])\n",
    "    job = qiskit.execute(circ, Aer.get_backend('statevector_simulator'))\n",
    "    psi_rand = job.result().get_statevector(circ)\n",
    "    \n",
    "    qst_circs = state_tomography_circuits(circ, q)\n",
    "    job = qiskit.execute(qst_circs, Aer.get_backend('qasm_simulator'),\n",
    "                         shots=shots)\n",
    "    tomo_data = StateTomographyFitter(job.result(), qst_circs)\n",
    "    rho_cvx = tomo_data.fit(method='cvx')\n",
    "    rho_lstsq = tomo_data.fit(method='lstsq')\n",
    "    \n",
    "    print('F fit (CVX) =', state_fidelity(psi_rand, rho_cvx))\n",
    "    print('F fit (LSTSQ) =', state_fidelity(psi_rand, rho_lstsq))"
   ]
  },
  {
   "cell_type": "code",
   "execution_count": 35,
   "metadata": {},
   "outputs": [
    {
     "name": "stdout",
     "output_type": "stream",
     "text": [
      "Random single-qubit unitaries: set 0\n",
      "F fit (CVX) = 0.9982342978400156\n",
      "F fit (LSTSQ) = 0.9955699556857641\n",
      "Random single-qubit unitaries: set 1\n",
      "F fit (CVX) = 0.9997462856276226\n",
      "F fit (LSTSQ) = 0.9981847872964353\n",
      "Random single-qubit unitaries: set 2\n",
      "F fit (CVX) = 0.9968201908496568\n",
      "F fit (LSTSQ) = 0.9923331569383647\n",
      "Random single-qubit unitaries: set 3\n",
      "F fit (CVX) = 0.9993092033884361\n",
      "F fit (LSTSQ) = 0.995875515175604\n",
      "Random single-qubit unitaries: set 4\n",
      "F fit (CVX) = 0.9957937064209796\n",
      "F fit (LSTSQ) = 0.9932656872439047\n"
     ]
    }
   ],
   "source": [
    "for j in range(5):\n",
    "    print('Random single-qubit unitaries: set {}'.format(j))\n",
    "    random_u3_tomo(3, 5000)"
   ]
  },
  {
   "cell_type": "markdown",
   "metadata": {},
   "source": [
    "## 5-Qubit Bell State"
   ]
  },
  {
   "cell_type": "code",
   "execution_count": 36,
   "metadata": {},
   "outputs": [
    {
     "name": "stdout",
     "output_type": "stream",
     "text": [
      "Time taken: 11.79207706451416\n"
     ]
    }
   ],
   "source": [
    "# Create a state preparation circuit\n",
    "q5 = QuantumRegister(5)\n",
    "bell5 = QuantumCircuit(q5)\n",
    "bell5.h(q5[0])\n",
    "for j in range(4):\n",
    "    bell5.cx(q5[j], q5[j + 1])\n",
    "\n",
    "# Get ideal output state\n",
    "job = qiskit.execute(bell5, Aer.get_backend('statevector_simulator'))\n",
    "psi_bell5 = job.result().get_statevector(bell5)\n",
    "\n",
    "# Generate circuits and run on simulator\n",
    "t = time.time()\n",
    "qst_bell5 = state_tomography_circuits(bell5, q5)\n",
    "job = qiskit.execute(qst_bell5, Aer.get_backend('qasm_simulator'), shots=5000)\n",
    "\n",
    "# Extract tomography data so that counts are indexed by measurement configuration\n",
    "tomo_bell5 = StateTomographyFitter(job.result(), qst_bell5)\n",
    "print('Time taken:', time.time() - t)"
   ]
  },
  {
   "cell_type": "code",
   "execution_count": 37,
   "metadata": {},
   "outputs": [
    {
     "name": "stdout",
     "output_type": "stream",
     "text": [
      "Least-Sq Reconstruction\n",
      "Time taken: 6.593528985977173\n",
      "Fit Fidelity: 0.9934254969851912\n"
     ]
    }
   ],
   "source": [
    "t = time.time()\n",
    "rho_lstsq_bell5 = tomo_bell5.fit(method='lstsq')\n",
    "print('Least-Sq Reconstruction')\n",
    "print('Time taken:', time.time() - t)\n",
    "print('Fit Fidelity:', state_fidelity(psi_bell5, rho_lstsq_bell5))"
   ]
  },
  {
   "cell_type": "code",
   "execution_count": 38,
   "metadata": {},
   "outputs": [
    {
     "name": "stdout",
     "output_type": "stream",
     "text": [
      "CVX Reconstruction\n",
      "Time taken: 73.93138408660889\n",
      "Fidelity: 0.9999122713296319\n"
     ]
    }
   ],
   "source": [
    "t = time.time()\n",
    "rho_cvx_bell5 = tomo_bell5.fit(method='cvx')\n",
    "print('CVX Reconstruction')\n",
    "print('Time taken:', time.time() - t)\n",
    "print('Fidelity:', state_fidelity(psi_bell5, rho_cvx_bell5))"
   ]
  }
 ],
 "metadata": {
  "kernelspec": {
   "display_name": "Python 3",
   "language": "python",
   "name": "python3"
  },
  "language_info": {
   "codemirror_mode": {
    "name": "ipython",
    "version": 3
   },
   "file_extension": ".py",
   "mimetype": "text/x-python",
   "name": "python",
   "nbconvert_exporter": "python",
   "pygments_lexer": "ipython3",
   "version": "3.6.8"
  }
 },
 "nbformat": 4,
 "nbformat_minor": 2
}
