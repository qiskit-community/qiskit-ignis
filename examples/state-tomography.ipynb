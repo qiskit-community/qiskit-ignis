{
 "cells": [
  {
   "cell_type": "markdown",
   "metadata": {},
   "source": [
    "# Quantum State Tomography\n",
    "\n",
    "* **Last Updated:** Feb 28, 2019\n",
    "* **Requires:** qiskit-terra 0.7"
   ]
  },
  {
   "cell_type": "code",
   "execution_count": 1,
   "metadata": {},
   "outputs": [],
   "source": [
    "# Needed for functions\n",
    "import numpy as np\n",
    "import time\n",
    "\n",
    "# Import Qiskit classes\n",
    "import qiskit \n",
    "from qiskit import QuantumRegister, QuantumCircuit, ClassicalRegister, Aer\n",
    "from qiskit.quantum_info import state_fidelity\n",
    "from qiskit.providers.aer import noise\n",
    "\n",
    "# Tomography functions\n",
    "from qiskit.ignis.verification.tomography import state_tomography_circuits, StateTomographyFitter\n",
    "import qiskit.ignis.mitigation.measurement as mc"
   ]
  },
  {
   "cell_type": "markdown",
   "metadata": {},
   "source": [
    "## 2-Qubit state tomography Example"
   ]
  },
  {
   "cell_type": "code",
   "execution_count": 2,
   "metadata": {},
   "outputs": [
    {
     "name": "stdout",
     "output_type": "stream",
     "text": [
      "OPENQASM 2.0;\n",
      "include \"qelib1.inc\";\n",
      "qreg q0[2];\n",
      "h q0[0];\n",
      "cx q0[0],q0[1];\n",
      "\n",
      "[0.70710678+0.j 0.        +0.j 0.        +0.j 0.70710678+0.j]\n"
     ]
    }
   ],
   "source": [
    "# Create a state preparation circuit\n",
    "q2 = QuantumRegister(2)\n",
    "bell = QuantumCircuit(q2)\n",
    "bell.h(q2[0])\n",
    "bell.cx(q2[0], q2[1])\n",
    "print(bell.qasm())\n",
    "\n",
    "job = qiskit.execute(bell, Aer.get_backend('statevector_simulator'))\n",
    "psi_bell = job.result().get_statevector(bell)\n",
    "print(psi_bell)"
   ]
  },
  {
   "cell_type": "code",
   "execution_count": 3,
   "metadata": {},
   "outputs": [
    {
     "name": "stdout",
     "output_type": "stream",
     "text": [
      "Time taken: 0.35581493377685547\n"
     ]
    }
   ],
   "source": [
    "# Generate circuits and run on simulator\n",
    "t = time.time()\n",
    "qst_bell = state_tomography_circuits(bell, q2)\n",
    "job = qiskit.execute(qst_bell, Aer.get_backend('qasm_simulator'), shots=5000)\n",
    "print('Time taken:', time.time() - t)\n",
    "\n",
    "# Extract tomography data so that countns are indexed by measurement configuration\n",
    "# Note that the None labels are because this is state tomography instead of process tomography\n",
    "# Process tomography would have the preparation state labels there\n",
    "\n",
    "tomo_bell = StateTomographyFitter(job.result(), qst_bell)"
   ]
  },
  {
   "cell_type": "code",
   "execution_count": 4,
   "metadata": {},
   "outputs": [
    {
     "name": "stdout",
     "output_type": "stream",
     "text": [
      "Fit Fidelity = 0.9999687243422095\n"
     ]
    }
   ],
   "source": [
    "# Perform the tomography fit\n",
    "rho_bell = tomo_bell.fit()\n",
    "F_bell = state_fidelity(psi_bell, rho_bell)\n",
    "print('Fit Fidelity =', F_bell)"
   ]
  },
  {
   "cell_type": "markdown",
   "metadata": {},
   "source": [
    "### Repeat the Example with Measurement Noise"
   ]
  },
  {
   "cell_type": "code",
   "execution_count": 5,
   "metadata": {},
   "outputs": [
    {
     "name": "stdout",
     "output_type": "stream",
     "text": [
      "Fit Fidelity (no correction) = 0.5693532358477611\n",
      "Fit Fidelity (w/ correction) = 0.9960235204067276\n"
     ]
    }
   ],
   "source": [
    "#Add measurement noise\n",
    "noise_model = noise.NoiseModel()\n",
    "for qi in range(2):\n",
    "    read_err = noise.errors.readout_error.ReadoutError([[0.75, 0.25],[0.1,0.9]])\n",
    "    noise_model.add_readout_error(read_err,[qi])\n",
    "    \n",
    "#generate the calibration circuits\n",
    "meas_calibs, state_labels = mc.complete_meas_cal(qr=q2)\n",
    "\n",
    "backend = Aer.get_backend('qasm_simulator')\n",
    "qobj_cal = qiskit.compile(meas_calibs, backend=backend, shots=15000)\n",
    "qobj_tomo = qiskit.compile(qst_bell, backend=backend, shots=15000)\n",
    "\n",
    "job_cal = backend.run(qobj_cal, noise_model=noise_model)\n",
    "job_tomo = backend.run(qobj_tomo, noise_model=noise_model)\n",
    "\n",
    "meas_fitter = mc.CompleteMeasFitter(job_cal.result(),state_labels)\n",
    "\n",
    "tomo_bell = StateTomographyFitter(job_tomo.result(), qst_bell)\n",
    "\n",
    "#no correction\n",
    "rho_bell = tomo_bell.fit()\n",
    "F_bell = state_fidelity(psi_bell, rho_bell)\n",
    "print('Fit Fidelity (no correction) =', F_bell)\n",
    "\n",
    "#correct data\n",
    "correct_tomo_results = meas_fitter.filter.apply(job_tomo.result(), method='least_squares')\n",
    "tomo_bell = StateTomographyFitter(correct_tomo_results, qst_bell)\n",
    "rho_bell = tomo_bell.fit()\n",
    "F_bell = state_fidelity(psi_bell, rho_bell)\n",
    "print('Fit Fidelity (w/ correction) =', F_bell)"
   ]
  },
  {
   "cell_type": "markdown",
   "metadata": {},
   "source": [
    "## Generating and fitting random states\n",
    "\n",
    "We now test the functions on state generated by a circuit consiting of a layer of random single qubit unitaries u3"
   ]
  },
  {
   "cell_type": "code",
   "execution_count": 6,
   "metadata": {},
   "outputs": [],
   "source": [
    "def random_u3_tomo(nq, shots):\n",
    "    \n",
    "    def rand_angles():\n",
    "        return tuple(2 * np.pi * np.random.random(3) - np.pi)\n",
    "    q = QuantumRegister(nq)\n",
    "    circ = QuantumCircuit(q)\n",
    "    for j in range(nq):\n",
    "        circ.u3(*rand_angles(), q[j])\n",
    "    job = qiskit.execute(circ, Aer.get_backend('statevector_simulator'))\n",
    "    psi_rand = job.result().get_statevector(circ)\n",
    "    \n",
    "    qst_circs = state_tomography_circuits(circ, q)\n",
    "    job = qiskit.execute(qst_circs, Aer.get_backend('qasm_simulator'),\n",
    "                         shots=shots)\n",
    "    tomo_data = StateTomographyFitter(job.result(), qst_circs)\n",
    "    rho_cvx = tomo_data.fit(method='cvx')\n",
    "    rho_lstsq = tomo_data.fit(method='lstsq')\n",
    "    \n",
    "    print('F fit (CVX) =', state_fidelity(psi_rand, rho_cvx))\n",
    "    print('F fit (LSTSQ) =', state_fidelity(psi_rand, rho_lstsq))"
   ]
  },
  {
   "cell_type": "code",
   "execution_count": 7,
   "metadata": {},
   "outputs": [
    {
     "name": "stdout",
     "output_type": "stream",
     "text": [
      "Random single-qubit unitaries: set 0\n",
      "F fit (CVX) = 0.9978156237448637\n",
      "F fit (LSTSQ) = 0.9930491098490741\n",
      "Random single-qubit unitaries: set 1\n",
      "F fit (CVX) = 0.9981310819833952\n",
      "F fit (LSTSQ) = 0.998209371153777\n",
      "Random single-qubit unitaries: set 2\n",
      "F fit (CVX) = 0.9986613929427925\n",
      "F fit (LSTSQ) = 0.9977340937562109\n",
      "Random single-qubit unitaries: set 3\n",
      "F fit (CVX) = 0.9966797248885677\n",
      "F fit (LSTSQ) = 0.9961833859762292\n",
      "Random single-qubit unitaries: set 4\n",
      "F fit (CVX) = 0.999391383434298\n",
      "F fit (LSTSQ) = 0.9961654603890222\n"
     ]
    }
   ],
   "source": [
    "for j in range(5):\n",
    "    print('Random single-qubit unitaries: set {}'.format(j))\n",
    "    random_u3_tomo(3, 5000)"
   ]
  },
  {
   "cell_type": "markdown",
   "metadata": {},
   "source": [
    "## 5-Qubit Bell State"
   ]
  },
  {
   "cell_type": "code",
   "execution_count": 8,
   "metadata": {},
   "outputs": [
    {
     "name": "stdout",
     "output_type": "stream",
     "text": [
      "Time taken: 8.33616304397583\n"
     ]
    }
   ],
   "source": [
    "# Create a state preparation circuit\n",
    "q5 = QuantumRegister(5)\n",
    "bell5 = QuantumCircuit(q5)\n",
    "bell5.h(q5[0])\n",
    "for j in range(4):\n",
    "    bell5.cx(q5[j], q5[j + 1])\n",
    "\n",
    "# Get ideal output state\n",
    "job = qiskit.execute(bell5, Aer.get_backend('statevector_simulator'))\n",
    "psi_bell5 = job.result().get_statevector(bell5)\n",
    "\n",
    "# Generate circuits and run on simulator\n",
    "t = time.time()\n",
    "qst_bell5 = state_tomography_circuits(bell5, q5)\n",
    "job = qiskit.execute(qst_bell5, Aer.get_backend('qasm_simulator'), shots=5000)\n",
    "\n",
    "# Extract tomography data so that countns are indexed by measurement configuration\n",
    "tomo_bell5 = StateTomographyFitter(job.result(), qst_bell5)\n",
    "print('Time taken:', time.time() - t)"
   ]
  },
  {
   "cell_type": "code",
   "execution_count": 9,
   "metadata": {},
   "outputs": [
    {
     "name": "stdout",
     "output_type": "stream",
     "text": [
      "Least-Sq Reconstruction\n",
      "Time taken: 5.282316207885742\n",
      "Fit Fidelity: 0.9935772694475447\n"
     ]
    }
   ],
   "source": [
    "t = time.time()\n",
    "rho_lstsq_bell5 = tomo_bell5.fit(method='lstsq')\n",
    "print('Least-Sq Reconstruction')\n",
    "print('Time taken:', time.time() - t)\n",
    "print('Fit Fidelity:', state_fidelity(psi_bell5, rho_lstsq_bell5))"
   ]
  },
  {
   "cell_type": "code",
   "execution_count": 10,
   "metadata": {},
   "outputs": [
    {
     "name": "stdout",
     "output_type": "stream",
     "text": [
      "CVX Reconstruction\n",
      "Time taken: 57.68274211883545\n",
      "Fidelity: 0.9999223159638952\n"
     ]
    }
   ],
   "source": [
    "t = time.time()\n",
    "rho_cvx_bell5 = tomo_bell5.fit(method='cvx')\n",
    "print('CVX Reconstruction')\n",
    "print('Time taken:', time.time() - t)\n",
    "print('Fidelity:', state_fidelity(psi_bell5, rho_cvx_bell5))"
   ]
  }
 ],
 "metadata": {
  "kernelspec": {
   "display_name": "Python 3",
   "language": "python",
   "name": "python3"
  },
  "language_info": {
   "codemirror_mode": {
    "name": "ipython",
    "version": 3
   },
   "file_extension": ".py",
   "mimetype": "text/x-python",
   "name": "python",
   "nbconvert_exporter": "python",
   "pygments_lexer": "ipython3",
   "version": "3.6.8"
  }
 },
 "nbformat": 4,
 "nbformat_minor": 2
}
