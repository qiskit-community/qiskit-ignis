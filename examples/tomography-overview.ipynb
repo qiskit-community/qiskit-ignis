{
 "cells": [
  {
   "cell_type": "markdown",
   "metadata": {},
   "source": [
    "# Quantum Tomography Overview\n",
    "\n",
    "* **Author:** Gadi Aleksandrowicz (gadia@il.ibm.com)\n",
    "* **Last Updated:** February 12, 2019\n",
    "\n"
   ]
  },
  {
   "cell_type": "code",
   "execution_count": 1,
   "metadata": {},
   "outputs": [],
   "source": [
    "import numpy as np"
   ]
  },
  {
   "cell_type": "markdown",
   "metadata": {},
   "source": [
    "## The General Theory\n",
    "\n",
    "The goal of quantum tomography is to obtain data on quantum systems by performing several different measurements. In Qiskit Ignis we are currently concerened with the following two tomography tasks:\n",
    "\n",
    "1. **Quantum state tomograhpy**: Given a quantum state described by a density operator $\\rho$, obtain a matrix representation for $\\rho$.\n",
    "2. **Quantum process tomograhpy**: Given a quantum channel $\\mathcal{E}$, obtain a matrix representation (the **Choi matrix**) for $\\mathcal{E}$.\n",
    "\n",
    "In both cases we rely on the assumption that we have access to a large number of identical copies of the system and so can perform several different measures on it.\n",
    "\n",
    "We can roughly split the tomography process to three stages:\n",
    "1. Preperation: Add suitable initialization/measurement devices to the quantum system.\n",
    "2. Experiment: Obtain measurement data from the quantum system.\n",
    "3. Tomography: Use the obtained data to reconstruct the system's description.\n",
    "\n",
    "Steps 1 and 2 are related to the quantum system being studied, whereas step 3 is a classical computation which can be carried out on standard computers.\n",
    "\n",
    "## State Tomography Overview\n",
    "\n",
    "Let $\\rho$ be the density operator of a quantum state. If $\\rho$ can be reliably reproduced, it can be subjected to several measurements with respect to different operators; this data can be used to reconstruct $\\rho$ or a close approximation of it by several different methods.\n",
    "\n",
    "### Example: 1-qubit reconstruction using the Pauli basis\n",
    "\n",
    "Given the Pauli matrices $\n",
    "I=\\left(\\begin{array}{cc}\n",
    "1 & 0\\\\\n",
    "0 & 1\n",
    "\\end{array}\\right),\n",
    "X=\\left(\\begin{array}{cc}\n",
    "0 & 1\\\\\n",
    "1 & 0\n",
    "\\end{array}\\right),\n",
    "Y=\\left(\\begin{array}{cc}\n",
    "0 & -i\\\\\n",
    "i & 0\n",
    "\\end{array}\\right),\n",
    "Z=\\left(\\begin{array}{cc}\n",
    "1 & 0\\\\\n",
    "0 & -1\n",
    "\\end{array}\\right)$\n"
   ]
  },
  {
   "cell_type": "code",
   "execution_count": 2,
   "metadata": {},
   "outputs": [],
   "source": [
    "I = np.array([[1,0],[0,1]])\n",
    "X = np.array([[0,1],[1,0]])\n",
    "Y = np.array([[0,-1j],[1j,0]])\n",
    "Z = np.array([[1,0],[0,-1]])"
   ]
  },
  {
   "cell_type": "markdown",
   "metadata": {},
   "source": [
    "It is easy to see they constitute an orthonormal basis for $M_2(\\mathbb{C})$ with respect to the Hilbert-Schmidt inner product $\\left\\langle A,B\\right\\rangle =\\frac{1}{2}\\text{tr}\\left(B^{\\dagger}A\\right)$"
   ]
  },
  {
   "cell_type": "code",
   "execution_count": 3,
   "metadata": {},
   "outputs": [],
   "source": [
    "def HS_product(A,B):\n",
    "    return 0.5*np.trace(np.conj(B).T @ A)"
   ]
  },
  {
   "cell_type": "markdown",
   "metadata": {},
   "source": [
    "\n",
    "And hence,\n",
    "\n",
    "$$ \\rho =\\left\\langle \\rho,I\\right\\rangle I+\\left\\langle \\rho,X\\right\\rangle X+\\left\\langle \\rho,Y\\right\\rangle Y+\\left\\langle \\rho,Z\\right\\rangle Z = $$\n",
    "\n",
    "$$=\\frac{\\text{tr}\\left(\\rho\\right)I+\\text{tr}\\left(X\\rho\\right)X+\\text{tr}\\left(Y\\rho\\right)Y+\\text{tr}\\left(Z\\rho\\right)Z}{2}$$\n",
    "\n",
    "The values of $\\text{tr}\\left(X\\rho\\right), \\text{tr}\\left(Y\\rho\\right), \\text{tr}\\left(Z\\rho\\right)$ are the expectation values of $X$, $Y$, $Z$, respectively, and can be approximated by repeated measuring in the $X, Y$ and $Z$ bases. Since $\\text{tr}\\left(\\rho\\right)=1$ there is no need for additional measurements for the coefficient of $I$.\n",
    "\n",
    "### Example: 1-qubit Linear inversion\n",
    "\n",
    "The above method can be rephrased in more general form. First, any hermitian operator $H$ has a spectral decomposition of the form $H=\\sum \\lambda_i P_i$ where $\\lambda_i$ is an eigenvalue of $H$ and $P_i$ is the projection operator to the corresponding eigenspace. For the hermitian operators $X,Y,Z$ whose eigenvalues are 1 and -1 we can therefore write\n",
    "\n",
    "* $X = P^X_0-P^X_1$\n",
    "* $Y = P^Y_0-P^Y_1$\n",
    "* $Z = P^Z_0-P^Z_1$\n",
    "\n",
    "Where\n",
    "\n",
    "\n",
    "\n",
    "$$P^X_0=\\frac{1}{2}\\left(\\begin{array}{cc}\n",
    "1 & 1\\\\\n",
    "1 & 1\n",
    "\\end{array}\\right), P^X_1=\\frac{1}{2}\\left(\\begin{array}{cc}\n",
    "1 & -1\\\\\n",
    "-1 & 1\n",
    "\\end{array}\\right)$$\n",
    "\n",
    "$$P^Y_0=\\frac{1}{2}\\left(\\begin{array}{cc}\n",
    "1 & -i\\\\\n",
    "i & 1\n",
    "\\end{array}\\right), P^Y_1=\\frac{1}{2}\\left(\\begin{array}{cc}\n",
    "1 & i\\\\\n",
    "-i & 1\n",
    "\\end{array}\\right)$$\n",
    "\n",
    "$$P^Z_0=\\left(\\begin{array}{cc}\n",
    "1 & 0\\\\\n",
    "0 & 0\n",
    "\\end{array}\\right), P^Z_1=\\left(\\begin{array}{cc}\n",
    "0 & 0\\\\\n",
    "0 & 1\n",
    "\\end{array}\\right)$$\n",
    "\n",
    "In the Ignis code, these matrices are defined in **tomography.fitters.utils.pauli_preparation_matrix**. We give an explicit definition here:"
   ]
  },
  {
   "cell_type": "code",
   "execution_count": 4,
   "metadata": {},
   "outputs": [],
   "source": [
    "PX0 = 0.5*np.array([[1, 1], [1, 1]])\n",
    "PX1 = 0.5*np.array([[1, -1], [-1, 1]])\n",
    "\n",
    "PY0 = 0.5*np.array([[1, -1j], [1j, 1]])\n",
    "PY1 = 0.5*np.array([[1, 1j], [-1j, 1]])\n",
    "\n",
    "PZ0 = np.array([[1, 0], [0, 0]])\n",
    "PZ1 = np.array([[0, 0], [0, 1]])\n",
    "\n",
    "projectors = [PX0, PX1, PY0, PY1, PZ0, PZ1]"
   ]
  },
  {
   "cell_type": "markdown",
   "metadata": {},
   "source": [
    "By Born's rule, $\\text{tr}\\left(P_{i}^{X}\\rho\\right)$ is the probability for the outcome $\\left|i\\right\\rangle$ when measuring in the X-basis, and this probability can be estimated directly using repeated meausrements in the X-basis. The $Y$ and $Z$ bases are handled\n",
    "similarily.\n",
    "\n",
    "The computation $\\text{tr}\\left(P_{i}^{X}\\rho\\right)$ can be replaced by the scalar product $\\vec{P}_i^X \\cdot \\vec{\\rho}$ where $\\vec{E}$ denotes the vector obtained from the operator $E$ by flattening its matrix (the result vector consists of the first row, then the second row etc.)\n",
    "\n",
    "Now we can construct a matrix $$M=\\left(\\begin{array}{c}\n",
    "\\vec{P}_{0}^{X}\\\\\n",
    "\\vec{P}_{1}^{X}\\\\\n",
    "\\vec{P}_{0}^{Y}\\\\\n",
    "\\vec{P}_{1}^{Y}\\\\\n",
    "\\vec{P}_{0}^{Z}\\\\\n",
    "\\vec{P}_{1}^{Z}\n",
    "\\end{array}\\right)$$\n",
    "\n",
    "Such that $$M\\vec{\\rho}=\\vec{p}=\\left(\\begin{array}{c}\n",
    "p_{\\left|0\\right\\rangle }^{X}\\\\\n",
    "p_{\\left|1\\right\\rangle }^{X}\\\\\n",
    "p_{\\left|0\\right\\rangle }^{Y}\\\\\n",
    "p_{\\left|1\\right\\rangle }^{Y}\\\\\n",
    "p_{\\left|0\\right\\rangle }^{Z}\\\\\n",
    "p_{\\left|1\\right\\rangle }^{Z}\n",
    "\\end{array}\\right)$$\n",
    "\n",
    "Is the equation relating the density operator to the observed probabilities."
   ]
  },
  {
   "cell_type": "code",
   "execution_count": 5,
   "metadata": {},
   "outputs": [
    {
     "data": {
      "text/plain": [
       "array([[ 0.5+0.j ,  0.5+0.j ,  0.5+0.j ,  0.5+0.j ],\n",
       "       [ 0.5+0.j , -0.5+0.j , -0.5+0.j ,  0.5+0.j ],\n",
       "       [ 0.5+0.j ,  0. -0.5j,  0. +0.5j,  0.5+0.j ],\n",
       "       [ 0.5+0.j ,  0. +0.5j,  0. -0.5j,  0.5+0.j ],\n",
       "       [ 1. +0.j ,  0. +0.j ,  0. +0.j ,  0. +0.j ],\n",
       "       [ 0. +0.j ,  0. +0.j ,  0. +0.j ,  1. +0.j ]])"
      ]
     },
     "execution_count": 5,
     "metadata": {},
     "output_type": "execute_result"
    }
   ],
   "source": [
    "M = np.array([p.flatten() for p in projectors])\n",
    "M"
   ]
  },
  {
   "cell_type": "markdown",
   "metadata": {},
   "source": [
    "Since $M$ can be computed by knowing the operators used in the tomography, and the vector $\\vec{p}$ of probabilities can be estimated using the tomography results, all that remains is to solve the equation $M\\vec{\\rho}=\\vec{p}$ for $\\vec{\\rho}$. If the rank of $M$ is large enough this can be done by multiplying both sides by $M^\\dagger$:\n",
    "\n",
    "$M^\\dagger M\\vec{\\rho} = M^\\dagger \\vec{p}$\n",
    "\n",
    "$\\vec{\\rho} = (M^\\dagger M)^{-1} M^\\dagger \\vec{p}$\n",
    "\n",
    "In our example, we obtain the matrix \n",
    "$$(M^\\dagger M)^{-1} M^\\dagger = \\left(\\begin{array}{cccccc}\n",
    "\\frac{1}{6} & \\frac{1}{6} & \\frac{1}{6} & \\frac{1}{6} & \\frac{4}{6} & -\\frac{2}{6}\\\\\n",
    "\\frac{1}{2} & -\\frac{1}{2} & \\frac{i}{2} & -\\frac{i}{2} & 0 & 0\\\\\n",
    "\\frac{1}{2} & -\\frac{1}{2} & -\\frac{i}{2} & \\frac{i}{2} & 0 & 0\\\\\n",
    "\\frac{1}{6} & \\frac{1}{6} & \\frac{1}{6} & \\frac{1}{6} & -\\frac{2}{6} & \\frac{4}{6}\n",
    "\\end{array}\\right)$$"
   ]
  },
  {
   "cell_type": "code",
   "execution_count": 6,
   "metadata": {
    "scrolled": true
   },
   "outputs": [],
   "source": [
    "M_dg = np.conj(M).T\n",
    "linear_inversion_matrix = np.linalg.inv(M_dg @ M) @ M_dg"
   ]
  },
  {
   "cell_type": "markdown",
   "metadata": {},
   "source": [
    "Multiplication by the linear inversion matrix performs the reconstruction stage described earlier to obtain the density operator.\n",
    "\n",
    "### Example: 2-qubit Linear inversion\n",
    "\n",
    "For multiple qubit systems the technique of linear inversion remains the same. The projector operators are tensor products of 1-qubit projectors: $6^n$ projectors in total, since we measure according to $3^n$ operators (tensor products of $X,Y,Z$) and each operator has two projectors."
   ]
  },
  {
   "cell_type": "code",
   "execution_count": 7,
   "metadata": {},
   "outputs": [],
   "source": [
    "import itertools\n",
    "projectors_2 = [np.kron(p1, p2) for (p1, p2) in itertools.product(projectors, repeat = 2)]\n",
    "M_2 = np.array([p.flatten() for p in projectors_2])\n",
    "M_dg_2 = np.conj(M_2).T\n",
    "linear_inversion_matrix_2 = np.linalg.inv(M_dg_2 @ M_2) @ M_dg_2"
   ]
  },
  {
   "cell_type": "markdown",
   "metadata": {},
   "source": [
    "We will now attempt to reconstruct the Bell state $\\frac{\\left|00\\right\\rangle +\\left|11\\right\\rangle }{\\sqrt{2}}$ from simulated tomography results. First, we prepare a quantum circuit which generates this bell state from the input $\\left|00\\right\\rangle$."
   ]
  },
  {
   "cell_type": "code",
   "execution_count": 8,
   "metadata": {},
   "outputs": [
    {
     "data": {
      "text/plain": [
       "'OPENQASM 2.0;\\ninclude \"qelib1.inc\";\\nqreg q0[2];\\nh q0[0];\\ncx q0[0],q0[1];\\n'"
      ]
     },
     "execution_count": 8,
     "metadata": {},
     "output_type": "execute_result"
    }
   ],
   "source": [
    "import qiskit \n",
    "from qiskit import QuantumRegister, QuantumCircuit\n",
    "\n",
    "q2 = QuantumRegister(2)\n",
    "bell = QuantumCircuit(q2)\n",
    "bell.h(q2[0])\n",
    "bell.cx(q2[0], q2[1])\n",
    "bell.qasm()"
   ]
  },
  {
   "cell_type": "markdown",
   "metadata": {},
   "source": [
    "We now use Ignis' **state_tomography_circuits** procedure which generates the $3^n$ circuits obtained by adding to the bell circuit a measurement according to each of our measurement operators (Pauli by default). Then we execute on a standard simulator."
   ]
  },
  {
   "cell_type": "code",
   "execution_count": 9,
   "metadata": {},
   "outputs": [],
   "source": [
    "from qiskit import Aer\n",
    "import tomography as tomo\n",
    "qst_bell = tomo.state_tomography_circuits(bell, q2)\n",
    "job = qiskit.execute(qst_bell, Aer.get_backend('qasm_simulator'), shots=5000)"
   ]
  },
  {
   "cell_type": "markdown",
   "metadata": {},
   "source": [
    "Now we use the **tomography_data** procedure which converts the simulator output into the clear format used in tomography."
   ]
  },
  {
   "cell_type": "code",
   "execution_count": 10,
   "metadata": {},
   "outputs": [
    {
     "data": {
      "text/plain": [
       "{('X', 'X'): {'11': 2494, '00': 2506},\n",
       " ('X', 'Y'): {'11': 1227, '01': 1269, '00': 1265, '10': 1239},\n",
       " ('X', 'Z'): {'11': 1248, '01': 1234, '00': 1250, '10': 1268},\n",
       " ('Y', 'X'): {'11': 1219, '01': 1232, '00': 1278, '10': 1271},\n",
       " ('Y', 'Y'): {'01': 2536, '10': 2464},\n",
       " ('Y', 'Z'): {'11': 1198, '01': 1228, '00': 1288, '10': 1286},\n",
       " ('Z', 'X'): {'11': 1308, '01': 1205, '00': 1260, '10': 1227},\n",
       " ('Z', 'Y'): {'11': 1263, '01': 1261, '00': 1227, '10': 1249},\n",
       " ('Z', 'Z'): {'11': 2513, '00': 2487}}"
      ]
     },
     "execution_count": 10,
     "metadata": {},
     "output_type": "execute_result"
    }
   ],
   "source": [
    "tomo_counts_bell = tomo.tomography_data(job.result(), qst_bell)\n",
    "tomo_counts_bell"
   ]
  },
  {
   "cell_type": "markdown",
   "metadata": {},
   "source": [
    "Now use **fitter_data** to explicitly extract the probability vector $\\vec{p}$ and projector matrix $M$ that satisfy $M\\vec{\\rho} = \\vec{p}$:"
   ]
  },
  {
   "cell_type": "code",
   "execution_count": 11,
   "metadata": {},
   "outputs": [],
   "source": [
    "p, M, weights = tomo.fitter_data(tomo_counts_bell)"
   ]
  },
  {
   "cell_type": "markdown",
   "metadata": {},
   "source": [
    "Now we use the linear inversion technique to reconstructo $\\vec{\\rho}$. Since we usually represent density matrices as matrices and not vectors, we use Numpy's **reshape** function to convert $\\vec{\\rho}$ into $\\rho$."
   ]
  },
  {
   "cell_type": "code",
   "execution_count": 12,
   "metadata": {},
   "outputs": [
    {
     "name": "stdout",
     "output_type": "stream",
     "text": [
      "[[ 0.4979    +0.j          0.00073333+0.0015j      0.00616667+0.00093333j\n",
      "   0.5       -0.0011j    ]\n",
      " [ 0.00073333-0.0015j      0.00123333+0.j          0.        -0.0005j\n",
      "  -0.00743333+0.00293333j]\n",
      " [ 0.00616667-0.00093333j  0.        +0.0005j     -0.00123333+0.j\n",
      "   0.00113333+0.0043j    ]\n",
      " [ 0.5       +0.0011j     -0.00743333-0.00293333j  0.00113333-0.0043j\n",
      "   0.5021    +0.j        ]]\n"
     ]
    }
   ],
   "source": [
    "M_dg = np.conj(M).T\n",
    "linear_inversion_matrix = np.linalg.inv(M_dg @ M) @ M_dg\n",
    "rho_bell = linear_inversion_matrix @ p\n",
    "rho_bell = np.reshape(rho_bell, (4, 4))\n",
    "print(rho_bell)"
   ]
  },
  {
   "cell_type": "markdown",
   "metadata": {},
   "source": [
    "To check the quality of our solution, we compute the fidelity between the real quantum state (obtained via simulation by a simulator that can return state vectors) and our calculated $\\rho$. The closer the fidelity to 1, the better."
   ]
  },
  {
   "cell_type": "code",
   "execution_count": 13,
   "metadata": {},
   "outputs": [
    {
     "name": "stdout",
     "output_type": "stream",
     "text": [
      "Fit Fidelity linear inversion = 1.0000000000000002\n"
     ]
    }
   ],
   "source": [
    "from qiskit.quantum_info import state_fidelity\n",
    "job = qiskit.execute(bell, Aer.get_backend('statevector_simulator'))\n",
    "psi_bell = job.result().get_statevector(bell)\n",
    "F_bell = state_fidelity(psi_bell, rho_bell)\n",
    "print('Fit Fidelity linear inversion =', F_bell)"
   ]
  },
  {
   "cell_type": "markdown",
   "metadata": {},
   "source": [
    "## Maximum Likelihood \n",
    "\n",
    "Linear inversion works perfectly on accurate data, but tomography data is never fully accurate. Two obvious obstacles are\n",
    "1. Since the number of measurements is limited, we do not obtain the probability vector $\\vec{p}$ but an approximation.\n",
    "2. The measurement process might be noisy.\n",
    "\n",
    "This may result in non-accurate or even self-contradicting $\\vec{p}$, and the result of linear inversion might not be a density function at all (e.g. not nonnegative, or trace different than 1).\n",
    "\n",
    "Since we want to solve the linear problem $A\\vec{x}=\\vec{p}$ for $x$, we can turn it into an optimization problem by attempting to minimize $\\|A\\vec{x}-\\vec{p}\\|_2$ while subjacting $x$ to additional constraints verifying this is indeed a density matrix. This is done by **state_cvx_fit**.\n",
    "\n",
    "Another approach is to solve this optimization problem with no further constraints. The result might not be a density operator, i.e. positive semidefinite with trace 1; in this case the algorithm first rescales in order to obtain a density operator. This is done using **state_mle_fit**."
   ]
  },
  {
   "cell_type": "code",
   "execution_count": 14,
   "metadata": {},
   "outputs": [
    {
     "name": "stdout",
     "output_type": "stream",
     "text": [
      "Fit Fidelity CVX fit = 0.9937579141994126\n",
      "Fit Fidelity MLE fit = 0.9937579141994126\n"
     ]
    }
   ],
   "source": [
    "rho_cvx_bell = tomo.state_cvx_fit(p, M)\n",
    "F_bell = state_fidelity(psi_bell, rho_cvx_bell)\n",
    "print('Fit Fidelity CVX fit =', F_bell)\n",
    "\n",
    "rho_mle_bell = tomo.state_cvx_fit(p, M)\n",
    "F_bell = state_fidelity(psi_bell, rho_mle_bell)\n",
    "print('Fit Fidelity MLE fit =', F_bell)"
   ]
  },
  {
   "cell_type": "markdown",
   "metadata": {},
   "source": [
    "## Process Tomography Overview\n",
    "\n",
    "A quantum process describes the evolution of a quantum system over time. While many processes can be described as function taking a state and returning another state (e.g. unitary gates), in general a process can induce uncertainty (e.g. because a measurement was performed on because of noise). Because of that, processes are modeled as a function $\\mathcal{E}(\\rho)=\\rho^\\prime$ on the space of density operators.\n",
    "\n",
    "Process tomography aims to find a description of $\\mathcal{E}$ from a set of measurements. Like state tomography, we measure with respect to several different bases. Process tomography also uses several different initial states, as opposed to state tomography where only $\\left|0^n\\right\\rangle$ is used.\n",
    "\n",
    "There are several different representations for a quantum process: To name a few there is the **Kraus operators** representation, the **Superoperator** representation, the **Choi matrix** representation and the **$\\chi$ matrix** representation. In what follows we give explicit description for those representations. \n",
    "\n",
    "The Choi matrix representation has the advantage that its computation can be seen as a case of **state tomography** over a suitably chosen space. This enables us to use the same algorithms for both state and process tomography with only minor changes.\n",
    "\n",
    "### Definitions\n",
    "\n",
    "We denote by $X$ the state space. Usually in quantum computing it is a tensor product of 2-dimensional space spanned by $\\left|0\\right\\rangle$ and $\\left|1\\right\\rangle$; here we only assume it is a complex vector space of dimension $n$. Only elements of norm 1 in $X$ are considered to represent quantum states.\n",
    "\n",
    "The space of all linear operators over $X$ is denoted by $L(X)$; every density operator is an element $\\rho \\in L(X)$ which is\n",
    "1. Of trace 1, i.e. $\\text{tr}(\\rho) = 1$\n",
    "2. Positive semidefinite, i.e. $\\left\\langle \\psi \\right|\\rho \\left|\\psi\\right\\rangle \\ge 0$ for all $\\psi$. This is denoted by $\\rho \\ge 0$.\n",
    "\n",
    "The space of all linear opeators over $L(X)$ is denoted by $T(X)$ (instead of using $L(L(X))$ which is more cubersome). A quantum process is an element of $T(X)$ mapping density operators to density operators. In order to do this, the process has to preserve the trace and positiveness of $\\rho$; we require it to be **trace-preserving** and **completely positive**:\n",
    "\n",
    "1. $\\mathcal{E}\\in T(X)$ is **trace-preserving** if $\\text{tr}(\\mathcal{E}(\\rho))=\\text{tr}(\\rho)$ for every $\\rho$.\n",
    "2. $\\mathcal{E}\\in T(X)$ is **positive** if $\\rho \\ge 0$ implies $\\mathcal{E}(\\rho) \\ge 0$. Moreover, $\\mathcal{E}$ is **completely positive** if $\\text{Id}\\otimes \\mathcal{E}$ is positive where $\\text{Id}$ is the identity operator on any space of density operators.\n",
    "\n",
    "#### Kraus operators\n",
    "\n",
    "A common description of a quantum process $\\mathcal{E}$ is via **Kraus operators**. A set $\\left\\{K_1, K_2, \\dots, K_t\\right\\}$ such that $K_i \\in L(X)$ with the additional constraint that $\\sum_{i=1}^k K_i^\\dagger K_i = I$\n",
    "and the operation of $\\mathcal{E}$ is given by a sum of conjugations: \n",
    "$$\\mathcal{E}(\\rho) = \\sum_{i=1}^k K_i\\rho K_i^\\dagger$$\n",
    "\n",
    "This is a common description of quantum processes. In case of a unitary operator $U$, the set $\\left\\{U\\right\\}$ is a Kraus operator representation of it. Measurements and noises are also commonly given via Kraus operators. Note however that the Kraus representation of a quantum process is not unique.\n",
    "\n",
    "#### Superoperator\n",
    "\n",
    "Since $\\mathcal{E}$ is a linear operator over $L(X)$ then for any choice of basis for $L(X)$ it can be described as a matrix $\\mathcal{S}$, such that $\\mathcal{E}(\\rho) = \\mathcal{S}\\cdot [\\rho]$ where $[\\rho]$ is the coordinate vector of $\\rho$ over the same basis. $\\mathcal{S}$ is called a **superoperator representation** of $\\mathcal{E}$; it is dependent on the choice of basis for $L(X)$.\n",
    "\n",
    "In practice $\\rho$ is usually given by a matrix, and $[\\rho]$ is obtained by **vectorization** of $\\rho$; usually stacking the rows of $\\rho$ one after another (different stacking methods result in different superoperator representations).\n",
    "\n",
    "#### Choi matrix\n",
    "\n",
    "Given a basis $\\left\\{\\left|0\\right\\rangle, \\left|1\\right\\rangle,\\dots, \\left|n-1\\right\\rangle\\right\\}$ of $X$, a basis for $L(X)$ consists of all the elements $\\left|i\\right\\rangle\\left\\langle j\\right|$ for $0\\le i,j<n$. $\\mathcal{E}$ is completely determined by its operation on these basis elements; the Choi matrix collects the results of those operations. Formally, the Choi matrix is defined by\n",
    "\n",
    "$$\\Lambda_\\mathcal{E} = \\sum_{i,j=0}^{n-1} \\left|i\\right\\rangle\\left\\langle j\\right| \\otimes \\mathcal{E}(\\left|i\\right\\rangle\\left\\langle j\\right|)$$\n",
    "\n",
    "By representing $\\left|i\\right\\rangle\\left\\langle j\\right|$ as a matrix with 1 in the $ij$ entry and 0 everywhere else, we get the following explicit matrix representation of the Choi matrix:\n",
    "\n",
    "$$\\Lambda_\\mathcal{E} = \\left(\\begin{array}{ccc}\n",
    "\\mathcal{E}\\left(\\left|0\\right\\rangle \\left\\langle 0\\right|\\right) & \\cdots & \\mathcal{E}\\left(\\left|0\\right\\rangle \\left\\langle n\\right|\\right)\\\\\n",
    "\\mathcal{E}\\left(\\left|1\\right\\rangle \\left\\langle 0\\right|\\right) & \\cdots & \\mathcal{E}\\left(\\left|1\\right\\rangle \\left\\langle n\\right|\\right)\\\\\n",
    "\\vdots & \\ddots & \\vdots\\\\\n",
    "\\mathcal{E}\\left(\\left|n\\right\\rangle \\left\\langle 0\\right|\\right) & \\cdots & \\mathcal{E}\\left(\\left|n\\right\\rangle \\left\\langle n\\right|\\right)\n",
    "\\end{array}\\right)$$\n",
    "\n",
    "#### $\\chi$ matrix (process matrix)\n",
    "\n",
    "The $\\chi$ matrix representation is similar to the Kraus representation since it also gives $\\mathcal{E}$ as a sum of operators acting on $\\rho$ from the left and right; however, in this case the set of operators is not specific to $\\mathcal{E}$ and can be any orthonormal basis for $L(X)$, and $\\mathcal{E}$ is represented by the coefficients of the operators.\n",
    "\n",
    "Formally, given a basis $\\left\\{\\sigma_0, \\dots \\sigma_{n^2-1}\\right\\}$ for $L(X)$, $\\mathcal{E}$ can be represented by\n",
    "\n",
    "$$\\mathcal{E}(\\rho) = \\sum_{i,j=0}^{n^2-1}\\chi_{ij}\\sigma_i\\rho\\sigma_j^\\dagger$$\n",
    "\n",
    "The values $\\chi_{ij}$ are scalars uniquely determined by $\\mathcal{E}$ and the choice of basis. The $n^2 \\times n^2$ matrix $\\chi$ is called the $\\chi$ matrix of the process.\n",
    "\n",
    "### Process tomography with the Choi matrix\n",
    "\n",
    "Given a quantum process $\\mathcal{E}$ with a Choi matrix $\\Lambda_\\mathcal{E}$, the evolution of a state $\\rho$ is \n",
    "$$\\mathcal{E}(\\rho) = \\text{Tr}_1\\left[(\\rho^t\\otimes\\mathbb{1})\\Lambda_\\mathcal{E}\\right]$$\n",
    "\n",
    "Where $\\text{Tr}_1$ denotes **partial trace**: $\\text{Tr}_1[A\\otimes B] = \\text{Tr}_1[A]B$ and $\\mathbb{1}$ is the identity operator on $X$. The above equation is obtained in a straightforward manners from the definitions and the fact that $(A\\otimes B)(C\\otimes D)=(AC)\\otimes(BD)$.\n",
    "\n",
    "Using the above equation it is possible to show that the act of measuring the outcome of $\\mathcal{E}$ on some initial $\\rho$ with some projector $P$ can be seen as the act of measuring $\\Lambda_\\mathcal{E}$ (when it is considered as a **state** in the space $L(X)$) with a measurement operator $\\overline{\\rho}\\otimes P$.\n",
    "\n",
    "This gives rise to the following algorithm for process tomography:\n",
    "\n",
    "1. Obtain a set of initial states $\\left\\{\\rho_1, \\dots \\rho_{k}\\right\\}$ and a set of projectors $\\left\\{P_1, \\dots P_{t}\\right\\}$ such that the set of all projectos $\\Pi_{i,j} = \\overline{\\rho_i}\\otimes P_j$ is tomographically complete for $L(X)$.\n",
    "2. Obtain measurements of $\\Lambda_\\mathcal{E}$ with $\\Pi_{i,j}$ by initializing a system to $\\rho_{i}$, applying $\\mathcal{E}$ (e.g. via a simulator or the quantum computer to check) and measuring via $P_j$.\n",
    "3. Pass the results and the description of $\\Pi_{i,j}$ to an algorithm for state tomography and obtain $\\Lambda_\\mathcal{E}$. "
   ]
  }
 ],
 "metadata": {
  "kernelspec": {
   "display_name": "Python [conda env:Anaconda3]",
   "language": "python",
   "name": "conda-env-Anaconda3-py"
  },
  "language_info": {
   "codemirror_mode": {
    "name": "ipython",
    "version": 3
   },
   "file_extension": ".py",
   "mimetype": "text/x-python",
   "name": "python",
   "nbconvert_exporter": "python",
   "pygments_lexer": "ipython3",
   "version": "3.6.0"
  }
 },
 "nbformat": 4,
 "nbformat_minor": 2
}
