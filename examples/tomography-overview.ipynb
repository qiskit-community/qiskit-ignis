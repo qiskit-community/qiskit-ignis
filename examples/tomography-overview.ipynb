{
 "cells": [
  {
   "cell_type": "markdown",
   "metadata": {},
   "source": [
    "# Quantum Tomography Overview\n",
    "\n",
    "* **Author:** Gadi Aleksandrowicz (gadia@il.ibm.com)\n",
    "* **Last Updated:** January 24, 2019\n",
    "\n"
   ]
  },
  {
   "cell_type": "code",
   "execution_count": 1,
   "metadata": {},
   "outputs": [],
   "source": [
    "import numpy as np"
   ]
  },
  {
   "cell_type": "markdown",
   "metadata": {},
   "source": [
    "## The General Theory\n",
    "\n",
    "The goal of quantum tomography is obtain data on quantum systems by performing several different measurements. In Qiskit Ingis we are currently concerened with the following two tomography tasks:\n",
    "\n",
    "1. **Quantum state tomograhpy**: Given a quantum state described by a density operator $\\rho$, obtain a matrix representation for $\\rho$.\n",
    "2. **Quantum process tomograhpy**: Given a quantum channel $\\mathcal{E}$, obtain a matrix representation (the **Choi matrix**) for $\\mathcal{E}$.\n",
    "\n",
    "In both cases we rely on the assumption that we have access to a large number of identical copies of the system and so can peform several different measures on it.\n",
    "\n",
    "We can roughly split the tomography process to three stages:\n",
    "1. Preperation: Add suitable initialization/measurement devices to the quantum system.\n",
    "2. Experiment: Obtain measurement data from the quantum system.\n",
    "3. Tomography: Use the obtained data to reconstruct the system's description.\n",
    "\n",
    "Steps 1 and 2 are related to the quantum system being studied, whereas step 3 is a classical computation which can be carried out on standard computers.\n",
    "\n",
    "## State Tomography Overview\n",
    "\n",
    "Let $\\rho$ be the density operator of a quantum state. If $\\rho$ can be reliably reproduced, it can be subjected to several measurements with respect to different operators; this data can be used to reconstruct $\\rho$ or a close approximation for it in several different methods.\n",
    "\n",
    "### Example: 1-qubit reconstruction using the Pauli basis\n",
    "\n",
    "Given the Pauli matrices $\n",
    "I=\\left(\\begin{array}{cc}\n",
    "1 & 0\\\\\n",
    "0 & 1\n",
    "\\end{array}\\right),\n",
    "X=\\left(\\begin{array}{cc}\n",
    "0 & 1\\\\\n",
    "1 & 0\n",
    "\\end{array}\\right),\n",
    "Y=\\left(\\begin{array}{cc}\n",
    "0 & -i\\\\\n",
    "i & 0\n",
    "\\end{array}\\right),\n",
    "Z=\\left(\\begin{array}{cc}\n",
    "1 & 0\\\\\n",
    "0 & -1\n",
    "\\end{array}\\right)$\n"
   ]
  },
  {
   "cell_type": "code",
   "execution_count": 3,
   "metadata": {},
   "outputs": [],
   "source": [
    "I = np.array([[1,0],[0,1]])\n",
    "X = np.array([[0,1],[1,0]])\n",
    "Y = np.array([[0,-1j],[1j,0]])\n",
    "Z = np.array([[1,0],[0,-1]])"
   ]
  },
  {
   "cell_type": "markdown",
   "metadata": {},
   "source": [
    "It is easy to see they constitute an orthonormal basis for $M_2(\\mathbb{C})$ with respect to the Hilbert-Schmidt inner product $\\left\\langle A,B\\right\\rangle =\\frac{1}{2}\\text{tr}\\left(B^{\\dagger}A\\right)$"
   ]
  },
  {
   "cell_type": "code",
   "execution_count": 4,
   "metadata": {},
   "outputs": [],
   "source": [
    "def HS_product(A,B):\n",
    "    return np.trace(np.conj(B).T @ A)"
   ]
  },
  {
   "cell_type": "markdown",
   "metadata": {},
   "source": [
    "\n",
    "And hence,\n",
    "\n",
    "$$ \\rho =\\left\\langle \\rho,I\\right\\rangle I+\\left\\langle \\rho,X\\right\\rangle X+\\left\\langle \\rho,Y\\right\\rangle Y+\\left\\langle \\rho,Z\\right\\rangle Z = $$\n",
    "\n",
    "$$=\\frac{\\text{tr}\\left(\\rho\\right)I+\\text{tr}\\left(X\\rho\\right)X+\\text{tr}\\left(Y\\rho\\right)Y+\\text{tr}\\left(Z\\rho\\right)Z}{2}$$\n",
    "\n",
    "The values of $\\text{tr}\\left(X\\rho\\right), \\text{tr}\\left(Y\\rho\\right), \\text{tr}\\left(Z\\rho\\right)$ can be approximated by repeated measuring in the $X, Y$ and $Z$ bases. Since $\\text{tr}\\left(\\rho\\right)=1$ there is no need for additional measurements for the coefficient of $I$.\n",
    "\n",
    "### Example: 1-qubit Linear inversion\n",
    "\n",
    "The above method can be rephrased in more general form. First, any hermitian operator $H$ has a spectral decomposition of the form $H=\\sum \\lambda_i P_i$ where $\\lambda_i$ is an eigenvalue of $H$ and $P_i$ is the projection operator to the corresponding eigenspace. For the hermitian operators $X,Y,Z$ whose eigenvalues are 1 and -1 we can therefore write\n",
    "\n",
    "* $X = P^X_0-P^X_1$\n",
    "* $Y = P^Y_0-P^Y_1$\n",
    "* $Z = P^Z_0-P^Z_1$\n",
    "\n",
    "Where\n",
    "\n",
    "\n",
    "\n",
    "$$P^X_0=\\frac{1}{2}\\left(\\begin{array}{cc}\n",
    "1 & 1\\\\\n",
    "1 & 1\n",
    "\\end{array}\\right), P^X_1=\\frac{1}{2}\\left(\\begin{array}{cc}\n",
    "1 & -1\\\\\n",
    "-1 & 1\n",
    "\\end{array}\\right)$$\n",
    "\n",
    "$$P^Y_0=\\frac{1}{2}\\left(\\begin{array}{cc}\n",
    "1 & -i\\\\\n",
    "i & 1\n",
    "\\end{array}\\right), P^Y_1=\\frac{1}{2}\\left(\\begin{array}{cc}\n",
    "1 & i\\\\\n",
    "-i & 1\n",
    "\\end{array}\\right)$$\n",
    "\n",
    "$$P^Z_0=\\left(\\begin{array}{cc}\n",
    "1 & 0\\\\\n",
    "0 & 0\n",
    "\\end{array}\\right), P^Z_1=\\left(\\begin{array}{cc}\n",
    "0 & 0\\\\\n",
    "0 & 1\n",
    "\\end{array}\\right)$$"
   ]
  },
  {
   "cell_type": "code",
   "execution_count": 14,
   "metadata": {},
   "outputs": [],
   "source": [
    "PX0 = 0.5*np.array([[1, 1], [1, 1]])\n",
    "PX1 = 0.5*np.array([[1, -1], [-1, 1]])\n",
    "\n",
    "PY0 = 0.5*np.array([[1, -1j], [1j, 1]])\n",
    "PY1 = 0.5*np.array([[1, 1j], [-1j, 1]])\n",
    "\n",
    "PZ0 = np.array([[1, 0], [0, 0]])\n",
    "PZ1 = np.array([[0, 0], [0, 1]])"
   ]
  },
  {
   "cell_type": "markdown",
   "metadata": {},
   "source": [
    "By Born's rule, $\\text{tr}\\left(P_{i}^{X}\\rho\\right)$ is the probability for the outcome $\\left|i\\right\\rangle$ when measuring in the X-basis, and this probability can be estimated directly using repeated meausrements in the X-basis. The $Y$ and $Z$ bases are handled\n",
    "similarily.\n",
    "\n",
    "The computation $\\text{tr}\\left(P_{i}^{X}\\rho\\right)$ can be replaced by the scalar product $\\vec{P}_i^X \\cdot \\vec{\\rho}$ where $\\vec{E}$ denotes the vector obtained from the operator $E$ by flattening its matrix (the result vector consists of the first row, then the second row etc.)\n",
    "\n",
    "Now we can construct a matrix $$M=\\left(\\begin{array}{c}\n",
    "\\vec{P}_{0}^{X}\\\\\n",
    "\\vec{P}_{1}^{X}\\\\\n",
    "\\vec{P}_{0}^{Y}\\\\\n",
    "\\vec{P}_{1}^{Y}\\\\\n",
    "\\vec{P}_{0}^{Z}\\\\\n",
    "\\vec{P}_{1}^{Z}\n",
    "\\end{array}\\right)$$\n",
    "\n",
    "Such that $$M\\vec{\\rho}=\\vec{p}=\\left(\\begin{array}{c}\n",
    "p_{\\left|0\\right\\rangle }^{X}\\\\\n",
    "p_{\\left|1\\right\\rangle }^{X}\\\\\n",
    "p_{\\left|0\\right\\rangle }^{Y}\\\\\n",
    "p_{\\left|1\\right\\rangle }^{Y}\\\\\n",
    "p_{\\left|0\\right\\rangle }^{Z}\\\\\n",
    "p_{\\left|1\\right\\rangle }^{Z}\n",
    "\\end{array}\\right)$$\n",
    "\n",
    "Is the equation relating the density operator to the observed probabilities."
   ]
  },
  {
   "cell_type": "code",
   "execution_count": 20,
   "metadata": {},
   "outputs": [],
   "source": [
    "M = np.array([\n",
    "   PX0.flatten(), PX1.flatten(), PY0.flatten(), PY1.flatten(), PZ0.flatten() , PZ1.flatten()\n",
    "])"
   ]
  },
  {
   "cell_type": "markdown",
   "metadata": {},
   "source": [
    "Since $M$ can be computed by knowing the operators used in the tomography, and the vector $\\vec{p}$ of probabilities can be estimated using the tomography results, all that remains is to solve the equation $M\\vec{\\rho}=\\vec{p}$ for $\\vec{\\rho}$. If the rank of $M$ is large enough this can be done by multiplying both sides by $M^\\dagger$:\n",
    "\n",
    "$M^\\dagger M\\vec{\\rho} = M^\\dagger \\vec{p}$\n",
    "\n",
    "$\\vec{\\rho} = (M^\\dagger M)^{-1} M^\\dagger \\vec{p}$\n",
    "\n",
    "In our example, we obtain the matrix \n",
    "$$(M^\\dagger M)^{-1} M^\\dagger = \\left(\\begin{array}{cccccc}\n",
    "\\frac{1}{6} & \\frac{1}{6} & \\frac{1}{6} & \\frac{1}{6} & \\frac{4}{6} & -\\frac{2}{6}\\\\\n",
    "\\frac{1}{2} & -\\frac{1}{2} & \\frac{i}{2} & -\\frac{i}{2} & 0 & 0\\\\\n",
    "\\frac{1}{2} & -\\frac{1}{2} & -\\frac{i}{2} & \\frac{i}{2} & 0 & 0\\\\\n",
    "\\frac{1}{6} & \\frac{1}{6} & \\frac{1}{6} & \\frac{1}{6} & -\\frac{2}{6} & \\frac{4}{6}\n",
    "\\end{array}\\right)$$"
   ]
  },
  {
   "cell_type": "code",
   "execution_count": 27,
   "metadata": {
    "scrolled": true
   },
   "outputs": [],
   "source": [
    "M_dg = np.conj(M).T\n",
    "linear_inversion_matrix = np.linalg.inv(M_dg @ M) @ M_dg"
   ]
  },
  {
   "cell_type": "markdown",
   "metadata": {},
   "source": [
    "Multiplication by the linear inversion matrix performs the reconstruction stage described earlier to obtain the density operator."
   ]
  }
 ],
 "metadata": {
  "kernelspec": {
   "display_name": "Python [conda env:Anaconda3]",
   "language": "python",
   "name": "conda-env-Anaconda3-py"
  },
  "language_info": {
   "codemirror_mode": {
    "name": "ipython",
    "version": 3
   },
   "file_extension": ".py",
   "mimetype": "text/x-python",
   "name": "python",
   "nbconvert_exporter": "python",
   "pygments_lexer": "ipython3",
   "version": "3.6.0"
  }
 },
 "nbformat": 4,
 "nbformat_minor": 2
}
