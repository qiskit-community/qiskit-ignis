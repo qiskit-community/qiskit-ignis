{
 "cells": [
  {
   "cell_type": "markdown",
   "metadata": {},
   "source": [
    "# Quantum Tomography Overview\n",
    "\n",
    "* **Author:** Gadi Aleksandrowicz (gadia@il.ibm.com)\n",
    "* **Last Updated:** January 24, 2019\n",
    "\n"
   ]
  },
  {
   "cell_type": "code",
   "execution_count": 1,
   "metadata": {},
   "outputs": [],
   "source": [
    "import numpy as np"
   ]
  },
  {
   "cell_type": "markdown",
   "metadata": {},
   "source": [
    "## The General Theory\n",
    "\n",
    "The goal of quantum tomography is obtain data on quantum systems by performing several different measurements. In Qiskit Ingis we are currently concerened with the following two tomography tasks:\n",
    "\n",
    "1. **Quantum state tomograhpy**: Given a quantum state described by a density operator $\\rho$, obtain a matrix representation for $\\rho$.\n",
    "2. **Quantum process tomograhpy**: Given a quantum channel $\\mathcal{E}$, obtain a matrix representation (the **Choi matrix**) for $\\mathcal{E}$.\n",
    "\n",
    "In both cases we rely on the assumption that we have access to a large number of identical copies of the system and so can peform several different measures on it.\n",
    "\n",
    "We can roughly split the tomography process to three stages:\n",
    "1. Preperation: Add suitable initialization/measurement devices to the quantum system.\n",
    "2. Experiment: Obtain measurement data from the quantum system.\n",
    "3. Tomography: Use the obtained data to reconstruct the system's description.\n",
    "\n",
    "Steps 1 and 2 are related to the quantum system being studied, whereas step 3 is a classical computation which can be carried out on standard computers.\n",
    "\n",
    "## State Tomography Overview\n",
    "\n",
    "Let $\\rho$ be the density operator of a quantum state. If $\\rho$ can be reliably reproduced, it can be subjected to several measurements with respect to different operators; this data can be used to reconstruct $\\rho$ or a close approximation for it in several different methods.\n",
    "\n",
    "### Example: 1-qubit reconstruction using the Pauli basis\n",
    "\n",
    "Given the Pauli matrices $\n",
    "I=\\left(\\begin{array}{cc}\n",
    "1 & 0\\\\\n",
    "0 & 1\n",
    "\\end{array}\\right),\n",
    "X=\\left(\\begin{array}{cc}\n",
    "0 & 1\\\\\n",
    "1 & 0\n",
    "\\end{array}\\right),\n",
    "Y=\\left(\\begin{array}{cc}\n",
    "0 & -i\\\\\n",
    "i & 0\n",
    "\\end{array}\\right),\n",
    "Z=\\left(\\begin{array}{cc}\n",
    "1 & 0\\\\\n",
    "0 & -1\n",
    "\\end{array}\\right)$\n"
   ]
  },
  {
   "cell_type": "code",
   "execution_count": 2,
   "metadata": {},
   "outputs": [],
   "source": [
    "I = np.array([[1,0],[0,1]])\n",
    "X = np.array([[0,1],[1,0]])\n",
    "Y = np.array([[0,-1j],[1j,0]])\n",
    "Z = np.array([[1,0],[0,-1]])"
   ]
  },
  {
   "cell_type": "markdown",
   "metadata": {},
   "source": [
    "It is easy to see they constitute an orthonormal basis for $M_2(\\mathbb{C})$ with respect to the Hilbert-Schmidt inner product $\\left\\langle A,B\\right\\rangle =\\frac{1}{2}\\text{tr}\\left(B^{\\dagger}A\\right)$"
   ]
  },
  {
   "cell_type": "code",
   "execution_count": 3,
   "metadata": {},
   "outputs": [],
   "source": [
    "def HS_product(A,B):\n",
    "    return np.trace(np.conj(B).T @ A)"
   ]
  },
  {
   "cell_type": "markdown",
   "metadata": {},
   "source": [
    "\n",
    "And hence,\n",
    "\n",
    "$$ \\rho =\\left\\langle \\rho,I\\right\\rangle I+\\left\\langle \\rho,X\\right\\rangle X+\\left\\langle \\rho,Y\\right\\rangle Y+\\left\\langle \\rho,Z\\right\\rangle Z = $$\n",
    "\n",
    "$$=\\frac{\\text{tr}\\left(\\rho\\right)I+\\text{tr}\\left(X\\rho\\right)X+\\text{tr}\\left(Y\\rho\\right)Y+\\text{tr}\\left(Z\\rho\\right)Z}{2}$$\n",
    "\n",
    "The values of $\\text{tr}\\left(X\\rho\\right), \\text{tr}\\left(Y\\rho\\right), \\text{tr}\\left(Z\\rho\\right)$ can be approximated by repeated measuring in the $X, Y$ and $Z$ bases. Since $\\text{tr}\\left(\\rho\\right)=1$ there is no need for additional measurements for the coefficient of $I$.\n",
    "\n",
    "### Example: 1-qubit Linear inversion\n",
    "\n",
    "The above method can be rephrased in more general form. First, any hermitian operator $H$ has a spectral decomposition of the form $H=\\sum \\lambda_i P_i$ where $\\lambda_i$ is an eigenvalue of $H$ and $P_i$ is the projection operator to the corresponding eigenspace. For the hermitian operators $X,Y,Z$ whose eigenvalues are 1 and -1 we can therefore write\n",
    "\n",
    "* $X = P^X_0-P^X_1$\n",
    "* $Y = P^Y_0-P^Y_1$\n",
    "* $Z = P^Z_0-P^Z_1$\n",
    "\n",
    "Where\n",
    "\n",
    "\n",
    "\n",
    "$$P^X_0=\\frac{1}{2}\\left(\\begin{array}{cc}\n",
    "1 & 1\\\\\n",
    "1 & 1\n",
    "\\end{array}\\right), P^X_1=\\frac{1}{2}\\left(\\begin{array}{cc}\n",
    "1 & -1\\\\\n",
    "-1 & 1\n",
    "\\end{array}\\right)$$\n",
    "\n",
    "$$P^Y_0=\\frac{1}{2}\\left(\\begin{array}{cc}\n",
    "1 & -i\\\\\n",
    "i & 1\n",
    "\\end{array}\\right), P^Y_1=\\frac{1}{2}\\left(\\begin{array}{cc}\n",
    "1 & i\\\\\n",
    "-i & 1\n",
    "\\end{array}\\right)$$\n",
    "\n",
    "$$P^Z_0=\\left(\\begin{array}{cc}\n",
    "1 & 0\\\\\n",
    "0 & 0\n",
    "\\end{array}\\right), P^Z_1=\\left(\\begin{array}{cc}\n",
    "0 & 0\\\\\n",
    "0 & 1\n",
    "\\end{array}\\right)$$\n",
    "\n",
    "In the Ignis code, these matrices are defined in **tomography.fitters.utils.pauli_preparation_matrix**. We give an explicit definition here:"
   ]
  },
  {
   "cell_type": "code",
   "execution_count": 4,
   "metadata": {},
   "outputs": [],
   "source": [
    "PX0 = 0.5*np.array([[1, 1], [1, 1]])\n",
    "PX1 = 0.5*np.array([[1, -1], [-1, 1]])\n",
    "\n",
    "PY0 = 0.5*np.array([[1, -1j], [1j, 1]])\n",
    "PY1 = 0.5*np.array([[1, 1j], [-1j, 1]])\n",
    "\n",
    "PZ0 = np.array([[1, 0], [0, 0]])\n",
    "PZ1 = np.array([[0, 0], [0, 1]])\n",
    "\n",
    "projectors = [PX0, PX1, PY0, PY1, PZ0, PZ1]"
   ]
  },
  {
   "cell_type": "markdown",
   "metadata": {},
   "source": [
    "By Born's rule, $\\text{tr}\\left(P_{i}^{X}\\rho\\right)$ is the probability for the outcome $\\left|i\\right\\rangle$ when measuring in the X-basis, and this probability can be estimated directly using repeated meausrements in the X-basis. The $Y$ and $Z$ bases are handled\n",
    "similarily.\n",
    "\n",
    "The computation $\\text{tr}\\left(P_{i}^{X}\\rho\\right)$ can be replaced by the scalar product $\\vec{P}_i^X \\cdot \\vec{\\rho}$ where $\\vec{E}$ denotes the vector obtained from the operator $E$ by flattening its matrix (the result vector consists of the first row, then the second row etc.)\n",
    "\n",
    "Now we can construct a matrix $$M=\\left(\\begin{array}{c}\n",
    "\\vec{P}_{0}^{X}\\\\\n",
    "\\vec{P}_{1}^{X}\\\\\n",
    "\\vec{P}_{0}^{Y}\\\\\n",
    "\\vec{P}_{1}^{Y}\\\\\n",
    "\\vec{P}_{0}^{Z}\\\\\n",
    "\\vec{P}_{1}^{Z}\n",
    "\\end{array}\\right)$$\n",
    "\n",
    "Such that $$M\\vec{\\rho}=\\vec{p}=\\left(\\begin{array}{c}\n",
    "p_{\\left|0\\right\\rangle }^{X}\\\\\n",
    "p_{\\left|1\\right\\rangle }^{X}\\\\\n",
    "p_{\\left|0\\right\\rangle }^{Y}\\\\\n",
    "p_{\\left|1\\right\\rangle }^{Y}\\\\\n",
    "p_{\\left|0\\right\\rangle }^{Z}\\\\\n",
    "p_{\\left|1\\right\\rangle }^{Z}\n",
    "\\end{array}\\right)$$\n",
    "\n",
    "Is the equation relating the density operator to the observed probabilities."
   ]
  },
  {
   "cell_type": "code",
   "execution_count": 8,
   "metadata": {},
   "outputs": [],
   "source": [
    "M = np.array([p.flatten() for p in projectors])"
   ]
  },
  {
   "cell_type": "markdown",
   "metadata": {},
   "source": [
    "Since $M$ can be computed by knowing the operators used in the tomography, and the vector $\\vec{p}$ of probabilities can be estimated using the tomography results, all that remains is to solve the equation $M\\vec{\\rho}=\\vec{p}$ for $\\vec{\\rho}$. If the rank of $M$ is large enough this can be done by multiplying both sides by $M^\\dagger$:\n",
    "\n",
    "$M^\\dagger M\\vec{\\rho} = M^\\dagger \\vec{p}$\n",
    "\n",
    "$\\vec{\\rho} = (M^\\dagger M)^{-1} M^\\dagger \\vec{p}$\n",
    "\n",
    "In our example, we obtain the matrix \n",
    "$$(M^\\dagger M)^{-1} M^\\dagger = \\left(\\begin{array}{cccccc}\n",
    "\\frac{1}{6} & \\frac{1}{6} & \\frac{1}{6} & \\frac{1}{6} & \\frac{4}{6} & -\\frac{2}{6}\\\\\n",
    "\\frac{1}{2} & -\\frac{1}{2} & \\frac{i}{2} & -\\frac{i}{2} & 0 & 0\\\\\n",
    "\\frac{1}{2} & -\\frac{1}{2} & -\\frac{i}{2} & \\frac{i}{2} & 0 & 0\\\\\n",
    "\\frac{1}{6} & \\frac{1}{6} & \\frac{1}{6} & \\frac{1}{6} & -\\frac{2}{6} & \\frac{4}{6}\n",
    "\\end{array}\\right)$$"
   ]
  },
  {
   "cell_type": "code",
   "execution_count": 10,
   "metadata": {
    "scrolled": true
   },
   "outputs": [],
   "source": [
    "M_dg = np.conj(M).T\n",
    "linear_inversion_matrix = np.linalg.inv(M_dg @ M) @ M_dg"
   ]
  },
  {
   "cell_type": "markdown",
   "metadata": {},
   "source": [
    "Multiplication by the linear inversion matrix performs the reconstruction stage described earlier to obtain the density operator.\n",
    "\n",
    "### Example: 2-qubit Linear inversion\n",
    "\n",
    "For multiple qubit systems the technique of linear inversion remains the same. The projector operators are tensor products of 1-qubit projectors: $6^n$ projectors in total, since we measure according to $3^n$ operators (tensor products of $X,Y,Z$) and each operator has two projectors."
   ]
  },
  {
   "cell_type": "code",
   "execution_count": 13,
   "metadata": {},
   "outputs": [],
   "source": [
    "import itertools\n",
    "projectors_2 = [np.kron(p1, p2) for (p1, p2) in itertools.product(projectors, repeat = 2)]\n",
    "M_2 = np.array([p.flatten() for p in projectors_2])\n",
    "M_dg_2 = np.conj(M_2).T\n",
    "linear_inversion_matrix_2 = np.linalg.inv(M_dg_2 @ M_2) @ M_dg_2"
   ]
  },
  {
   "cell_type": "markdown",
   "metadata": {},
   "source": [
    "We will now attempt to reconstruct the Bell state $\\frac{\\left|00\\right\\rangle +\\left|11\\right\\rangle }{\\sqrt{2}}$ from simulated tomography results. First, we prepare a quantum circuit which generates this bell state from the input $\\left|00\\right\\rangle$."
   ]
  },
  {
   "cell_type": "code",
   "execution_count": 21,
   "metadata": {},
   "outputs": [
    {
     "data": {
      "text/plain": [
       "'OPENQASM 2.0;\\ninclude \"qelib1.inc\";\\nqreg q3[2];\\nh q3[0];\\ncx q3[0],q3[1];\\n'"
      ]
     },
     "execution_count": 21,
     "metadata": {},
     "output_type": "execute_result"
    }
   ],
   "source": [
    "import qiskit \n",
    "from qiskit import QuantumRegister, QuantumCircuit\n",
    "\n",
    "q2 = QuantumRegister(2)\n",
    "bell = QuantumCircuit(q2)\n",
    "bell.h(q2[0])\n",
    "bell.cx(q2[0], q2[1])\n",
    "bell.qasm()"
   ]
  },
  {
   "cell_type": "markdown",
   "metadata": {},
   "source": [
    "We now use Ignis' **state_tomography_circuits** procedure which generates the $3^n$ circuits obtained by adding to the bell circuit a measurement according to each of our measurement operators (Pauli by default). Then we execute on a standard simulator.\n",
    "\n",
    "Afterwards we use the **tomography_data** procedure which converts the simulator output into the clear format used in tomography."
   ]
  },
  {
   "cell_type": "code",
   "execution_count": 22,
   "metadata": {},
   "outputs": [
    {
     "data": {
      "text/plain": [
       "{('X', 'X'): {'11': 2470, '00': 2530},\n",
       " ('X', 'Y'): {'11': 1212, '01': 1262, '10': 1296, '00': 1230},\n",
       " ('X', 'Z'): {'11': 1167, '01': 1263, '10': 1290, '00': 1280},\n",
       " ('Y', 'X'): {'11': 1242, '01': 1289, '10': 1268, '00': 1201},\n",
       " ('Y', 'Y'): {'10': 2546, '01': 2454},\n",
       " ('Y', 'Z'): {'11': 1288, '01': 1299, '10': 1217, '00': 1196},\n",
       " ('Z', 'X'): {'11': 1209, '01': 1276, '10': 1254, '00': 1261},\n",
       " ('Z', 'Y'): {'11': 1269, '01': 1292, '10': 1217, '00': 1222},\n",
       " ('Z', 'Z'): {'11': 2444, '00': 2556}}"
      ]
     },
     "execution_count": 22,
     "metadata": {},
     "output_type": "execute_result"
    }
   ],
   "source": [
    "from qiskit import Aer\n",
    "import sys, os\n",
    "sys.path.append(os.path.abspath(os.path.join('../qiskit_ignis')))\n",
    "import tomography as tomo\n",
    "qst_bell = tomo.state_tomography_circuits(bell, q2)\n",
    "job = qiskit.execute(qst_bell, Aer.get_backend('qasm_simulator'), shots=5000)\n",
    "tomo_counts_bell = tomo.tomography_data(job.result(), qst_bell)\n",
    "tomo_counts_bell"
   ]
  },
  {
   "cell_type": "code",
   "execution_count": null,
   "metadata": {},
   "outputs": [],
   "source": []
  }
 ],
 "metadata": {
  "kernelspec": {
   "display_name": "Python [conda env:Anaconda3]",
   "language": "python",
   "name": "conda-env-Anaconda3-py"
  },
  "language_info": {
   "codemirror_mode": {
    "name": "ipython",
    "version": 3
   },
   "file_extension": ".py",
   "mimetype": "text/x-python",
   "name": "python",
   "nbconvert_exporter": "python",
   "pygments_lexer": "ipython3",
   "version": "3.6.0"
  }
 },
 "nbformat": 4,
 "nbformat_minor": 2
}
