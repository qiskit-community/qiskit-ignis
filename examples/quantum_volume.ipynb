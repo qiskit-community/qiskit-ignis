{
 "cells": [
  {
   "cell_type": "markdown",
   "metadata": {},
   "source": [
    "<img src=\"../../images/qiskit-heading.gif\" alt=\"Note: In order for images to show up in this jupyter notebook you need to select File => Trusted Notebook\" width=\"500 px\\\" align=\"left\">"
   ]
  },
  {
   "cell_type": "markdown",
   "metadata": {},
   "source": [
    "## Quantum Volume\n",
    "---\n",
    "\n",
    "* **Last Updated:** April 19, 2019\n",
    "* **Requires:** qiskit-terra 0.9, qiskit-ignis 0.1.1, qiskit-aer 0.1\n",
    "\n",
    "\n",
    "## Introduction\n",
    "\n",
    "**Quantum Volume (QV)** is a method to verify device performance and a metric to quantify the computational power of a quantum device.  The method is based on the paper \"Validating quantum computers using randomized model circuits\" (https://arxiv.org/abs/1811.12926). \n",
    "\n",
    "This notebook gives an example for how to use the ``ignis.verification.quantum_volume`` module. This particular example shows how to run 4-qubit quantum volume circuits and will run them using the noisy Aer simulator."
   ]
  },
  {
   "cell_type": "code",
   "execution_count": 86,
   "metadata": {},
   "outputs": [],
   "source": [
    "#Import general libraries (needed for functions)\n",
    "import numpy as np\n",
    "import matplotlib.pyplot as plt\n",
    "from IPython import display\n",
    "\n",
    "#Import Qiskit classes classes\n",
    "import qiskit\n",
    "from qiskit.providers.aer.noise import NoiseModel\n",
    "from qiskit.providers.aer.noise.errors.standard_errors import depolarizing_error, thermal_relaxation_error\n",
    "\n",
    "#Import the qv function.\n",
    "import qiskit.ignis.verification.quantum_volume as qv"
   ]
  },
  {
   "cell_type": "markdown",
   "metadata": {},
   "source": [
    "## Select the Parameters of the QV Run\n",
    "\n",
    "In this example we have 4 qubits Q0,Q1,Q3,Q5. \n",
    "We are running up to depth 6"
   ]
  },
  {
   "cell_type": "code",
   "execution_count": 87,
   "metadata": {},
   "outputs": [],
   "source": [
    "#Qubit list\n",
    "qubit_list = [0,1,2,4,7]\n",
    "depth_list = np.arange(7)+1\n",
    "ntrials = 5"
   ]
  },
  {
   "cell_type": "markdown",
   "metadata": {},
   "source": [
    "## Generate QV sequences\n",
    "\n",
    "We generate the quantum volume sequences. We start with a small example (so it doesn't take too long to run).\n"
   ]
  },
  {
   "cell_type": "code",
   "execution_count": 88,
   "metadata": {
    "scrolled": false
   },
   "outputs": [],
   "source": [
    "qv_circs, qv_circs_nomeas = qv.qv_circuits(qubit_list, depth_list, ntrials)"
   ]
  },
  {
   "cell_type": "code",
   "execution_count": 89,
   "metadata": {},
   "outputs": [],
   "source": [
    "#pass the circuits through the compiler so that the random SU(4) unitaries are converted to CNOTS\n",
    "for trial in range(ntrials):\n",
    "    qv_circs[trial] = qiskit.transpiler.transpile(qv_circs[trial])"
   ]
  },
  {
   "cell_type": "code",
   "execution_count": 90,
   "metadata": {},
   "outputs": [],
   "source": [
    "#pass the circuits through the compiler so that the random SU(4) unitaries are converted to CNOTS\n",
    "for trial in range(ntrials):\n",
    "    qv_circs_nomeas[trial] = qiskit.transpiler.transpile(qv_circs_nomeas[trial])"
   ]
  },
  {
   "cell_type": "markdown",
   "metadata": {},
   "source": [
    "As an example, we print the circuit corresponding to the first QV sequence"
   ]
  },
  {
   "cell_type": "code",
   "execution_count": 91,
   "metadata": {},
   "outputs": [
    {
     "name": "stdout",
     "output_type": "stream",
     "text": [
      "         ┌────────────────────────────┐     ┌───┐┌──────────────────┐          »\n",
      "qr_0: |0>┤ U3(1.8561,1.9942,-1.2513)  ├─────┤ X ├┤ U3(0,0,0.19742)  ├───────■──»\n",
      "         ├────────────────────────────┤     └─┬─┘├──────────────────┤┌───┐  │  »\n",
      "qr_1: |0>┤ U3(1.4161,0.57034,-1.8165) ├──■────┼──┤ U3(-2.2061,0,0)  ├┤ X ├──┼──»\n",
      "         ├────────────────────────────┤┌─┴─┐  │  ├──────────────────┤└─┬─┘  │  »\n",
      "qr_2: |0>┤ U3(1.4989,2.4204,-0.37096) ├┤ X ├──┼──┤ U3(0,0,-0.28259) ├──■────┼──»\n",
      "         ├────────────────────────────┤└───┘  │  ├──────────────────┤     ┌─┴─┐»\n",
      "qr_3: |0>┤ U3(2.8641,2.6391,-0.68874) ├───────■──┤ U3(-0.9092,0,0)  ├─────┤ X ├»\n",
      "         └────────────────────────────┘          └──────────────────┘     └───┘»\n",
      "qr_4: |0>──────────────────────────────────────────────────────────────────────»\n",
      "                                                                               »\n",
      " cr_0: 0 ══════════════════════════════════════════════════════════════════════»\n",
      "                                                                               »\n",
      " cr_1: 0 ══════════════════════════════════════════════════════════════════════»\n",
      "                                                                               »\n",
      " cr_2: 0 ══════════════════════════════════════════════════════════════════════»\n",
      "                                                                               »\n",
      " cr_3: 0 ══════════════════════════════════════════════════════════════════════»\n",
      "                                                                               »\n",
      " cr_4: 0 ══════════════════════════════════════════════════════════════════════»\n",
      "                                                                               »\n",
      "«                             ┌───┐┌─────────────────────────────┐\n",
      "«qr_0: ───────────────────────┤ X ├┤ U3(2.1668,-0.9566,-0.39215) ├\n",
      "«      ┌────────────────┐     └─┬─┘├─────────────────────────────┤\n",
      "«qr_1: ┤ U3(1.5365,0,0) ├──■────┼──┤   U3(1.5859,-1.027,1.1768)  ├\n",
      "«      └────────────────┘┌─┴─┐  │  ├─────────────────────────────┤\n",
      "«qr_2: ──────────────────┤ X ├──┼──┤   U3(2.3151,2.3983,1.2216)  ├\n",
      "«      ┌────────────────┐└───┘  │  ├─────────────────────────────┤\n",
      "«qr_3: ┤ U3(2.6528,0,0) ├───────■──┤  U3(2.6973,-5.5085,0.36212) ├\n",
      "«      └────────────────┘          └─────────────────────────────┘\n",
      "«qr_4: ───────────────────────────────────────────────────────────\n",
      "«                                                                 \n",
      "«cr_0: ═══════════════════════════════════════════════════════════\n",
      "«                                                                 \n",
      "«cr_1: ═══════════════════════════════════════════════════════════\n",
      "«                                                                 \n",
      "«cr_2: ═══════════════════════════════════════════════════════════\n",
      "«                                                                 \n",
      "«cr_3: ═══════════════════════════════════════════════════════════\n",
      "«                                                                 \n",
      "«cr_4: ═══════════════════════════════════════════════════════════\n",
      "«                                                                 \n"
     ]
    }
   ],
   "source": [
    "print(qv_circs_nomeas[0][0])"
   ]
  },
  {
   "cell_type": "markdown",
   "metadata": {},
   "source": [
    "## Simulate the ideal circuits"
   ]
  },
  {
   "cell_type": "markdown",
   "metadata": {},
   "source": [
    "The quantum volume method requires that we know the ideal output for each circuit, so use the statevector simulator in Aer to get the ideal result."
   ]
  },
  {
   "cell_type": "code",
   "execution_count": 92,
   "metadata": {},
   "outputs": [
    {
     "name": "stdout",
     "output_type": "stream",
     "text": [
      "Simulating trial 0\n",
      "Simulating trial 1\n",
      "Simulating trial 2\n",
      "Simulating trial 3\n",
      "Simulating trial 4\n"
     ]
    }
   ],
   "source": [
    "#The Unitary is an identity (with a global phase)\n",
    "backend = qiskit.Aer.get_backend('statevector_simulator')\n",
    "ideal_results = []\n",
    "for trial in range(ntrials):\n",
    "    print('Simulating trial %d'%trial)\n",
    "    ideal_results.append(qiskit.execute(qv_circs_nomeas[trial], backend=backend).result())\n"
   ]
  },
  {
   "cell_type": "markdown",
   "metadata": {},
   "source": [
    "Next, load the ideal results into a quantum volume fitter"
   ]
  },
  {
   "cell_type": "code",
   "execution_count": 93,
   "metadata": {},
   "outputs": [],
   "source": [
    "qv_fitter = qv.QVFitter(qubit_list=qubit_list, depth_list=depth_list)\n",
    "qv_fitter.add_statevectors(ideal_results)"
   ]
  },
  {
   "cell_type": "markdown",
   "metadata": {},
   "source": [
    "## Define the noise model"
   ]
  },
  {
   "cell_type": "markdown",
   "metadata": {},
   "source": [
    "We define a noise model for the simulator. To simulate decay, we add depolarizing error probabilities to the CNOT and U gates."
   ]
  },
  {
   "cell_type": "code",
   "execution_count": 94,
   "metadata": {},
   "outputs": [],
   "source": [
    "noise_model = NoiseModel()\n",
    "p1Q = 0.002\n",
    "p2Q = 0.02\n",
    "noise_model.add_all_qubit_quantum_error(depolarizing_error(p1Q, 1), 'u2')\n",
    "noise_model.add_all_qubit_quantum_error(depolarizing_error(2*p1Q, 1), 'u3')\n",
    "noise_model.add_all_qubit_quantum_error(depolarizing_error(p2Q, 2), 'cx')\n",
    "#noise_model = None"
   ]
  },
  {
   "cell_type": "markdown",
   "metadata": {},
   "source": [
    "## Execute on Aer simulator\n",
    "\n",
    "We can execute the RB sequences either using Qiskit Aer Simulator (with some noise model) or using IBMQ provider, \n",
    "and obtain a list of results **result_list**."
   ]
  },
  {
   "cell_type": "code",
   "execution_count": 95,
   "metadata": {},
   "outputs": [
    {
     "name": "stdout",
     "output_type": "stream",
     "text": [
      "Running trial 0\n",
      "Running trial 1\n",
      "Running trial 2\n",
      "Running trial 3\n",
      "Running trial 4\n"
     ]
    }
   ],
   "source": [
    "backend = qiskit.Aer.get_backend('qasm_simulator')\n",
    "basis_gates = ['u1','u2','u3','cx'] # use U,CX for now\n",
    "shots = 5024\n",
    "exp_results = []\n",
    "for trial in range(ntrials):\n",
    "    print('Running trial %d'%trial)\n",
    "    exp_results.append(qiskit.execute(qv_circs[trial], basis_gates=basis_gates, backend=backend, noise_model=noise_model, backend_options={'max_parallel_experiments': 0}).result())"
   ]
  },
  {
   "cell_type": "markdown",
   "metadata": {},
   "source": [
    "Load the experimental data into the fitter. The data will keep accumulating if this is re-run (unless the fitter is re-instantiated)."
   ]
  },
  {
   "cell_type": "code",
   "execution_count": 99,
   "metadata": {},
   "outputs": [],
   "source": [
    "import pickle\n",
    "f0 = open('qv_ideal_results.pkl','wb')\n",
    "pickle.dump(ideal_results, f0)\n",
    "f0.close()\n",
    "f0 = open('qv_exp_results.pkl','wb')\n",
    "pickle.dump(exp_results, f0)\n",
    "f0.close()"
   ]
  },
  {
   "cell_type": "code",
   "execution_count": 96,
   "metadata": {},
   "outputs": [],
   "source": [
    "qv_fitter.add_data(exp_results)"
   ]
  },
  {
   "cell_type": "code",
   "execution_count": 97,
   "metadata": {},
   "outputs": [
    {
     "data": {
      "image/png": "[encoded data removed]",
      "text/plain": [
       "<Figure size 720x432 with 1 Axes>"
      ]
     },
     "metadata": {
      "needs_background": "light"
     },
     "output_type": "display_data"
    }
   ],
   "source": [
    "plt.figure(figsize=(10, 6))\n",
    "ax = plt.gca()\n",
    "\n",
    "# Plot the essence by calling plot_rb_data\n",
    "qv_fitter.plot_qv_data(ax=ax, show_plt=False)\n",
    "\n",
    "# Add title and label\n",
    "ax.set_title('Quantum Volume for %d Qubits'%(len(qubit_list)), fontsize=18)\n",
    "\n",
    "plt.show()"
   ]
  },
  {
   "cell_type": "markdown",
   "metadata": {},
   "source": [
    "## Quantum Volume\n",
    "List statistics for each depth. For each depth list if the depth was successful or not and with what confidence interval."
   ]
  },
  {
   "cell_type": "code",
   "execution_count": 98,
   "metadata": {},
   "outputs": [
    {
     "name": "stdout",
     "output_type": "stream",
     "text": [
      "Depth 1 successfull with confidence 1.000000. Quantum volume is 2\n",
      "Depth 2 successfull with confidence 1.000000. Quantum volume is 4\n",
      "Depth 3 successfull with confidence 0.999979. Quantum volume is 8\n",
      "Depth 4 successfull with confidence 0.999982. Quantum volume is 16\n",
      "Depth 5 successfull with confidence 0.936553. Quantum volume is 32\n",
      "Depth 6 successfull with confidence 0.858864. Quantum volume is 32\n",
      "Depth 7 unsuccessfull\n"
     ]
    }
   ],
   "source": [
    "qv_success_list = qv_fitter.qv_success()\n",
    "for depthidx, depth in enumerate(depth_list):\n",
    "    if qv_success_list[depthidx][0]:\n",
    "        print(\"Depth %d successfull with confidence %f. Quantum volume is %d\"%\n",
    "              (depth,qv_success_list[depthidx][2],qv_fitter.quantum_volume()[depthidx]))\n",
    "    else:\n",
    "        print(\"Depth %d unsuccessfull\"%depth)"
   ]
  },
  {
   "cell_type": "code",
   "execution_count": null,
   "metadata": {},
   "outputs": [],
   "source": []
  }
 ],
 "metadata": {
  "kernelspec": {
   "display_name": "Python 3",
   "language": "python",
   "name": "python3"
  },
  "language_info": {
   "codemirror_mode": {
    "name": "ipython",
    "version": 3
   },
   "file_extension": ".py",
   "mimetype": "text/x-python",
   "name": "python",
   "nbconvert_exporter": "python",
   "pygments_lexer": "ipython3",
   "version": "3.6.8"
  }
 },
 "nbformat": 4,
 "nbformat_minor": 2
}
