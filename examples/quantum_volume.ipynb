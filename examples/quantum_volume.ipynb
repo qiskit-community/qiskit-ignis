{
 "cells": [
  {
   "cell_type": "markdown",
   "metadata": {},
   "source": [
    "<img src=\"../../images/qiskit-heading.gif\" alt=\"Note: In order for images to show up in this jupyter notebook you need to select File => Trusted Notebook\" width=\"500 px\\\" align=\"left\">"
   ]
  },
  {
   "cell_type": "markdown",
   "metadata": {},
   "source": [
    "## Quantum Volume\n",
    "---\n",
    "\n",
    "* **Last Updated:** March 1, 2019\n",
    "* **Requires:** qiskit-terra 0.7, qiskit-ignis 0.1, qiskit-aer 0.1\n",
    "\n",
    "\n",
    "## Introduction\n",
    "\n",
    "**Quantum Volume (QV)** is a method to verify device performance and a metric to quantify the computational power of a quantum device.  The method is based on the paper \"Validating quantum computers using randomized model circuits\" (https://arxiv.org/abs/1811.12926). \n",
    "\n",
    "This notebook gives an example for how to use the ``ignis.verification.quantum_volume`` module. This particular example shows how to run 4-qubit quantum volume circuits and will run them using the noisy Aer simulator."
   ]
  },
  {
   "cell_type": "code",
   "execution_count": 86,
   "metadata": {},
   "outputs": [],
   "source": [
    "#Import general libraries (needed for functions)\n",
    "import numpy as np\n",
    "import matplotlib.pyplot as plt\n",
    "from IPython import display\n",
    "\n",
    "#Import Qiskit classes classes\n",
    "import qiskit\n",
    "from qiskit.providers.aer.noise import NoiseModel\n",
    "from qiskit.providers.aer.noise.errors.standard_errors import depolarizing_error, thermal_relaxation_error\n",
    "\n",
    "#Import the qv function.\n",
    "import qiskit.ignis.verification.quantum_volume as qv"
   ]
  },
  {
   "cell_type": "markdown",
   "metadata": {},
   "source": [
    "## Select the Parameters of the QV Run\n",
    "\n",
    "In this example we have 4 qubits Q0,Q1,Q3,Q5. \n",
    "We are running up to depth 6"
   ]
  },
  {
   "cell_type": "code",
   "execution_count": 87,
   "metadata": {},
   "outputs": [],
   "source": [
    "#Qubit list\n",
    "qubit_list = [0,1,2,4,7]\n",
    "depth_list = np.arange(7)+1\n",
    "ntrials = 10"
   ]
  },
  {
   "cell_type": "markdown",
   "metadata": {},
   "source": [
    "## Generate QV sequences\n",
    "\n",
    "We generate the quantum volume sequences. We start with a small example (so it doesn't take too long to run).\n"
   ]
  },
  {
   "cell_type": "code",
   "execution_count": 88,
   "metadata": {},
   "outputs": [
    {
     "name": "stdout",
     "output_type": "stream",
     "text": [
      "The autoreload extension is already loaded. To reload it, use:\n",
      "  %reload_ext autoreload\n"
     ]
    }
   ],
   "source": [
    "%load_ext autoreload"
   ]
  },
  {
   "cell_type": "code",
   "execution_count": 89,
   "metadata": {
    "scrolled": false
   },
   "outputs": [],
   "source": [
    "%autoreload 2\n",
    "qv_circs, qv_circs_nomeas = qv.qv_circuits(qubit_list, depth_list, ntrials)"
   ]
  },
  {
   "cell_type": "code",
   "execution_count": 90,
   "metadata": {},
   "outputs": [],
   "source": [
    "#pass the circuits through the compiler so that the random SU(4) unitaries are converted to CNOTS\n",
    "for trial in range(ntrials):\n",
    "    qv_circs[trial] = qiskit.transpiler.transpile(qv_circs[trial])"
   ]
  },
  {
   "cell_type": "code",
   "execution_count": 91,
   "metadata": {},
   "outputs": [],
   "source": [
    "#pass the circuits through the compiler so that the random SU(4) unitaries are converted to CNOTS\n",
    "for trial in range(ntrials):\n",
    "    qv_circs_nomeas[trial] = qiskit.transpiler.transpile(qv_circs_nomeas[trial])"
   ]
  },
  {
   "cell_type": "markdown",
   "metadata": {},
   "source": [
    "As an example, we print the circuit corresponding to the first QV sequence"
   ]
  },
  {
   "cell_type": "code",
   "execution_count": 92,
   "metadata": {},
   "outputs": [
    {
     "name": "stdout",
     "output_type": "stream",
     "text": [
      "         ┌────────────────────────────┐          ┌──────────────────┐     ┌───┐»\n",
      "qr_0: |0>┤ U3(0.93099,-2.8441,2.6233) ├───────■──┤ U3(-0.82884,0,0) ├─────┤ X ├»\n",
      "         ├────────────────────────────┤       │  ├──────────────────┤┌───┐└─┬─┘»\n",
      "qr_1: |0>┤ U3(2.1169,-1.3183,1.4899)  ├──■────┼──┤ U3(-1.6525,0,0)  ├┤ X ├──┼──»\n",
      "         ├────────────────────────────┤┌─┴─┐  │  ├──────────────────┤└─┬─┘  │  »\n",
      "qr_2: |0>┤ U3(2.6229,-1.0939,1.7052)  ├┤ X ├──┼──┤ U3(0,0,-0.11002) ├──■────┼──»\n",
      "         ├────────────────────────────┤└───┘┌─┴─┐├──────────────────┤       │  »\n",
      "qr_3: |0>┤  U3(1.5308,1.196,-2.8676)  ├─────┤ X ├┤  U3(0,0,1.2703)  ├───────■──»\n",
      "         └────────────────────────────┘     └───┘└──────────────────┘          »\n",
      "qr_4: |0>──────────────────────────────────────────────────────────────────────»\n",
      "                                                                               »\n",
      " cr_0: 0 ══════════════════════════════════════════════════════════════════════»\n",
      "                                                                               »\n",
      " cr_1: 0 ══════════════════════════════════════════════════════════════════════»\n",
      "                                                                               »\n",
      " cr_2: 0 ══════════════════════════════════════════════════════════════════════»\n",
      "                                                                               »\n",
      " cr_3: 0 ══════════════════════════════════════════════════════════════════════»\n",
      "                                                                               »\n",
      " cr_4: 0 ══════════════════════════════════════════════════════════════════════»\n",
      "                                                                               »\n",
      "«      ┌─────────────────┐          ┌─────────────────────────────┐\n",
      "«qr_0: ┤  U3(2.9372,0,0) ├───────■──┤  U3(1.5494,-0.73358,5.2113) ├\n",
      "«      ├─────────────────┤       │  ├─────────────────────────────┤\n",
      "«qr_1: ┤ U3(0.61792,0,0) ├──■────┼──┤  U3(2.1024,-1.5184,3.1747)  ├\n",
      "«      └─────────────────┘┌─┴─┐  │  ├─────────────────────────────┤\n",
      "«qr_2: ───────────────────┤ X ├──┼──┤ U3(1.3723,-2.2495,-0.46335) ├\n",
      "«                         └───┘┌─┴─┐├─────────────────────────────┤\n",
      "«qr_3: ────────────────────────┤ X ├┤ U3(1.0676,-0.27318,-3.2969) ├\n",
      "«                              └───┘└─────────────────────────────┘\n",
      "«qr_4: ────────────────────────────────────────────────────────────\n",
      "«                                                                  \n",
      "«cr_0: ════════════════════════════════════════════════════════════\n",
      "«                                                                  \n",
      "«cr_1: ════════════════════════════════════════════════════════════\n",
      "«                                                                  \n",
      "«cr_2: ════════════════════════════════════════════════════════════\n",
      "«                                                                  \n",
      "«cr_3: ════════════════════════════════════════════════════════════\n",
      "«                                                                  \n",
      "«cr_4: ════════════════════════════════════════════════════════════\n",
      "«                                                                  \n"
     ]
    }
   ],
   "source": [
    "print(qv_circs_nomeas[0][0])"
   ]
  },
  {
   "cell_type": "markdown",
   "metadata": {},
   "source": [
    "## Simulate the ideal circuits"
   ]
  },
  {
   "cell_type": "markdown",
   "metadata": {},
   "source": [
    "The quantum volume method requires that we know the ideal output for each circuit, so use the statevector simulator in Aer to get the ideal result."
   ]
  },
  {
   "cell_type": "code",
   "execution_count": 93,
   "metadata": {},
   "outputs": [
    {
     "name": "stdout",
     "output_type": "stream",
     "text": [
      "Simulating trial 0\n",
      "Simulating trial 1\n",
      "Simulating trial 2\n",
      "Simulating trial 3\n",
      "Simulating trial 4\n",
      "Simulating trial 5\n",
      "Simulating trial 6\n",
      "Simulating trial 7\n",
      "Simulating trial 8\n",
      "Simulating trial 9\n"
     ]
    }
   ],
   "source": [
    "#The Unitary is an identity (with a global phase)\n",
    "backend = qiskit.Aer.get_backend('statevector_simulator')\n",
    "ideal_results = []\n",
    "for trial in range(ntrials):\n",
    "    print('Simulating trial %d'%trial)\n",
    "    ideal_results.append(qiskit.execute(qv_circs_nomeas[trial], backend=backend).result())\n"
   ]
  },
  {
   "cell_type": "markdown",
   "metadata": {},
   "source": [
    "Next, load the ideal results into a quantum volume fitter"
   ]
  },
  {
   "cell_type": "code",
   "execution_count": 153,
   "metadata": {},
   "outputs": [],
   "source": [
    "%autoreload 2\n",
    "qv_fitter = qv.QVFitter(qubit_list=qubit_list, depth_list=depth_list)\n",
    "qv_fitter.add_statevectors(ideal_results)"
   ]
  },
  {
   "cell_type": "markdown",
   "metadata": {},
   "source": [
    "## Define the noise model"
   ]
  },
  {
   "cell_type": "markdown",
   "metadata": {},
   "source": [
    "We define a noise model for the simulator. To simulate decay, we add depolarizing error probabilities to the CNOT and U gates."
   ]
  },
  {
   "cell_type": "code",
   "execution_count": 154,
   "metadata": {},
   "outputs": [],
   "source": [
    "noise_model = NoiseModel()\n",
    "p1Q = 0.002\n",
    "p2Q = 0.02\n",
    "noise_model.add_all_qubit_quantum_error(depolarizing_error(p1Q, 1), 'u2')\n",
    "noise_model.add_all_qubit_quantum_error(depolarizing_error(2*p1Q, 1), 'u3')\n",
    "noise_model.add_all_qubit_quantum_error(depolarizing_error(p2Q, 2), 'cx')\n",
    "#noise_model = None"
   ]
  },
  {
   "cell_type": "markdown",
   "metadata": {},
   "source": [
    "## Execute on Aer simulator\n",
    "\n",
    "We can execute the RB sequences either using Qiskit Aer Simulator (with some noise model) or using IBMQ provider, \n",
    "and obtain a list of results **result_list**."
   ]
  },
  {
   "cell_type": "code",
   "execution_count": 155,
   "metadata": {},
   "outputs": [
    {
     "name": "stdout",
     "output_type": "stream",
     "text": [
      "Running trial 0\n",
      "Running trial 1\n",
      "Running trial 2\n",
      "Running trial 3\n",
      "Running trial 4\n",
      "Running trial 5\n",
      "Running trial 6\n",
      "Running trial 7\n",
      "Running trial 8\n",
      "Running trial 9\n"
     ]
    }
   ],
   "source": [
    "backend = qiskit.Aer.get_backend('qasm_simulator')\n",
    "basis_gates = ['u1','u2','u3','cx'] # use U,CX for now\n",
    "shots = 5024\n",
    "exp_results = []\n",
    "for trial in range(ntrials):\n",
    "    print('Running trial %d'%trial)\n",
    "    exp_results.append(qiskit.execute(qv_circs[trial], basis_gates=basis_gates, backend=backend, noise_model=noise_model, backend_options={'max_parallel_experiments': 0}).result())"
   ]
  },
  {
   "cell_type": "markdown",
   "metadata": {},
   "source": [
    "Load the experimental data into the fitter. The data will keep accumulating if this is re-run (unless the fitter is re-instantiated)."
   ]
  },
  {
   "cell_type": "code",
   "execution_count": 158,
   "metadata": {},
   "outputs": [],
   "source": [
    "qv_fitter.add_data(exp_results)"
   ]
  },
  {
   "cell_type": "code",
   "execution_count": 159,
   "metadata": {},
   "outputs": [
    {
     "data": {
      "image/png": "[encoded data removed]",
      "text/plain": [
       "<Figure size 720x432 with 1 Axes>"
      ]
     },
     "metadata": {
      "needs_background": "light"
     },
     "output_type": "display_data"
    }
   ],
   "source": [
    "plt.figure(figsize=(10, 6))\n",
    "ax = plt.gca()\n",
    "\n",
    "# Plot the essence by calling plot_rb_data\n",
    "qv_fitter.plot_qv_data(ax=ax, show_plt=False)\n",
    "\n",
    "# Add title and label\n",
    "ax.set_title('Quantum Volume for %d Qubits'%(len(qubit_list)), fontsize=18)\n",
    "\n",
    "plt.show()"
   ]
  },
  {
   "cell_type": "code",
   "execution_count": null,
   "metadata": {},
   "outputs": [],
   "source": []
  }
 ],
 "metadata": {
  "kernelspec": {
   "display_name": "Python 3",
   "language": "python",
   "name": "python3"
  },
  "language_info": {
   "codemirror_mode": {
    "name": "ipython",
    "version": 3
   },
   "file_extension": ".py",
   "mimetype": "text/x-python",
   "name": "python",
   "nbconvert_exporter": "python",
   "pygments_lexer": "ipython3",
   "version": "3.6.8"
  }
 },
 "nbformat": 4,
 "nbformat_minor": 2
}
