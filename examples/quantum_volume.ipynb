{
 "cells": [
  {
   "cell_type": "markdown",
   "metadata": {},
   "source": [
    "<img src=\"../../images/qiskit-heading.gif\" alt=\"Note: In order for images to show up in this jupyter notebook you need to select File => Trusted Notebook\" width=\"500 px\\\" align=\"left\">"
   ]
  },
  {
   "cell_type": "markdown",
   "metadata": {},
   "source": [
    "## Quantum Volume\n",
    "---\n",
    "\n",
    "* **Last Updated:** April 29, 2019\n",
    "* **Requires:** qiskit-terra 0.8, qiskit-ignis 0.1.1, qiskit-aer 0.1\n",
    "\n",
    "\n",
    "## Introduction\n",
    "\n",
    "**Quantum Volume (QV)** is a method to verify device performance and a metric to quantify the computational power of a quantum device.  The method is based on the paper \"Validating quantum computers using randomized model circuits\" (https://arxiv.org/abs/1811.12926). \n",
    "\n",
    "This notebook gives an example for how to use the ``ignis.verification.quantum_volume`` module. This particular example shows how to run up to depth 6 quantum volume circuits and will run them using the noisy Aer simulator."
   ]
  },
  {
   "cell_type": "code",
   "execution_count": 44,
   "metadata": {},
   "outputs": [],
   "source": [
    "#Import general libraries (needed for functions)\n",
    "import numpy as np\n",
    "import matplotlib.pyplot as plt\n",
    "from IPython import display\n",
    "\n",
    "#Import Qiskit classes classes\n",
    "import qiskit\n",
    "from qiskit.providers.aer.noise import NoiseModel\n",
    "from qiskit.providers.aer.noise.errors.standard_errors import depolarizing_error, thermal_relaxation_error\n",
    "\n",
    "#Import the qv function.\n",
    "import qiskit.ignis.verification.quantum_volume as qv"
   ]
  },
  {
   "cell_type": "markdown",
   "metadata": {},
   "source": [
    "## Select the Parameters of the QV Run\n",
    "\n",
    "In this example we have 6 qubits Q0,Q1,Q3,Q5,Q7,Q10. We are going to look at subsets up to the full set."
   ]
  },
  {
   "cell_type": "code",
   "execution_count": 45,
   "metadata": {},
   "outputs": [],
   "source": [
    "#Qubit list\n",
    "qubit_lists = [[0,1,3],[0,1,3,5],[0,1,3,5,7],[0,1,3,5,7,10]]\n",
    "ntrials = 50"
   ]
  },
  {
   "cell_type": "markdown",
   "metadata": {},
   "source": [
    "## Generate QV sequences\n",
    "\n",
    "We generate the quantum volume sequences. We start with a small example (so it doesn't take too long to run).\n"
   ]
  },
  {
   "cell_type": "code",
   "execution_count": 46,
   "metadata": {
    "scrolled": false
   },
   "outputs": [],
   "source": [
    "qv_circs, qv_circs_nomeas = qv.qv_circuits(qubit_lists, ntrials)"
   ]
  },
  {
   "cell_type": "code",
   "execution_count": 47,
   "metadata": {},
   "outputs": [],
   "source": [
    "#pass the circuits through the compiler so that the random SU(4) unitaries are converted to CNOTS\n",
    "for trial in range(ntrials):\n",
    "    qv_circs[trial] = qiskit.transpiler.transpile(qv_circs[trial])"
   ]
  },
  {
   "cell_type": "code",
   "execution_count": 48,
   "metadata": {},
   "outputs": [],
   "source": [
    "#pass the circuits through the compiler so that the random SU(4) unitaries are converted to CNOTS\n",
    "for trial in range(ntrials):\n",
    "    qv_circs_nomeas[trial] = qiskit.transpiler.transpile(qv_circs_nomeas[trial])"
   ]
  },
  {
   "cell_type": "markdown",
   "metadata": {},
   "source": [
    "As an example, we print the circuit corresponding to the first QV sequence. Note that the ideal circuits are run on the first n qubits (where n is the number of qubits in the subset)."
   ]
  },
  {
   "cell_type": "code",
   "execution_count": 49,
   "metadata": {},
   "outputs": [
    {
     "name": "stdout",
     "output_type": "stream",
     "text": [
      "         ┌─────────────────────────────┐     ┌─────────────────┐┌───┐»\n",
      "qr_0: |0>┤ U3(0.54283,0.61983,0.91792) ├──■──┤ U3(-2.8506,0,0) ├┤ X ├»\n",
      "         ├─────────────────────────────┤  │  └─────────────────┘└─┬─┘»\n",
      "qr_1: |0>┤   U3(2.2291,-1.344,-1.788)  ├──┼───────────────────────┼──»\n",
      "         ├─────────────────────────────┤┌─┴─┐┌─────────────────┐  │  »\n",
      "qr_2: |0>┤  U3(2.0525,4.5436,-1.5123)  ├┤ X ├┤  U3(0,0,3.1825) ├──■──»\n",
      "         └─────────────────────────────┘└───┘└─────────────────┘     »\n",
      " cr_0: 0 ════════════════════════════════════════════════════════════»\n",
      "                                                                     »\n",
      " cr_1: 0 ════════════════════════════════════════════════════════════»\n",
      "                                                                     »\n",
      " cr_2: 0 ════════════════════════════════════════════════════════════»\n",
      "                                                                     »\n",
      "«      ┌────────────────┐     ┌───────────────────────────┐»\n",
      "«qr_0: ┤ U3(1.1679,0,0) ├──■──┤ U3(1.3098,4.5078,0.97624) ├»\n",
      "«      └────────────────┘  │  └───────────────────────────┘»\n",
      "«qr_1: ────────────────────┼───────────────────────────────»\n",
      "«                        ┌─┴─┐┌───────────────────────────┐»\n",
      "«qr_2: ──────────────────┤ X ├┤ U3(2.9456,3.8567,-2.3487) ├»\n",
      "«                        └───┘└───────────────────────────┘»\n",
      "«cr_0: ════════════════════════════════════════════════════»\n",
      "«                                                          »\n",
      "«cr_1: ════════════════════════════════════════════════════»\n",
      "«                                                          »\n",
      "«cr_2: ════════════════════════════════════════════════════»\n",
      "«                                                          »\n",
      "«      ┌────────────────────────────┐┌───┐┌──────────────────┐     »\n",
      "«qr_0: ┤ U3(2.4354,-1.875,0.77733)  ├┤ X ├┤  U3(0,0,0.5391)  ├──■──»\n",
      "«      └────────────────────────────┘└─┬─┘└──────────────────┘  │  »\n",
      "«qr_1: ────────────────────────────────┼────────────────────────┼──»\n",
      "«      ┌────────────────────────────┐  │  ┌──────────────────┐┌─┴─┐»\n",
      "«qr_2: ┤ U3(2.6718,-2.5747,-1.4084) ├──■──┤ U3(-0.32103,0,0) ├┤ X ├»\n",
      "«      └────────────────────────────┘     └──────────────────┘└───┘»\n",
      "«cr_0: ════════════════════════════════════════════════════════════»\n",
      "«                                                                  »\n",
      "«cr_1: ════════════════════════════════════════════════════════════»\n",
      "«                                                                  »\n",
      "«cr_2: ════════════════════════════════════════════════════════════»\n",
      "«                                                                  »\n",
      "«                        ┌───┐┌─────────────────────────────┐»\n",
      "«qr_0: ──────────────────┤ X ├┤  U3(2.518,0.83538,-0.11891) ├»\n",
      "«                        └─┬─┘└─────────────────────────────┘»\n",
      "«qr_1: ────────────────────┼─────────────────────────────────»\n",
      "«      ┌────────────────┐  │  ┌─────────────────────────────┐»\n",
      "«qr_2: ┤ U3(1.6087,0,0) ├──■──┤ U3(0.41004,-2.8274,0.51233) ├»\n",
      "«      └────────────────┘     └─────────────────────────────┘»\n",
      "«cr_0: ══════════════════════════════════════════════════════»\n",
      "«                                                            »\n",
      "«cr_1: ══════════════════════════════════════════════════════»\n",
      "«                                                            »\n",
      "«cr_2: ══════════════════════════════════════════════════════»\n",
      "«                                                            »\n",
      "«      ┌────────────────────────────┐     ┌──────────────────┐┌───┐»\n",
      "«qr_0: ┤ U3(1.2992,-1.6259,-2.6677) ├──■──┤ U3(-0.48483,0,0) ├┤ X ├»\n",
      "«      └────────────────────────────┘┌─┴─┐├──────────────────┤└─┬─┘»\n",
      "«qr_1: ──────────────────────────────┤ X ├┤ U3(0,0,0.90317)  ├──■──»\n",
      "«                                    └───┘└──────────────────┘     »\n",
      "«qr_2: ────────────────────────────────────────────────────────────»\n",
      "«                                                                  »\n",
      "«cr_0: ════════════════════════════════════════════════════════════»\n",
      "«                                                                  »\n",
      "«cr_1: ════════════════════════════════════════════════════════════»\n",
      "«                                                                  »\n",
      "«cr_2: ════════════════════════════════════════════════════════════»\n",
      "«                                                                  »\n",
      "«      ┌────────────────┐     ┌─────────────────────────────┐\n",
      "«qr_0: ┤ U3(2.0031,0,0) ├──■──┤ U3(0.96408,-2.2105,-1.1172) ├\n",
      "«      └────────────────┘┌─┴─┐├─────────────────────────────┤\n",
      "«qr_1: ──────────────────┤ X ├┤  U3(1.8771,1.9927,-2.0644)  ├\n",
      "«                        └───┘└─────────────────────────────┘\n",
      "«qr_2: ──────────────────────────────────────────────────────\n",
      "«                                                            \n",
      "«cr_0: ══════════════════════════════════════════════════════\n",
      "«                                                            \n",
      "«cr_1: ══════════════════════════════════════════════════════\n",
      "«                                                            \n",
      "«cr_2: ══════════════════════════════════════════════════════\n",
      "«                                                            \n"
     ]
    }
   ],
   "source": [
    "print(qv_circs_nomeas[0][0])"
   ]
  },
  {
   "cell_type": "markdown",
   "metadata": {},
   "source": [
    "## Simulate the ideal circuits"
   ]
  },
  {
   "cell_type": "markdown",
   "metadata": {},
   "source": [
    "The quantum volume method requires that we know the ideal output for each circuit, so use the statevector simulator in Aer to get the ideal result."
   ]
  },
  {
   "cell_type": "code",
   "execution_count": 50,
   "metadata": {},
   "outputs": [
    {
     "name": "stdout",
     "output_type": "stream",
     "text": [
      "Simulating trial 0\n",
      "Simulating trial 1\n",
      "Simulating trial 2\n",
      "Simulating trial 3\n",
      "Simulating trial 4\n",
      "Simulating trial 5\n",
      "Simulating trial 6\n",
      "Simulating trial 7\n",
      "Simulating trial 8\n",
      "Simulating trial 9\n",
      "Simulating trial 10\n",
      "Simulating trial 11\n",
      "Simulating trial 12\n",
      "Simulating trial 13\n",
      "Simulating trial 14\n",
      "Simulating trial 15\n",
      "Simulating trial 16\n",
      "Simulating trial 17\n",
      "Simulating trial 18\n",
      "Simulating trial 19\n",
      "Simulating trial 20\n",
      "Simulating trial 21\n",
      "Simulating trial 22\n",
      "Simulating trial 23\n",
      "Simulating trial 24\n",
      "Simulating trial 25\n",
      "Simulating trial 26\n",
      "Simulating trial 27\n",
      "Simulating trial 28\n",
      "Simulating trial 29\n",
      "Simulating trial 30\n",
      "Simulating trial 31\n",
      "Simulating trial 32\n",
      "Simulating trial 33\n",
      "Simulating trial 34\n",
      "Simulating trial 35\n",
      "Simulating trial 36\n",
      "Simulating trial 37\n",
      "Simulating trial 38\n",
      "Simulating trial 39\n",
      "Simulating trial 40\n",
      "Simulating trial 41\n",
      "Simulating trial 42\n",
      "Simulating trial 43\n",
      "Simulating trial 44\n",
      "Simulating trial 45\n",
      "Simulating trial 46\n",
      "Simulating trial 47\n",
      "Simulating trial 48\n",
      "Simulating trial 49\n"
     ]
    }
   ],
   "source": [
    "#The Unitary is an identity (with a global phase)\n",
    "backend = qiskit.Aer.get_backend('statevector_simulator')\n",
    "ideal_results = []\n",
    "for trial in range(ntrials):\n",
    "    print('Simulating trial %d'%trial)\n",
    "    ideal_results.append(qiskit.execute(qv_circs_nomeas[trial], backend=backend).result())\n"
   ]
  },
  {
   "cell_type": "markdown",
   "metadata": {},
   "source": [
    "Next, load the ideal results into a quantum volume fitter"
   ]
  },
  {
   "cell_type": "code",
   "execution_count": 51,
   "metadata": {},
   "outputs": [],
   "source": [
    "qv_fitter = qv.QVFitter(qubit_lists=qubit_lists)\n",
    "qv_fitter.add_statevectors(ideal_results)"
   ]
  },
  {
   "cell_type": "markdown",
   "metadata": {},
   "source": [
    "## Define the noise model"
   ]
  },
  {
   "cell_type": "markdown",
   "metadata": {},
   "source": [
    "We define a noise model for the simulator. To simulate decay, we add depolarizing error probabilities to the CNOT and U gates."
   ]
  },
  {
   "cell_type": "code",
   "execution_count": 52,
   "metadata": {},
   "outputs": [],
   "source": [
    "noise_model = NoiseModel()\n",
    "p1Q = 0.002\n",
    "p2Q = 0.02\n",
    "noise_model.add_all_qubit_quantum_error(depolarizing_error(p1Q, 1), 'u2')\n",
    "noise_model.add_all_qubit_quantum_error(depolarizing_error(2*p1Q, 1), 'u3')\n",
    "noise_model.add_all_qubit_quantum_error(depolarizing_error(p2Q, 2), 'cx')\n",
    "#noise_model = None"
   ]
  },
  {
   "cell_type": "markdown",
   "metadata": {},
   "source": [
    "## Execute on Aer simulator\n",
    "\n",
    "We can execute the RB sequences either using Qiskit Aer Simulator (with some noise model) or using IBMQ provider, \n",
    "and obtain a list of results **result_list**."
   ]
  },
  {
   "cell_type": "code",
   "execution_count": 53,
   "metadata": {},
   "outputs": [
    {
     "name": "stdout",
     "output_type": "stream",
     "text": [
      "Running trial 0\n",
      "Running trial 1\n",
      "Running trial 2\n",
      "Running trial 3\n",
      "Running trial 4\n",
      "Running trial 5\n",
      "Running trial 6\n",
      "Running trial 7\n",
      "Running trial 8\n",
      "Running trial 9\n",
      "Running trial 10\n",
      "Running trial 11\n",
      "Running trial 12\n",
      "Running trial 13\n",
      "Running trial 14\n",
      "Running trial 15\n",
      "Running trial 16\n",
      "Running trial 17\n",
      "Running trial 18\n",
      "Running trial 19\n",
      "Running trial 20\n",
      "Running trial 21\n",
      "Running trial 22\n",
      "Running trial 23\n",
      "Running trial 24\n",
      "Running trial 25\n",
      "Running trial 26\n",
      "Running trial 27\n",
      "Running trial 28\n",
      "Running trial 29\n",
      "Running trial 30\n",
      "Running trial 31\n",
      "Running trial 32\n",
      "Running trial 33\n",
      "Running trial 34\n",
      "Running trial 35\n",
      "Running trial 36\n",
      "Running trial 37\n",
      "Running trial 38\n",
      "Running trial 39\n",
      "Running trial 40\n",
      "Running trial 41\n",
      "Running trial 42\n",
      "Running trial 43\n",
      "Running trial 44\n",
      "Running trial 45\n",
      "Running trial 46\n",
      "Running trial 47\n",
      "Running trial 48\n",
      "Running trial 49\n"
     ]
    }
   ],
   "source": [
    "backend = qiskit.Aer.get_backend('qasm_simulator')\n",
    "basis_gates = ['u1','u2','u3','cx'] # use U,CX for now\n",
    "shots = 1024\n",
    "exp_results = []\n",
    "for trial in range(ntrials):\n",
    "    print('Running trial %d'%trial)\n",
    "    exp_results.append(qiskit.execute(qv_circs[trial], basis_gates=basis_gates, backend=backend, noise_model=noise_model, backend_options={'max_parallel_experiments': 0}).result())"
   ]
  },
  {
   "cell_type": "markdown",
   "metadata": {},
   "source": [
    "Load the experimental data into the fitter. The data will keep accumulating if this is re-run (unless the fitter is re-instantiated)."
   ]
  },
  {
   "cell_type": "code",
   "execution_count": 61,
   "metadata": {},
   "outputs": [],
   "source": [
    "qv_fitter.add_data(exp_results)"
   ]
  },
  {
   "cell_type": "code",
   "execution_count": 56,
   "metadata": {},
   "outputs": [
    {
     "data": {
      "image/png": "[encoded data removed]",
      "text/plain": [
       "<Figure size 720x432 with 1 Axes>"
      ]
     },
     "metadata": {
      "needs_background": "light"
     },
     "output_type": "display_data"
    }
   ],
   "source": [
    "plt.figure(figsize=(10, 6))\n",
    "ax = plt.gca()\n",
    "\n",
    "# Plot the essence by calling plot_rb_data\n",
    "qv_fitter.plot_qv_data(ax=ax, show_plt=False)\n",
    "\n",
    "# Add title and label\n",
    "ax.set_title('Quantum Volume for up to %d Qubits \\n and %d Trials'%(len(qubit_lists[-1]), ntrials), fontsize=18)\n",
    "\n",
    "plt.show()"
   ]
  },
  {
   "cell_type": "markdown",
   "metadata": {},
   "source": [
    "## Quantum Volume\n",
    "List statistics for each depth. For each depth list if the depth was successful or not and with what confidence interval. For a depth to be sucessful the confidence interval must be > 97.5%."
   ]
  },
  {
   "cell_type": "code",
   "execution_count": 60,
   "metadata": {},
   "outputs": [
    {
     "name": "stdout",
     "output_type": "stream",
     "text": [
      "Width/depth 3 greater than 2/3 (0.794375) with confidence 0.987270 (successful). Quantum volume 8\n",
      "Width/depth 4 greater than 2/3 (0.716523) with confidence 0.782961 (unsuccessful).\n",
      "Width/depth 5 greater than 2/3 (0.703691) with confidence 0.716793 (unsuccessful).\n",
      "Width/depth 6 less than 2/3 (unsuccessful).\n"
     ]
    }
   ],
   "source": [
    "qv_success_list = qv_fitter.qv_success()\n",
    "qv_list = qv_fitter.ydata\n",
    "for qidx, qubit_list in enumerate(qubit_lists):\n",
    "    if qv_list[0][qidx]>2/3:\n",
    "        if qv_success_list[qidx][0]:\n",
    "            print(\"Width/depth %d greater than 2/3 (%f) with confidence %f (successful). Quantum volume %d\"%\n",
    "                  (len(qubit_list),qv_list[0][qidx],qv_success_list[qidx][1],qv_fitter.quantum_volume()[qidx]))\n",
    "        else:\n",
    "            print(\"Width/depth %d greater than 2/3 (%f) with confidence %f (unsuccessful).\"%\n",
    "                  (len(qubit_list),qv_list[0][qidx],qv_success_list[qidx][1]))\n",
    "    else:\n",
    "        print(\"Width/depth %d less than 2/3 (unsuccessful).\"%len(qubit_list))"
   ]
  },
  {
   "cell_type": "code",
   "execution_count": null,
   "metadata": {},
   "outputs": [],
   "source": []
  }
 ],
 "metadata": {
  "kernelspec": {
   "display_name": "Python 3",
   "language": "python",
   "name": "python3"
  },
  "language_info": {
   "codemirror_mode": {
    "name": "ipython",
    "version": 3
   },
   "file_extension": ".py",
   "mimetype": "text/x-python",
   "name": "python",
   "nbconvert_exporter": "python",
   "pygments_lexer": "ipython3",
   "version": "3.6.8"
  }
 },
 "nbformat": 4,
 "nbformat_minor": 2
}
