{
 "cells": [
  {
   "cell_type": "markdown",
   "metadata": {},
   "source": [
    "<img src=\"../../images/qiskit-heading.gif\" alt=\"Note: In order for images to show up in this jupyter notebook you need to select File => Trusted Notebook\" width=\"500 px\\\" align=\"left\">"
   ]
  },
  {
   "cell_type": "markdown",
   "metadata": {},
   "source": [
    "## Quantum Volume\n",
    "---\n",
    "\n",
    "* **Last Updated:** April 29, 2019\n",
    "* **Requires:** qiskit-terra 0.8, qiskit-ignis 0.1.1, qiskit-aer 0.1\n",
    "\n",
    "\n",
    "## Introduction\n",
    "\n",
    "**Quantum Volume (QV)** is a method to verify device performance and a metric to quantify the computational power of a quantum device.  The method is based on the paper \"Validating quantum computers using randomized model circuits\" (https://arxiv.org/abs/1811.12926). \n",
    "\n",
    "This notebook gives an example for how to use the ``ignis.verification.quantum_volume`` module. This particular example shows how to run up to depth 6 quantum volume circuits and will run them using the noisy Aer simulator."
   ]
  },
  {
   "cell_type": "code",
   "execution_count": 70,
   "metadata": {},
   "outputs": [],
   "source": [
    "#Import general libraries (needed for functions)\n",
    "import numpy as np\n",
    "import matplotlib.pyplot as plt\n",
    "from IPython import display\n",
    "\n",
    "#Import Qiskit classes classes\n",
    "import qiskit\n",
    "from qiskit.providers.aer.noise import NoiseModel\n",
    "from qiskit.providers.aer.noise.errors.standard_errors import depolarizing_error, thermal_relaxation_error\n",
    "\n",
    "#Import the qv function.\n",
    "import qiskit.ignis.verification.quantum_volume as qv"
   ]
  },
  {
   "cell_type": "markdown",
   "metadata": {},
   "source": [
    "## Select the Parameters of the QV Run\n",
    "\n",
    "In this example we have 6 qubits Q0,Q1,Q3,Q5,Q7,Q10. We are going to look at subsets up to the full set."
   ]
  },
  {
   "cell_type": "code",
   "execution_count": 71,
   "metadata": {},
   "outputs": [],
   "source": [
    "#Qubit list\n",
    "qubit_lists = [[0,1,3],[0,1,3,5],[0,1,3,5,7],[0,1,3,5,7,10]]\n",
    "ntrials = 10"
   ]
  },
  {
   "cell_type": "markdown",
   "metadata": {},
   "source": [
    "## Generate QV sequences\n",
    "\n",
    "We generate the quantum volume sequences. We start with a small example (so it doesn't take too long to run).\n"
   ]
  },
  {
   "cell_type": "code",
   "execution_count": 72,
   "metadata": {
    "scrolled": false
   },
   "outputs": [],
   "source": [
    "qv_circs, qv_circs_nomeas = qv.qv_circuits(qubit_lists, ntrials)"
   ]
  },
  {
   "cell_type": "code",
   "execution_count": 73,
   "metadata": {},
   "outputs": [],
   "source": [
    "#pass the circuits through the compiler so that the random SU(4) unitaries are converted to CNOTS\n",
    "for trial in range(ntrials):\n",
    "    qv_circs[trial] = qiskit.transpiler.transpile(qv_circs[trial])"
   ]
  },
  {
   "cell_type": "code",
   "execution_count": 74,
   "metadata": {},
   "outputs": [],
   "source": [
    "#pass the circuits through the compiler so that the random SU(4) unitaries are converted to CNOTS\n",
    "for trial in range(ntrials):\n",
    "    qv_circs_nomeas[trial] = qiskit.transpiler.transpile(qv_circs_nomeas[trial])"
   ]
  },
  {
   "cell_type": "markdown",
   "metadata": {},
   "source": [
    "As an example, we print the circuit corresponding to the first QV sequence. Note that the ideal circuits are run on the first n qubits (where n is the number of qubits in the subset)."
   ]
  },
  {
   "cell_type": "code",
   "execution_count": 75,
   "metadata": {},
   "outputs": [
    {
     "name": "stdout",
     "output_type": "stream",
     "text": [
      "         ┌─────────────────────────────┐     ┌──────────────────┐┌───┐»\n",
      "qr_0: |0>┤ U3(2.7006,-2.9208,-0.42694) ├──■──┤ U3(-0.18929,0,0) ├┤ X ├»\n",
      "         ├─────────────────────────────┤  │  └──────────────────┘└─┬─┘»\n",
      "qr_1: |0>┤   U3(1.9372,1.6782,-2.428)  ├──┼────────────────────────┼──»\n",
      "         ├─────────────────────────────┤┌─┴─┐┌──────────────────┐  │  »\n",
      "qr_2: |0>┤  U3(1.9996,-1.0964,2.0547)  ├┤ X ├┤ U3(0,0,0.58297)  ├──■──»\n",
      "         └─────────────────────────────┘└───┘└──────────────────┘     »\n",
      " cr_0: 0 ═════════════════════════════════════════════════════════════»\n",
      "                                                                      »\n",
      " cr_1: 0 ═════════════════════════════════════════════════════════════»\n",
      "                                                                      »\n",
      " cr_2: 0 ═════════════════════════════════════════════════════════════»\n",
      "                                                                      »\n",
      "«      ┌────────────────┐     ┌─────────────────────────────┐»\n",
      "«qr_0: ┤ U3(2.1863,0,0) ├──■──┤ U3(2.4835,5.1943,-0.039892) ├»\n",
      "«      └────────────────┘  │  └─────────────────────────────┘»\n",
      "«qr_1: ────────────────────┼─────────────────────────────────»\n",
      "«                        ┌─┴─┐┌─────────────────────────────┐»\n",
      "«qr_2: ──────────────────┤ X ├┤ U3(1.8796,-1.4344,-0.82779) ├»\n",
      "«                        └───┘└─────────────────────────────┘»\n",
      "«cr_0: ══════════════════════════════════════════════════════»\n",
      "«                                                            »\n",
      "«cr_1: ══════════════════════════════════════════════════════»\n",
      "«                                                            »\n",
      "«cr_2: ══════════════════════════════════════════════════════»\n",
      "«                                                            »\n",
      "«      ┌──────────────────────────┐┌───┐┌──────────────────┐     »\n",
      "«qr_0: ┤ U3(1.801,3.6075,-2.1983) ├┤ X ├┤ U3(0,0,-0.62784) ├──■──»\n",
      "«      └──────────────────────────┘└─┬─┘└──────────────────┘  │  »\n",
      "«qr_1: ──────────────────────────────┼────────────────────────┼──»\n",
      "«      ┌──────────────────────────┐  │  ┌──────────────────┐┌─┴─┐»\n",
      "«qr_2: ┤ U3(2.5835,2.008,-1.6588) ├──■──┤  U3(1.027,0,0)   ├┤ X ├»\n",
      "«      └──────────────────────────┘     └──────────────────┘└───┘»\n",
      "«cr_0: ══════════════════════════════════════════════════════════»\n",
      "«                                                                »\n",
      "«cr_1: ══════════════════════════════════════════════════════════»\n",
      "«                                                                »\n",
      "«cr_2: ══════════════════════════════════════════════════════════»\n",
      "«                                                                »\n",
      "«                        ┌───┐┌─────────────────────────────┐»\n",
      "«qr_0: ──────────────────┤ X ├┤  U3(2.0098,-2.9584,2.1546)  ├»\n",
      "«                        └─┬─┘└─────────────────────────────┘»\n",
      "«qr_1: ────────────────────┼─────────────────────────────────»\n",
      "«      ┌────────────────┐  │  ┌─────────────────────────────┐»\n",
      "«qr_2: ┤ U3(3.3182,0,0) ├──■──┤ U3(2.2919,-0.059777,5.1802) ├»\n",
      "«      └────────────────┘     └─────────────────────────────┘»\n",
      "«cr_0: ══════════════════════════════════════════════════════»\n",
      "«                                                            »\n",
      "«cr_1: ══════════════════════════════════════════════════════»\n",
      "«                                                            »\n",
      "«cr_2: ══════════════════════════════════════════════════════»\n",
      "«                                                            »\n",
      "«      ┌─────────────────────────┐┌───┐┌─────────────────┐     »\n",
      "«qr_0: ┤ U3(2.34,2.2553,-2.2577) ├┤ X ├┤  U3(0,0,4.0339) ├──■──»\n",
      "«      └─────────────────────────┘└─┬─┘├─────────────────┤┌─┴─┐»\n",
      "«qr_1: ─────────────────────────────■──┤ U3(-3.1808,0,0) ├┤ X ├»\n",
      "«                                      └─────────────────┘└───┘»\n",
      "«qr_2: ────────────────────────────────────────────────────────»\n",
      "«                                                              »\n",
      "«cr_0: ════════════════════════════════════════════════════════»\n",
      "«                                                              »\n",
      "«cr_1: ════════════════════════════════════════════════════════»\n",
      "«                                                              »\n",
      "«cr_2: ════════════════════════════════════════════════════════»\n",
      "«                                                              »\n",
      "«                          ┌───┐┌────────────────────────────┐\n",
      "«qr_0: ────────────────────┤ X ├┤ U3(0.23337,3.3914,-1.2467) ├\n",
      "«      ┌──────────────────┐└─┬─┘├────────────────────────────┤\n",
      "«qr_1: ┤ U3(-0.38368,0,0) ├──■──┤  U3(1.5339,-2.186,3.3066)  ├\n",
      "«      └──────────────────┘     └────────────────────────────┘\n",
      "«qr_2: ───────────────────────────────────────────────────────\n",
      "«                                                             \n",
      "«cr_0: ═══════════════════════════════════════════════════════\n",
      "«                                                             \n",
      "«cr_1: ═══════════════════════════════════════════════════════\n",
      "«                                                             \n",
      "«cr_2: ═══════════════════════════════════════════════════════\n",
      "«                                                             \n"
     ]
    }
   ],
   "source": [
    "print(qv_circs_nomeas[0][0])"
   ]
  },
  {
   "cell_type": "markdown",
   "metadata": {},
   "source": [
    "## Simulate the ideal circuits"
   ]
  },
  {
   "cell_type": "markdown",
   "metadata": {},
   "source": [
    "The quantum volume method requires that we know the ideal output for each circuit, so use the statevector simulator in Aer to get the ideal result."
   ]
  },
  {
   "cell_type": "code",
   "execution_count": 76,
   "metadata": {},
   "outputs": [
    {
     "name": "stdout",
     "output_type": "stream",
     "text": [
      "Simulating trial 0\n",
      "Simulating trial 1\n",
      "Simulating trial 2\n",
      "Simulating trial 3\n",
      "Simulating trial 4\n",
      "Simulating trial 5\n",
      "Simulating trial 6\n",
      "Simulating trial 7\n",
      "Simulating trial 8\n",
      "Simulating trial 9\n"
     ]
    }
   ],
   "source": [
    "#The Unitary is an identity (with a global phase)\n",
    "backend = qiskit.Aer.get_backend('statevector_simulator')\n",
    "ideal_results = []\n",
    "for trial in range(ntrials):\n",
    "    print('Simulating trial %d'%trial)\n",
    "    ideal_results.append(qiskit.execute(qv_circs_nomeas[trial], backend=backend).result())\n"
   ]
  },
  {
   "cell_type": "markdown",
   "metadata": {},
   "source": [
    "Next, load the ideal results into a quantum volume fitter"
   ]
  },
  {
   "cell_type": "code",
   "execution_count": 77,
   "metadata": {},
   "outputs": [],
   "source": [
    "qv_fitter = qv.QVFitter(qubit_lists=qubit_lists)\n",
    "qv_fitter.add_statevectors(ideal_results)"
   ]
  },
  {
   "cell_type": "markdown",
   "metadata": {},
   "source": [
    "## Define the noise model"
   ]
  },
  {
   "cell_type": "markdown",
   "metadata": {},
   "source": [
    "We define a noise model for the simulator. To simulate decay, we add depolarizing error probabilities to the CNOT and U gates."
   ]
  },
  {
   "cell_type": "code",
   "execution_count": 78,
   "metadata": {},
   "outputs": [],
   "source": [
    "noise_model = NoiseModel()\n",
    "p1Q = 0.002\n",
    "p2Q = 0.02\n",
    "noise_model.add_all_qubit_quantum_error(depolarizing_error(p1Q, 1), 'u2')\n",
    "noise_model.add_all_qubit_quantum_error(depolarizing_error(2*p1Q, 1), 'u3')\n",
    "noise_model.add_all_qubit_quantum_error(depolarizing_error(p2Q, 2), 'cx')\n",
    "#noise_model = None"
   ]
  },
  {
   "cell_type": "markdown",
   "metadata": {},
   "source": [
    "## Execute on Aer simulator\n",
    "\n",
    "We can execute the RB sequences either using Qiskit Aer Simulator (with some noise model) or using IBMQ provider, \n",
    "and obtain a list of results **result_list**."
   ]
  },
  {
   "cell_type": "code",
   "execution_count": 79,
   "metadata": {},
   "outputs": [
    {
     "name": "stdout",
     "output_type": "stream",
     "text": [
      "Running trial 0\n",
      "Running trial 1\n",
      "Running trial 2\n",
      "Running trial 3\n",
      "Running trial 4\n",
      "Running trial 5\n",
      "Running trial 6\n",
      "Running trial 7\n",
      "Running trial 8\n",
      "Running trial 9\n"
     ]
    }
   ],
   "source": [
    "backend = qiskit.Aer.get_backend('qasm_simulator')\n",
    "basis_gates = ['u1','u2','u3','cx'] # use U,CX for now\n",
    "shots = 1024\n",
    "exp_results = []\n",
    "for trial in range(ntrials):\n",
    "    print('Running trial %d'%trial)\n",
    "    exp_results.append(qiskit.execute(qv_circs[trial], basis_gates=basis_gates, backend=backend, noise_model=noise_model, backend_options={'max_parallel_experiments': 0}).result())"
   ]
  },
  {
   "cell_type": "markdown",
   "metadata": {},
   "source": [
    "Load the experimental data into the fitter. The data will keep accumulating if this is re-run (unless the fitter is re-instantiated)."
   ]
  },
  {
   "cell_type": "code",
   "execution_count": 80,
   "metadata": {},
   "outputs": [],
   "source": [
    "qv_fitter.add_data(exp_results)"
   ]
  },
  {
   "cell_type": "code",
   "execution_count": 81,
   "metadata": {},
   "outputs": [
    {
     "data": {
      "image/png": "[encoded data removed]",
      "text/plain": [
       "<Figure size 720x432 with 1 Axes>"
      ]
     },
     "metadata": {
      "needs_background": "light"
     },
     "output_type": "display_data"
    }
   ],
   "source": [
    "plt.figure(figsize=(10, 6))\n",
    "ax = plt.gca()\n",
    "\n",
    "# Plot the essence by calling plot_rb_data\n",
    "qv_fitter.plot_qv_data(ax=ax, show_plt=False)\n",
    "\n",
    "# Add title and label\n",
    "ax.set_title('Quantum Volume for up to %d Qubits \\n and %d Trials'%(len(qubit_lists[-1]), ntrials), fontsize=18)\n",
    "\n",
    "plt.show()"
   ]
  },
  {
   "cell_type": "markdown",
   "metadata": {},
   "source": [
    "## Quantum Volume\n",
    "List statistics for each depth. For each depth list if the depth was successful or not and with what confidence interval."
   ]
  },
  {
   "cell_type": "code",
   "execution_count": 82,
   "metadata": {},
   "outputs": [
    {
     "name": "stdout",
     "output_type": "stream",
     "text": [
      "Width/depth 3 successful with confidence 0.977237. Quantum volume is 8\n",
      "Width/depth 4 successful with confidence 0.892408. Quantum volume is 16\n",
      "Width/depth 5 successful with confidence 0.811694. Quantum volume is 32\n",
      "Width/depth 6 unsuccessfull\n"
     ]
    }
   ],
   "source": [
    "qv_success_list = qv_fitter.qv_success()\n",
    "for qidx, qubit_list in enumerate(qubit_lists):\n",
    "    if qv_success_list[qidx][0]:\n",
    "        print(\"Width/depth %d successful with confidence %f. Quantum volume is %d\"%\n",
    "              (len(qubit_list),qv_success_list[qidx][1],qv_fitter.quantum_volume()[qidx]))\n",
    "    else:\n",
    "        print(\"Width/depth %d unsuccessfull\"%len(qubit_list))"
   ]
  },
  {
   "cell_type": "code",
   "execution_count": null,
   "metadata": {},
   "outputs": [],
   "source": []
  }
 ],
 "metadata": {
  "kernelspec": {
   "display_name": "Python 3",
   "language": "python",
   "name": "python3"
  },
  "language_info": {
   "codemirror_mode": {
    "name": "ipython",
    "version": 3
   },
   "file_extension": ".py",
   "mimetype": "text/x-python",
   "name": "python",
   "nbconvert_exporter": "python",
   "pygments_lexer": "ipython3",
   "version": "3.6.8"
  }
 },
 "nbformat": 4,
 "nbformat_minor": 2
}
