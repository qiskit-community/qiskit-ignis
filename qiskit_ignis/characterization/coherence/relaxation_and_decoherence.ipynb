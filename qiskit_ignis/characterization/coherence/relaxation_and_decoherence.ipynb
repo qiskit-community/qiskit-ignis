{
 "cells": [
  {
   "cell_type": "markdown",
   "metadata": {},
   "source": [
    "<img src=\"../../images/qiskit-heading.gif\" alt=\"Note: In order for images to show up in this jupyter notebook you need to select File => Trusted Notebook\" width=\"500 px\" align=\"left\">"
   ]
  },
  {
   "cell_type": "markdown",
   "metadata": {},
   "source": [
    "## _*Relaxation and Decoherence*_ \n",
    "\n",
    "The latest version of this notebook is available on https://github.com/qiskit/qiskit-tutorial.\n",
    "\n",
    "***\n",
    "### Contributors\n",
    "Martin Sandberg, Hanhee Paik, Antonio Córcoles, Doug McClure, Jay Gambetta, and Yael Ben-Haim"
   ]
  },
  {
   "cell_type": "markdown",
   "metadata": {},
   "source": [
    "## Introduction\n",
    "\n",
    "In an ideal world, quantum systems would be well-isolated from their environment, which prevents unwanted dynamics of the quantum information we encode in them. For example, suppose we prepared a qubit in the $|1\\rangle$ state, but through interaction with the environment, the state is flipped to $|0\\rangle$. That flip could affect the outcome of a quantum algorithm that's being run using that qubit, meaning the answers we get out of the quantum device would change. For this reason, we seek to isolate quantum computers from the surrounding environment.\n",
    "\n",
    "However, perfect isolation is not possible: after all, we have to be able to control the quantum computer, which means coupling it to external systems to manipulate quantum information. This tradeoff is sometimes referred to as the \"Tao of quantum computing\". Because our controls introduce coupling between qubits and the environment, we expect some unwanted interactions can occur.\n",
    "\n",
    "These unwanted interactions introduce _noise_ into the qubits, which affects their behavior. The rate of these interactions sets characteristic timescales over which information encoded in qubits can be reliably stored and manipulated. (If the interaction has a rate $\\Gamma$, the characteristic timescale is $\\sim 1/\\Gamma$.) In this tutorial, we discuss two timescales that arise from energy relaxation and decoherence -- usually referred to as $T_{1}$ and $T_{2}$, respectively -- and show how they can be measured.\n",
    "\n",
    "**Contents**\n",
    "\n",
    "[Measuring $T_{1}$ time](#t1)\n",
    "\n",
    "<a href='#t2star'>Measuring $T_{2}^{\\star}$ time</a>"
   ]
  },
  {
   "cell_type": "markdown",
   "metadata": {},
   "source": [
    "# Measuring $T_1$ time\n",
    "\n",
    "**Theory**\n",
    "\n",
    "The $T_{1}$ time is the characteristic timescale over which the state of a qubit damps toward the $|0\\rangle$ state. Given an arbitrary initial single-qubit state $\\rho(0)$, represented by a $2\\times 2$ matrix as\n",
    "$$\\rho(0) = \\begin{pmatrix}\\rho_{00} & \\rho_{01} \\\\ \\rho_{01}^{\\star} & \\rho_{11}\\end{pmatrix},$$\n",
    "under amplitude damping noise, the state of the changes as\n",
    "$$\\rho(t) = \\begin{pmatrix}\\rho_{00} + (1-e^{-\\Gamma_{1}t})\\rho_{11} & e^{-\\Gamma_{1}t/2}\\rho_{01} \\\\ e^{-\\Gamma_{1}t/2}\\rho_{01}^{\\star} & e^{-\\Gamma_{1} t}\\rho_{11}\\end{pmatrix} \\underset{t\\rightarrow \\infty}{\\longrightarrow} |0\\rangle\\langle 0|.$$\n",
    "\n",
    "Notice that amplitude damping noise also removes any coherences between $|0\\rangle$ and $|1\\rangle$ of the state (the off-diagonal elements.) The rate at which this _decoherence_ occurs is half that of $\\Gamma_{1}$.\n",
    "\n",
    "The time evolution of the state under amplitude damping noise can be derived as the continuous-time limit of an amplitude damping channel\n",
    "$$\\mathcal{E}[\\rho] = M_{0} \\rho M_{0}^{\\dagger} + M_{1}\\rho M_{1}^{\\dagger},$$\n",
    "where\n",
    "$$M_{0} = \\begin{pmatrix} 1 & 0 \\\\0& \\sqrt{1-p}\\end{pmatrix}~,~M_{1} = \\begin{pmatrix} 0 & \\sqrt{p} \\\\ 0 & 0 \\end{pmatrix},$$\n",
    "and the probability of decay $p$ is $\\Gamma_{1}\\Delta t$.\n",
    "\n",
    "The decay rate $\\Gamma_{1}$ sets a natural time scale for the decay process; namely, $\\Gamma^{-1}$. This number is often called the $T_{1}$ time. Notice the off-diagonal elements also decay, with characteristic decay rate $\\Gamma /2$.\n",
    "\n",
    "Notice that the probability of the qubit remaining in the $|1\\rangle$ state is given by\n",
    "\n",
    "$$P_{1}(t) = \\mathrm{Tr}\\left[|1\\rangle\\langle 1| \\rho(t)\\right] = e^{-\\Gamma_{1} t}\\rho_{11}.$$\n",
    "\n",
    "If the qubit was prepared in the $|1\\rangle$ state, then $P_{1}(t) =e^{-\\Gamma_{1} t}$.\n",
    "\n",
    "A simple way of estimating the $T_{1}$ time is to collect statistics about the decay curve for $P_{1}(t)$ when the qubit is initialized to $|1\\rangle$. This can be done by choosing a variety of times $t_{1}, t_{2}, \\cdots t_{N}$, and then running the following experiment many times:\n",
    "* Prepare the qubit in $|1\\rangle$.\n",
    "* Wait a delay time $t_{j}$.\n",
    "* Measure the qubit in the $|0\\rangle, |1\\rangle$ basis.\n",
    "\n",
    "An estimate of $P_{1}(t_{j})$ is the number of times the qubit was observed to be in $|1\\rangle$, divided by the total number of times the experiment was repeated. Given several estimated values of $P_{1}$ for a variety of $(t_{j})$, we can fit the resulting decay curve is fit to an exponential and extract an estimate of $\\Gamma_{1}$, and hence, the $T_{1}$ time.\n",
    "\n",
    "The IBM Q Experience does not currently support delays of arbitrary length, so for now, we just append a series of identity operations after the initial excitation pulse. Each identity operation has the same duration of a single-qubit gate and is followed by a -shorter- buffer time. These parameters are backend-dependent.\n",
    "\n",
    "**Code**\n",
    "\n",
    "The code blocks below walk through constructing the requisite experiments to estimate the $T_{1}$ time of a qubit, sending those experiments to a simulator, and then fitting the data the simulator sends back."
   ]
  },
  {
   "cell_type": "code",
   "execution_count": 2,
   "metadata": {
    "ExecuteTime": {
     "end_time": "2018-12-18T15:34:52.275440Z",
     "start_time": "2018-12-18T15:32:05.667514Z"
    }
   },
   "outputs": [],
   "source": [
    "import numpy as np\n",
    "from qiskit_ignis.characterization.coherence.generators.t1 import \\\n",
    "     t1_generate_circuits_bygates as t1gen\n",
    "\n",
    "# 17 numbers ranging from 100 to 1000, logarithmically spaced\n",
    "num_of_gates = (np.logspace(2, 3, 10)).astype(int)\n",
    "gate_time = 0.1\n",
    "num_of_qubits = 1\n",
    "\n",
    "# Select the qubit whose T1 is to be measured\n",
    "qubit = 0\n",
    "\n",
    "# Generate experiments\n",
    "circs, xdata = t1gen(num_of_gates, gate_time, num_of_qubits, qubit)"
   ]
  },
  {
   "cell_type": "code",
   "execution_count": 4,
   "metadata": {},
   "outputs": [],
   "source": [
    "import qiskit\n",
    "from qiskit.providers.aer.noise.errors.standard_errors import amplitude_damping_error\n",
    "from qiskit.providers.aer.noise import NoiseModel\n",
    "\n",
    "# Set the simulator with amplitude damping noise\n",
    "t1 = 50\n",
    "gamma = 1 - np.exp(-gate_time/t1)\n",
    "error = amplitude_damping_error(gamma)\n",
    "noise_model = NoiseModel()\n",
    "noise_model.add_all_qubit_quantum_error(error, 'id')\n",
    "\n",
    "# Run the simulator\n",
    "backend = qiskit.Aer.get_backend('qasm_simulator')\n",
    "shots = 300\n",
    "backend_result = qiskit.execute(circs, backend,\n",
    "                                shots=shots, noise_model=noise_model).result()"
   ]
  },
  {
   "cell_type": "code",
   "execution_count": 9,
   "metadata": {},
   "outputs": [
    {
     "name": "stdout",
     "output_type": "stream",
     "text": [
      "47.541320396842856\n"
     ]
    },
    {
     "data": {
      "image/png": "[encoded data removed]",
      "text/plain": [
       "<matplotlib.figure.Figure at 0x7fcaa2732860>"
      ]
     },
     "metadata": {
      "needs_background": "light"
     },
     "output_type": "display_data"
    }
   ],
   "source": [
    "%matplotlib inline\n",
    "from qiskit_ignis.characterization.coherence.fitters.t1fitter import T1Fitter\n",
    "\n",
    "# Fit the data to an exponential\n",
    "# The correct answers are a=1, t1=50, and c=0\n",
    "# The user does not know the correct answer exactly,\n",
    "# so starts the fit from a different but close location\n",
    "initial_t1 = t1 + 20\n",
    "initial_a = 1.5\n",
    "initial_c = 0.5\n",
    "\n",
    "fit = T1Fitter(backend_result, shots, xdata, num_of_qubits, qubit,\n",
    "               fit_p0=[initial_a, initial_t1, initial_c],\n",
    "               fit_bounds=([0, t1-30, -1], [2, t1+30, 1]))\n",
    "\n",
    "# 'fit' contains information about the T1 esimate\n",
    "# For example, we can print the esitmated T1:\n",
    "print(fit.time)\n",
    "# Or display the information in a figure\n",
    "fit.plot_coherence()"
   ]
  }
 ],
 "metadata": {
  "anaconda-cloud": {},
  "hide_input": false,
  "kernelspec": {
   "display_name": "Python 3",
   "language": "python",
   "name": "python3"
  },
  "language_info": {
   "codemirror_mode": {
    "name": "ipython",
    "version": 3
   },
   "file_extension": ".py",
   "mimetype": "text/x-python",
   "name": "python",
   "nbconvert_exporter": "python",
   "pygments_lexer": "ipython3",
   "version": "3.6.5"
  }
 },
 "nbformat": 4,
 "nbformat_minor": 2
}
